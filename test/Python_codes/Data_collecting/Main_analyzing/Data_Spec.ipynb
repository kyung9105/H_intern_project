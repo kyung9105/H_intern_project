{
 "cells": [
  {
   "cell_type": "code",
   "execution_count": 35,
   "metadata": {
    "collapsed": true
   },
   "outputs": [],
   "source": [
    "import urllib.request, json\n",
    "import pandas as pd\n",
    "import numpy as np\n",
    "import os"
   ]
  },
  {
   "cell_type": "code",
   "execution_count": 33,
   "metadata": {
    "collapsed": false
   },
   "outputs": [
    {
     "data": {
      "text/plain": [
       "'C:\\\\Users\\\\kb910\\\\Google 드라이브\\\\경배끄10\\\\인턴\\\\csv파일\\\\판매량'"
      ]
     },
     "execution_count": 33,
     "metadata": {},
     "output_type": "execute_result"
    }
   ],
   "source": [
    "os.getcwd()"
   ]
  },
  {
   "cell_type": "code",
   "execution_count": 26,
   "metadata": {
    "collapsed": false,
    "scrolled": true
   },
   "outputs": [],
   "source": [
    "os.chdir('C:\\\\Users\\\\kb910\\\\Google 드라이브\\\\경배끄10\\\\인턴\\\\csv파일\\\\판매량')\n",
    "data =open('final_all_sell(year).json').read()\n",
    "data = pd.DataFrame(json.loads(data))"
   ]
  },
  {
   "cell_type": "code",
   "execution_count": 27,
   "metadata": {
    "collapsed": false
   },
   "outputs": [
    {
     "data": {
      "text/html": [
       "<div>\n",
       "<table border=\"1\" class=\"dataframe\">\n",
       "  <thead>\n",
       "    <tr style=\"text-align: right;\">\n",
       "      <th></th>\n",
       "      <th>Brand</th>\n",
       "      <th>GLOBAL_MODEL</th>\n",
       "      <th>GLOBAL_SEGMENT</th>\n",
       "      <th>Strategic Group</th>\n",
       "      <th>Y2012</th>\n",
       "      <th>Y2013</th>\n",
       "      <th>Y2014</th>\n",
       "      <th>Y2015</th>\n",
       "      <th>Y2016</th>\n",
       "    </tr>\n",
       "  </thead>\n",
       "  <tbody>\n",
       "    <tr>\n",
       "      <th>237</th>\n",
       "      <td>Toyota</td>\n",
       "      <td>Tacoma</td>\n",
       "      <td>PUP-C</td>\n",
       "      <td>Toyota</td>\n",
       "      <td>141354</td>\n",
       "      <td>159485</td>\n",
       "      <td>155042</td>\n",
       "      <td>179564</td>\n",
       "      <td>191632</td>\n",
       "    </tr>\n",
       "    <tr>\n",
       "      <th>33</th>\n",
       "      <td>Chevrolet</td>\n",
       "      <td>Colorado</td>\n",
       "      <td>PUP-C</td>\n",
       "      <td>GM</td>\n",
       "      <td>36840</td>\n",
       "      <td>3412</td>\n",
       "      <td>8003</td>\n",
       "      <td>84430</td>\n",
       "      <td>108725</td>\n",
       "    </tr>\n",
       "    <tr>\n",
       "      <th>357</th>\n",
       "      <td>Honda</td>\n",
       "      <td>Ridgeline</td>\n",
       "      <td>PUP-C</td>\n",
       "      <td>Honda</td>\n",
       "      <td>14068</td>\n",
       "      <td>17723</td>\n",
       "      <td>13389</td>\n",
       "      <td>520</td>\n",
       "      <td>23668</td>\n",
       "    </tr>\n",
       "    <tr>\n",
       "      <th>399</th>\n",
       "      <td>Nissan</td>\n",
       "      <td>Frontier</td>\n",
       "      <td>PUP-C</td>\n",
       "      <td>Renault-Nissan</td>\n",
       "      <td>55435</td>\n",
       "      <td>62837</td>\n",
       "      <td>74323</td>\n",
       "      <td>62817</td>\n",
       "      <td>86926</td>\n",
       "    </tr>\n",
       "    <tr>\n",
       "      <th>54</th>\n",
       "      <td>GMC</td>\n",
       "      <td>Canyon</td>\n",
       "      <td>PUP-C</td>\n",
       "      <td>GM</td>\n",
       "      <td>8735</td>\n",
       "      <td>929</td>\n",
       "      <td>3070</td>\n",
       "      <td>30077</td>\n",
       "      <td>37449</td>\n",
       "    </tr>\n",
       "  </tbody>\n",
       "</table>\n",
       "</div>"
      ],
      "text/plain": [
       "         Brand GLOBAL_MODEL GLOBAL_SEGMENT Strategic Group   Y2012   Y2013  \\\n",
       "237     Toyota       Tacoma          PUP-C          Toyota  141354  159485   \n",
       "33   Chevrolet     Colorado          PUP-C              GM   36840    3412   \n",
       "357      Honda    Ridgeline          PUP-C           Honda   14068   17723   \n",
       "399     Nissan     Frontier          PUP-C  Renault-Nissan   55435   62837   \n",
       "54         GMC       Canyon          PUP-C              GM    8735     929   \n",
       "\n",
       "      Y2014   Y2015   Y2016  \n",
       "237  155042  179564  191632  \n",
       "33     8003   84430  108725  \n",
       "357   13389     520   23668  \n",
       "399   74323   62817   86926  \n",
       "54     3070   30077   37449  "
      ]
     },
     "execution_count": 27,
     "metadata": {},
     "output_type": "execute_result"
    }
   ],
   "source": [
    "PUP_C  = data[data['GLOBAL_SEGMENT'] =='PUP-C']\n",
    "PUP_C = PUP_C[PUP_C['Y2016'] != 0]\n",
    "PUP_C"
   ]
  },
  {
   "cell_type": "markdown",
   "metadata": {},
   "source": [
    "# 수집할 feature 정하기"
   ]
  },
  {
   "cell_type": "markdown",
   "metadata": {},
   "source": [
    "# SPEC 수집하기"
   ]
  },
  {
   "cell_type": "code",
   "execution_count": 36,
   "metadata": {
    "collapsed": true
   },
   "outputs": [],
   "source": [
    "os.chdir('C:\\\\Users\\\\kb910\\\\Google 드라이브\\\\경배끄10\\\\인턴\\\\csv파일\\\\spec')"
   ]
  },
  {
   "cell_type": "code",
   "execution_count": 37,
   "metadata": {
    "collapsed": true
   },
   "outputs": [],
   "source": [
    "pre_dummy = pd.DataFrame(np.arange(1).reshape(1,1))"
   ]
  },
  {
   "cell_type": "code",
   "execution_count": 42,
   "metadata": {
    "collapsed": false
   },
   "outputs": [],
   "source": [
    "make_name = 'nissan'\n",
    "model_name = 'pathfinder'\n",
    "year = 2017\n",
    "url = urllib.request.urlopen(\"https://api.edmunds.com/api/vehicle/v2/\"+make_name+\"/\"+model_name+\"/\"+str(year)+\"/styles?fmt=json&api_key=zmhe9zsjfph8rmpepqs97ay3&view=full\")\n",
    "spec_test = json.loads(url.read())\n",
    "spec_table = pd.DataFrame(spec_test['styles'])\n",
    "spec_table['model_name'] = model_name\n",
    "spec_table['make_name'] = make_name\n",
    "\n",
    "spec_table_2 = spec_table[['model_name','make_name','trim','price','engine','MPG', 'transmission','drivenWheels','numOfDoors','options','year']]\n",
    "spec_table_2.index = [model_name +'_'+ str(x) for x in range(len(spec_table_2))]\n",
    "prcie_test = pd.read_json(spec_table_2['price'].to_json(), orient='index')\n",
    "engine_test = pd.read_json(spec_table_2['engine'].to_json(), orient='index')\n",
    "engine_test2 = pd.read_json(engine_test['valve'].to_json(), orient='index')\n",
    "engine_test4 = pd.read_json(engine_test['rpm'].to_json(), orient='index')\n",
    "engine_test4.columns = ['rpm_hp','rpm_tq']\n",
    "engine_test3 = pd.concat([engine_test, engine_test2, engine_test4], axis=1)\n",
    "MPG_test = pd.read_json(spec_table_2['MPG'].to_json(), orient='index')\n",
    "transmission_test = pd.read_json(spec_table_2['transmission'].to_json(), orient='index')\n",
    "year_test = pd.read_json(spec_table_2['year'].to_json(), orient='index')\n",
    "year_test.columns = ['id','model_year']\n",
    "\n",
    "final_spec_test = pd.concat([spec_table_2, prcie_test, engine_test3, MPG_test, transmission_test, year_test], axis=1)\n",
    "\n",
    "final_spec_test = final_spec_test[['model_name','make_name','trim','city','highway','model_year',\n",
    "                                   'baseInvoice', 'baseMSRP', 'deliveryCharges','usedPrivateParty', 'usedTmvRetail', 'usedTradeIn',\n",
    "                                   'code', 'compressionRatio','horsepower','torque','type','rpm_hp','rpm_tq',\n",
    "                                   'transmissionType', 'numberOfSpeeds',\n",
    "                                   'drivenWheels','numOfDoors','options']]\n",
    "\n",
    "final_spec_test.columns = ['model_name','make_name','trim','city','highway','model_year',\n",
    "                                   'baseInvoice', 'baseMSRP', 'deliveryCharges','usedPrivateParty', 'usedTmvRetail', 'usedTradeIn',\n",
    "                                   'Engine_code', 'compressionRatio','horsepower','torque','gas_type','rpm_hp','rpm_tq',\n",
    "                                   'transmissionType', 'numberOfSpeeds',\n",
    "                                   'drivenWheels','numOfDoors','options']\n",
    "\n",
    "final_spec_test = final_spec_test.sort_values('baseMSRP')\n",
    "\n",
    "spec_table = pd.concat([final_spec_test,pre_dummy])\n",
    "pre_dummy = spec_table"
   ]
  },
  {
   "cell_type": "code",
   "execution_count": 43,
   "metadata": {
    "collapsed": false,
    "scrolled": true
   },
   "outputs": [
    {
     "data": {
      "text/plain": [
       "array(['pathfinder', 'highlander', 'pilot', 'santa-fe', nan], dtype=object)"
      ]
     },
     "execution_count": 43,
     "metadata": {},
     "output_type": "execute_result"
    }
   ],
   "source": [
    "spec_table['model_name'].unique()"
   ]
  },
  {
   "cell_type": "code",
   "execution_count": 46,
   "metadata": {
    "collapsed": true
   },
   "outputs": [],
   "source": [
    "spec_table = spec_table.drop(0)\n",
    "spec_table = spec_table.drop([0],axis=1)"
   ]
  },
  {
   "cell_type": "code",
   "execution_count": 48,
   "metadata": {
    "collapsed": false
   },
   "outputs": [],
   "source": [
    "spec_table.to_csv('my_suv_spec.csv')\n",
    "spec_table.to_json('my_suv_spec.json')"
   ]
  },
  {
   "cell_type": "code",
   "execution_count": 22,
   "metadata": {
    "collapsed": false
   },
   "outputs": [],
   "source": [
    "os.chdir('C:\\\\Users\\\\kb910\\\\Google 드라이브\\\\경배끄10\\\\인턴\\\\csv파일\\\\spec\\\\픽업트럭')"
   ]
  },
  {
   "cell_type": "code",
   "execution_count": null,
   "metadata": {
    "collapsed": true
   },
   "outputs": [],
   "source": []
  }
 ],
 "metadata": {
  "kernelspec": {
   "display_name": "Python 3",
   "language": "python",
   "name": "python3"
  },
  "language_info": {
   "codemirror_mode": {
    "name": "ipython",
    "version": 3
   },
   "file_extension": ".py",
   "mimetype": "text/x-python",
   "name": "python",
   "nbconvert_exporter": "python",
   "pygments_lexer": "ipython3",
   "version": "3.6.0"
  }
 },
 "nbformat": 4,
 "nbformat_minor": 2
}
