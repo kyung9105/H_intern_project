{
 "cells": [
  {
   "cell_type": "markdown",
   "metadata": {},
   "source": [
    "# Data Load"
   ]
  },
  {
   "cell_type": "code",
   "execution_count": 250,
   "metadata": {
    "collapsed": false
   },
   "outputs": [],
   "source": [
    "import pandas as pd\n",
    "import urllib.request, json\n",
    "import numpy as np\n",
    "import os\n",
    "import matplotlib.pyplot as plt\n",
    "import seaborn as sns\n",
    "%matplotlib inline\n",
    "import nltk, gensim\n",
    "from nltk import word_tokenize"
   ]
  },
  {
   "cell_type": "code",
   "execution_count": 286,
   "metadata": {
    "collapsed": false,
    "scrolled": true
   },
   "outputs": [
    {
     "name": "stdout",
     "output_type": "stream",
     "text": [
      "(306, 30)\n"
     ]
    }
   ],
   "source": [
    "os.chdir('C:\\\\Users\\\\kb910\\\\Google 드라이브\\\\경배끄10\\\\인턴\\\\csv파일\\\\리뷰들\\\\SUV리뷰')\n",
    "data = open('all_suv_review2(15~17).json').read()\n",
    "review = pd.DataFrame(json.loads(data))\n",
    "print(review.shape)"
   ]
  },
  {
   "cell_type": "code",
   "execution_count": 287,
   "metadata": {
    "collapsed": false
   },
   "outputs": [
    {
     "name": "stdout",
     "output_type": "stream",
     "text": [
      "(1281, 30)\n"
     ]
    }
   ],
   "source": [
    "os.chdir('C:\\\\Users\\\\kb910\\\\Google 드라이브\\\\경배끄10\\\\인턴\\\\csv파일\\\\리뷰들\\\\SUV리뷰')\n",
    "data = open('all_suv_review(15~17).json').read()\n",
    "review2 = pd.DataFrame(json.loads(data))\n",
    "print(review2.shape)"
   ]
  },
  {
   "cell_type": "code",
   "execution_count": 289,
   "metadata": {
    "collapsed": false,
    "scrolled": true
   },
   "outputs": [
    {
     "name": "stdout",
     "output_type": "stream",
     "text": [
      "(1587, 30)\n"
     ]
    }
   ],
   "source": [
    "SUV = pd.concat([review, review2])\n",
    "SUV.index = [x for x in range(len(Maxcruz))]\n",
    "print(SUV.shape)"
   ]
  },
  {
   "cell_type": "markdown",
   "metadata": {},
   "source": [
    "# Word2Vec으로 리뷰분류하기"
   ]
  },
  {
   "cell_type": "code",
   "execution_count": 290,
   "metadata": {
    "collapsed": false,
    "scrolled": true
   },
   "outputs": [],
   "source": [
    "# text 문장만 추출하기\n",
    "SUV = SUV['text'].dropna()"
   ]
  },
  {
   "cell_type": "code",
   "execution_count": 292,
   "metadata": {
    "collapsed": false
   },
   "outputs": [],
   "source": [
    "# 문장 토크나이징\n",
    "sentence = [ nltk.word_tokenize(x) for x in SUV.dropna()]"
   ]
  },
  {
   "cell_type": "code",
   "execution_count": 293,
   "metadata": {
    "collapsed": false
   },
   "outputs": [
    {
     "data": {
      "text/plain": [
       "<gensim.models.word2vec.Word2Vec at 0x258087464a8>"
      ]
     },
     "execution_count": 293,
     "metadata": {},
     "output_type": "execute_result"
    }
   ],
   "source": [
    "# Word2Vec모델 학습\n",
    "\n",
    "model = gensim.models.Word2Vec(sentence, min_count=1, size=100, window=2, workers=4, iter=100, sg=1)\n",
    "model"
   ]
  },
  {
   "cell_type": "code",
   "execution_count": 295,
   "metadata": {
    "collapsed": true
   },
   "outputs": [],
   "source": [
    "model.save('word2vec_suv')"
   ]
  },
  {
   "cell_type": "code",
   "execution_count": 296,
   "metadata": {
    "collapsed": false
   },
   "outputs": [
    {
     "name": "stdout",
     "output_type": "stream",
     "text": [
      "(13956, 100)\n"
     ]
    },
    {
     "data": {
      "text/html": [
       "<div>\n",
       "<table border=\"1\" class=\"dataframe\">\n",
       "  <thead>\n",
       "    <tr style=\"text-align: right;\">\n",
       "      <th></th>\n",
       "      <th>0</th>\n",
       "      <th>1</th>\n",
       "      <th>2</th>\n",
       "      <th>3</th>\n",
       "      <th>4</th>\n",
       "      <th>5</th>\n",
       "      <th>6</th>\n",
       "      <th>7</th>\n",
       "      <th>8</th>\n",
       "      <th>9</th>\n",
       "      <th>...</th>\n",
       "      <th>90</th>\n",
       "      <th>91</th>\n",
       "      <th>92</th>\n",
       "      <th>93</th>\n",
       "      <th>94</th>\n",
       "      <th>95</th>\n",
       "      <th>96</th>\n",
       "      <th>97</th>\n",
       "      <th>98</th>\n",
       "      <th>99</th>\n",
       "    </tr>\n",
       "  </thead>\n",
       "  <tbody>\n",
       "    <tr>\n",
       "      <th>.</th>\n",
       "      <td>-0.015574</td>\n",
       "      <td>0.157009</td>\n",
       "      <td>-0.060488</td>\n",
       "      <td>-0.260160</td>\n",
       "      <td>-0.221780</td>\n",
       "      <td>-0.088743</td>\n",
       "      <td>-0.453147</td>\n",
       "      <td>-0.247863</td>\n",
       "      <td>-0.476939</td>\n",
       "      <td>0.205656</td>\n",
       "      <td>...</td>\n",
       "      <td>-0.164154</td>\n",
       "      <td>-0.297365</td>\n",
       "      <td>0.012301</td>\n",
       "      <td>0.218786</td>\n",
       "      <td>-0.244420</td>\n",
       "      <td>-0.042439</td>\n",
       "      <td>0.440908</td>\n",
       "      <td>0.336883</td>\n",
       "      <td>-0.413583</td>\n",
       "      <td>0.224524</td>\n",
       "    </tr>\n",
       "    <tr>\n",
       "      <th>the</th>\n",
       "      <td>-0.040344</td>\n",
       "      <td>-0.167141</td>\n",
       "      <td>0.154336</td>\n",
       "      <td>-0.264637</td>\n",
       "      <td>0.168657</td>\n",
       "      <td>-0.093178</td>\n",
       "      <td>-0.123423</td>\n",
       "      <td>-0.194855</td>\n",
       "      <td>-0.211511</td>\n",
       "      <td>0.366944</td>\n",
       "      <td>...</td>\n",
       "      <td>-0.087951</td>\n",
       "      <td>-0.348451</td>\n",
       "      <td>0.129895</td>\n",
       "      <td>0.231029</td>\n",
       "      <td>0.129477</td>\n",
       "      <td>0.017131</td>\n",
       "      <td>0.235686</td>\n",
       "      <td>0.071084</td>\n",
       "      <td>0.088483</td>\n",
       "      <td>0.131299</td>\n",
       "    </tr>\n",
       "    <tr>\n",
       "      <th>,</th>\n",
       "      <td>-0.151518</td>\n",
       "      <td>-0.101619</td>\n",
       "      <td>0.044445</td>\n",
       "      <td>0.003802</td>\n",
       "      <td>-0.080090</td>\n",
       "      <td>0.335784</td>\n",
       "      <td>-0.362842</td>\n",
       "      <td>-0.197725</td>\n",
       "      <td>-0.418224</td>\n",
       "      <td>0.176190</td>\n",
       "      <td>...</td>\n",
       "      <td>0.140044</td>\n",
       "      <td>-0.254091</td>\n",
       "      <td>0.132962</td>\n",
       "      <td>-0.046472</td>\n",
       "      <td>0.064952</td>\n",
       "      <td>-0.022908</td>\n",
       "      <td>0.230285</td>\n",
       "      <td>-0.095557</td>\n",
       "      <td>-0.210954</td>\n",
       "      <td>0.379293</td>\n",
       "    </tr>\n",
       "    <tr>\n",
       "      <th>and</th>\n",
       "      <td>-0.102968</td>\n",
       "      <td>0.083598</td>\n",
       "      <td>0.029344</td>\n",
       "      <td>0.022789</td>\n",
       "      <td>-0.035766</td>\n",
       "      <td>0.126530</td>\n",
       "      <td>-0.437582</td>\n",
       "      <td>-0.218629</td>\n",
       "      <td>-0.379214</td>\n",
       "      <td>0.080100</td>\n",
       "      <td>...</td>\n",
       "      <td>-0.024788</td>\n",
       "      <td>-0.537174</td>\n",
       "      <td>-0.024540</td>\n",
       "      <td>-0.097677</td>\n",
       "      <td>0.087444</td>\n",
       "      <td>-0.031047</td>\n",
       "      <td>0.207106</td>\n",
       "      <td>0.084997</td>\n",
       "      <td>-0.265078</td>\n",
       "      <td>0.403645</td>\n",
       "    </tr>\n",
       "    <tr>\n",
       "      <th>I</th>\n",
       "      <td>-0.129650</td>\n",
       "      <td>-0.107879</td>\n",
       "      <td>0.063281</td>\n",
       "      <td>-0.147730</td>\n",
       "      <td>-0.142682</td>\n",
       "      <td>0.211411</td>\n",
       "      <td>-0.397618</td>\n",
       "      <td>-0.268116</td>\n",
       "      <td>-0.631658</td>\n",
       "      <td>0.465891</td>\n",
       "      <td>...</td>\n",
       "      <td>0.063239</td>\n",
       "      <td>-0.601236</td>\n",
       "      <td>0.071987</td>\n",
       "      <td>0.121757</td>\n",
       "      <td>-0.014256</td>\n",
       "      <td>0.062810</td>\n",
       "      <td>0.072526</td>\n",
       "      <td>-0.180253</td>\n",
       "      <td>0.029592</td>\n",
       "      <td>0.187778</td>\n",
       "    </tr>\n",
       "  </tbody>\n",
       "</table>\n",
       "<p>5 rows × 100 columns</p>\n",
       "</div>"
      ],
      "text/plain": [
       "           0         1         2         3         4         5         6   \\\n",
       ".   -0.015574  0.157009 -0.060488 -0.260160 -0.221780 -0.088743 -0.453147   \n",
       "the -0.040344 -0.167141  0.154336 -0.264637  0.168657 -0.093178 -0.123423   \n",
       ",   -0.151518 -0.101619  0.044445  0.003802 -0.080090  0.335784 -0.362842   \n",
       "and -0.102968  0.083598  0.029344  0.022789 -0.035766  0.126530 -0.437582   \n",
       "I   -0.129650 -0.107879  0.063281 -0.147730 -0.142682  0.211411 -0.397618   \n",
       "\n",
       "           7         8         9     ...           90        91        92  \\\n",
       ".   -0.247863 -0.476939  0.205656    ...    -0.164154 -0.297365  0.012301   \n",
       "the -0.194855 -0.211511  0.366944    ...    -0.087951 -0.348451  0.129895   \n",
       ",   -0.197725 -0.418224  0.176190    ...     0.140044 -0.254091  0.132962   \n",
       "and -0.218629 -0.379214  0.080100    ...    -0.024788 -0.537174 -0.024540   \n",
       "I   -0.268116 -0.631658  0.465891    ...     0.063239 -0.601236  0.071987   \n",
       "\n",
       "           93        94        95        96        97        98        99  \n",
       ".    0.218786 -0.244420 -0.042439  0.440908  0.336883 -0.413583  0.224524  \n",
       "the  0.231029  0.129477  0.017131  0.235686  0.071084  0.088483  0.131299  \n",
       ",   -0.046472  0.064952 -0.022908  0.230285 -0.095557 -0.210954  0.379293  \n",
       "and -0.097677  0.087444 -0.031047  0.207106  0.084997 -0.265078  0.403645  \n",
       "I    0.121757 -0.014256  0.062810  0.072526 -0.180253  0.029592  0.187778  \n",
       "\n",
       "[5 rows x 100 columns]"
      ]
     },
     "execution_count": 296,
     "metadata": {},
     "output_type": "execute_result"
    }
   ],
   "source": [
    "model_index = model.wv.index2word\n",
    "\n",
    "\n",
    "model_vector = pd.DataFrame(model[model_index], index=model_index)\n",
    "print(model_vector.shape)\n",
    "model_vector.head(5)"
   ]
  },
  {
   "cell_type": "markdown",
   "metadata": {},
   "source": [
    "## 가중치 매트릭스"
   ]
  },
  {
   "cell_type": "code",
   "execution_count": 297,
   "metadata": {
    "collapsed": true
   },
   "outputs": [],
   "source": [
    "from scipy.spatial import distance\n",
    "from tqdm import tqdm"
   ]
  },
  {
   "cell_type": "code",
   "execution_count": null,
   "metadata": {
    "collapsed": true
   },
   "outputs": [],
   "source": [
    "words = model_vector.index\n",
    "func = distance.euclidean\n",
    "\n",
    "similarites = [ model_vector.loc[word].values.tolist() for word in words \n",
    "             model_vector.loc[word2].values.tolist() for word2 in words]\n"
   ]
  },
  {
   "cell_type": "code",
   "execution_count": 298,
   "metadata": {
    "collapsed": false
   },
   "outputs": [
    {
     "name": "stderr",
     "output_type": "stream",
     "text": [
      "  1%|▉                                                                          | 164/13956 [09:46<12:30:26,  3.26s/it]"
     ]
    },
    {
     "ename": "KeyboardInterrupt",
     "evalue": "",
     "output_type": "error",
     "traceback": [
      "\u001b[0;31m---------------------------------------------------------------------------\u001b[0m",
      "\u001b[0;31mKeyboardInterrupt\u001b[0m                         Traceback (most recent call last)",
      "\u001b[0;32m<ipython-input-298-19673bb73fdc>\u001b[0m in \u001b[0;36m<module>\u001b[0;34m()\u001b[0m\n\u001b[1;32m      2\u001b[0m \u001b[0mfunc\u001b[0m \u001b[1;33m=\u001b[0m \u001b[0mdistance\u001b[0m\u001b[1;33m.\u001b[0m\u001b[0meuclidean\u001b[0m\u001b[1;33m\u001b[0m\u001b[0m\n\u001b[1;32m      3\u001b[0m \u001b[0msim_matrix\u001b[0m \u001b[1;33m=\u001b[0m \u001b[1;33m[\u001b[0m\u001b[1;33m]\u001b[0m\u001b[1;33m\u001b[0m\u001b[0m\n\u001b[0;32m----> 4\u001b[0;31m \u001b[1;32mfor\u001b[0m \u001b[0mword\u001b[0m \u001b[1;32min\u001b[0m \u001b[0mtqdm\u001b[0m\u001b[1;33m(\u001b[0m\u001b[0mwords\u001b[0m\u001b[1;33m)\u001b[0m\u001b[1;33m:\u001b[0m\u001b[1;33m\u001b[0m\u001b[0m\n\u001b[0m\u001b[1;32m      5\u001b[0m     \u001b[0msimilarites\u001b[0m \u001b[1;33m=\u001b[0m \u001b[1;33m[\u001b[0m\u001b[1;33m]\u001b[0m\u001b[1;33m\u001b[0m\u001b[0m\n\u001b[1;32m      6\u001b[0m     \u001b[0mword_vec\u001b[0m \u001b[1;33m=\u001b[0m \u001b[0mmodel_vector\u001b[0m\u001b[1;33m.\u001b[0m\u001b[0mloc\u001b[0m\u001b[1;33m[\u001b[0m\u001b[0mword\u001b[0m\u001b[1;33m]\u001b[0m\u001b[1;33m.\u001b[0m\u001b[0mvalues\u001b[0m\u001b[1;33m.\u001b[0m\u001b[0mtolist\u001b[0m\u001b[1;33m(\u001b[0m\u001b[1;33m)\u001b[0m\u001b[1;33m\u001b[0m\u001b[0m\n",
      "\u001b[0;32mC:\\Users\\kb910\\Anaconda3\\lib\\site-packages\\tqdm\\_tqdm.py\u001b[0m in \u001b[0;36m__iter__\u001b[0;34m(self)\u001b[0m\n\u001b[1;32m    890\u001b[0m                             \u001b[0mself\u001b[0m\u001b[1;33m.\u001b[0m\u001b[0mdesc\u001b[0m\u001b[1;33m,\u001b[0m \u001b[0mascii\u001b[0m\u001b[1;33m,\u001b[0m \u001b[0munit\u001b[0m\u001b[1;33m,\u001b[0m \u001b[0munit_scale\u001b[0m\u001b[1;33m,\u001b[0m\u001b[1;33m\u001b[0m\u001b[0m\n\u001b[1;32m    891\u001b[0m                             \u001b[1;36m1\u001b[0m \u001b[1;33m/\u001b[0m \u001b[0mavg_time\u001b[0m \u001b[1;32mif\u001b[0m \u001b[0mavg_time\u001b[0m \u001b[1;32melse\u001b[0m \u001b[1;32mNone\u001b[0m\u001b[1;33m,\u001b[0m \u001b[0mbar_format\u001b[0m\u001b[1;33m,\u001b[0m\u001b[1;33m\u001b[0m\u001b[0m\n\u001b[0;32m--> 892\u001b[0;31m                             self.postfix, unit_divisor))\n\u001b[0m\u001b[1;32m    893\u001b[0m \u001b[1;33m\u001b[0m\u001b[0m\n\u001b[1;32m    894\u001b[0m                         \u001b[1;32mif\u001b[0m \u001b[0mself\u001b[0m\u001b[1;33m.\u001b[0m\u001b[0mpos\u001b[0m\u001b[1;33m:\u001b[0m\u001b[1;33m\u001b[0m\u001b[0m\n",
      "\u001b[0;32mC:\\Users\\kb910\\Anaconda3\\lib\\site-packages\\tqdm\\_tqdm.py\u001b[0m in \u001b[0;36mprint_status\u001b[0;34m(s)\u001b[0m\n\u001b[1;32m    199\u001b[0m         \u001b[1;32mdef\u001b[0m \u001b[0mprint_status\u001b[0m\u001b[1;33m(\u001b[0m\u001b[0ms\u001b[0m\u001b[1;33m)\u001b[0m\u001b[1;33m:\u001b[0m\u001b[1;33m\u001b[0m\u001b[0m\n\u001b[1;32m    200\u001b[0m             \u001b[0mlen_s\u001b[0m \u001b[1;33m=\u001b[0m \u001b[0mlen\u001b[0m\u001b[1;33m(\u001b[0m\u001b[0ms\u001b[0m\u001b[1;33m)\u001b[0m\u001b[1;33m\u001b[0m\u001b[0m\n\u001b[0;32m--> 201\u001b[0;31m             \u001b[0mfp_write\u001b[0m\u001b[1;33m(\u001b[0m\u001b[1;34m'\\r'\u001b[0m \u001b[1;33m+\u001b[0m \u001b[0ms\u001b[0m \u001b[1;33m+\u001b[0m \u001b[1;33m(\u001b[0m\u001b[1;34m' '\u001b[0m \u001b[1;33m*\u001b[0m \u001b[0mmax\u001b[0m\u001b[1;33m(\u001b[0m\u001b[0mlast_len\u001b[0m\u001b[1;33m[\u001b[0m\u001b[1;36m0\u001b[0m\u001b[1;33m]\u001b[0m \u001b[1;33m-\u001b[0m \u001b[0mlen_s\u001b[0m\u001b[1;33m,\u001b[0m \u001b[1;36m0\u001b[0m\u001b[1;33m)\u001b[0m\u001b[1;33m)\u001b[0m\u001b[1;33m)\u001b[0m\u001b[1;33m\u001b[0m\u001b[0m\n\u001b[0m\u001b[1;32m    202\u001b[0m             \u001b[0mlast_len\u001b[0m\u001b[1;33m[\u001b[0m\u001b[1;36m0\u001b[0m\u001b[1;33m]\u001b[0m \u001b[1;33m=\u001b[0m \u001b[0mlen_s\u001b[0m\u001b[1;33m\u001b[0m\u001b[0m\n\u001b[1;32m    203\u001b[0m         \u001b[1;32mreturn\u001b[0m \u001b[0mprint_status\u001b[0m\u001b[1;33m\u001b[0m\u001b[0m\n",
      "\u001b[0;32mC:\\Users\\kb910\\Anaconda3\\lib\\site-packages\\tqdm\\_tqdm.py\u001b[0m in \u001b[0;36mfp_write\u001b[0;34m(s)\u001b[0m\n\u001b[1;32m    192\u001b[0m \u001b[1;33m\u001b[0m\u001b[0m\n\u001b[1;32m    193\u001b[0m         \u001b[1;32mdef\u001b[0m \u001b[0mfp_write\u001b[0m\u001b[1;33m(\u001b[0m\u001b[0ms\u001b[0m\u001b[1;33m)\u001b[0m\u001b[1;33m:\u001b[0m\u001b[1;33m\u001b[0m\u001b[0m\n\u001b[0;32m--> 194\u001b[0;31m             \u001b[0mfp\u001b[0m\u001b[1;33m.\u001b[0m\u001b[0mwrite\u001b[0m\u001b[1;33m(\u001b[0m\u001b[0m_unicode\u001b[0m\u001b[1;33m(\u001b[0m\u001b[0ms\u001b[0m\u001b[1;33m)\u001b[0m\u001b[1;33m)\u001b[0m\u001b[1;33m\u001b[0m\u001b[0m\n\u001b[0m\u001b[1;32m    195\u001b[0m             \u001b[0mfp_flush\u001b[0m\u001b[1;33m(\u001b[0m\u001b[1;33m)\u001b[0m\u001b[1;33m\u001b[0m\u001b[0m\n\u001b[1;32m    196\u001b[0m \u001b[1;33m\u001b[0m\u001b[0m\n",
      "\u001b[0;32mC:\\Users\\kb910\\Anaconda3\\lib\\site-packages\\colorama\\ansitowin32.py\u001b[0m in \u001b[0;36mwrite\u001b[0;34m(self, text)\u001b[0m\n\u001b[1;32m     38\u001b[0m \u001b[1;33m\u001b[0m\u001b[0m\n\u001b[1;32m     39\u001b[0m     \u001b[1;32mdef\u001b[0m \u001b[0mwrite\u001b[0m\u001b[1;33m(\u001b[0m\u001b[0mself\u001b[0m\u001b[1;33m,\u001b[0m \u001b[0mtext\u001b[0m\u001b[1;33m)\u001b[0m\u001b[1;33m:\u001b[0m\u001b[1;33m\u001b[0m\u001b[0m\n\u001b[0;32m---> 40\u001b[0;31m         \u001b[0mself\u001b[0m\u001b[1;33m.\u001b[0m\u001b[0m__convertor\u001b[0m\u001b[1;33m.\u001b[0m\u001b[0mwrite\u001b[0m\u001b[1;33m(\u001b[0m\u001b[0mtext\u001b[0m\u001b[1;33m)\u001b[0m\u001b[1;33m\u001b[0m\u001b[0m\n\u001b[0m\u001b[1;32m     41\u001b[0m \u001b[1;33m\u001b[0m\u001b[0m\n\u001b[1;32m     42\u001b[0m \u001b[1;33m\u001b[0m\u001b[0m\n",
      "\u001b[0;32mC:\\Users\\kb910\\Anaconda3\\lib\\site-packages\\colorama\\ansitowin32.py\u001b[0m in \u001b[0;36mwrite\u001b[0;34m(self, text)\u001b[0m\n\u001b[1;32m    139\u001b[0m     \u001b[1;32mdef\u001b[0m \u001b[0mwrite\u001b[0m\u001b[1;33m(\u001b[0m\u001b[0mself\u001b[0m\u001b[1;33m,\u001b[0m \u001b[0mtext\u001b[0m\u001b[1;33m)\u001b[0m\u001b[1;33m:\u001b[0m\u001b[1;33m\u001b[0m\u001b[0m\n\u001b[1;32m    140\u001b[0m         \u001b[1;32mif\u001b[0m \u001b[0mself\u001b[0m\u001b[1;33m.\u001b[0m\u001b[0mstrip\u001b[0m \u001b[1;32mor\u001b[0m \u001b[0mself\u001b[0m\u001b[1;33m.\u001b[0m\u001b[0mconvert\u001b[0m\u001b[1;33m:\u001b[0m\u001b[1;33m\u001b[0m\u001b[0m\n\u001b[0;32m--> 141\u001b[0;31m             \u001b[0mself\u001b[0m\u001b[1;33m.\u001b[0m\u001b[0mwrite_and_convert\u001b[0m\u001b[1;33m(\u001b[0m\u001b[0mtext\u001b[0m\u001b[1;33m)\u001b[0m\u001b[1;33m\u001b[0m\u001b[0m\n\u001b[0m\u001b[1;32m    142\u001b[0m         \u001b[1;32melse\u001b[0m\u001b[1;33m:\u001b[0m\u001b[1;33m\u001b[0m\u001b[0m\n\u001b[1;32m    143\u001b[0m             \u001b[0mself\u001b[0m\u001b[1;33m.\u001b[0m\u001b[0mwrapped\u001b[0m\u001b[1;33m.\u001b[0m\u001b[0mwrite\u001b[0m\u001b[1;33m(\u001b[0m\u001b[0mtext\u001b[0m\u001b[1;33m)\u001b[0m\u001b[1;33m\u001b[0m\u001b[0m\n",
      "\u001b[0;32mC:\\Users\\kb910\\Anaconda3\\lib\\site-packages\\colorama\\ansitowin32.py\u001b[0m in \u001b[0;36mwrite_and_convert\u001b[0;34m(self, text)\u001b[0m\n\u001b[1;32m    167\u001b[0m             \u001b[0mself\u001b[0m\u001b[1;33m.\u001b[0m\u001b[0mconvert_ansi\u001b[0m\u001b[1;33m(\u001b[0m\u001b[1;33m*\u001b[0m\u001b[0mmatch\u001b[0m\u001b[1;33m.\u001b[0m\u001b[0mgroups\u001b[0m\u001b[1;33m(\u001b[0m\u001b[1;33m)\u001b[0m\u001b[1;33m)\u001b[0m\u001b[1;33m\u001b[0m\u001b[0m\n\u001b[1;32m    168\u001b[0m             \u001b[0mcursor\u001b[0m \u001b[1;33m=\u001b[0m \u001b[0mend\u001b[0m\u001b[1;33m\u001b[0m\u001b[0m\n\u001b[0;32m--> 169\u001b[0;31m         \u001b[0mself\u001b[0m\u001b[1;33m.\u001b[0m\u001b[0mwrite_plain_text\u001b[0m\u001b[1;33m(\u001b[0m\u001b[0mtext\u001b[0m\u001b[1;33m,\u001b[0m \u001b[0mcursor\u001b[0m\u001b[1;33m,\u001b[0m \u001b[0mlen\u001b[0m\u001b[1;33m(\u001b[0m\u001b[0mtext\u001b[0m\u001b[1;33m)\u001b[0m\u001b[1;33m)\u001b[0m\u001b[1;33m\u001b[0m\u001b[0m\n\u001b[0m\u001b[1;32m    170\u001b[0m \u001b[1;33m\u001b[0m\u001b[0m\n\u001b[1;32m    171\u001b[0m \u001b[1;33m\u001b[0m\u001b[0m\n",
      "\u001b[0;32mC:\\Users\\kb910\\Anaconda3\\lib\\site-packages\\colorama\\ansitowin32.py\u001b[0m in \u001b[0;36mwrite_plain_text\u001b[0;34m(self, text, start, end)\u001b[0m\n\u001b[1;32m    172\u001b[0m     \u001b[1;32mdef\u001b[0m \u001b[0mwrite_plain_text\u001b[0m\u001b[1;33m(\u001b[0m\u001b[0mself\u001b[0m\u001b[1;33m,\u001b[0m \u001b[0mtext\u001b[0m\u001b[1;33m,\u001b[0m \u001b[0mstart\u001b[0m\u001b[1;33m,\u001b[0m \u001b[0mend\u001b[0m\u001b[1;33m)\u001b[0m\u001b[1;33m:\u001b[0m\u001b[1;33m\u001b[0m\u001b[0m\n\u001b[1;32m    173\u001b[0m         \u001b[1;32mif\u001b[0m \u001b[0mstart\u001b[0m \u001b[1;33m<\u001b[0m \u001b[0mend\u001b[0m\u001b[1;33m:\u001b[0m\u001b[1;33m\u001b[0m\u001b[0m\n\u001b[0;32m--> 174\u001b[0;31m             \u001b[0mself\u001b[0m\u001b[1;33m.\u001b[0m\u001b[0mwrapped\u001b[0m\u001b[1;33m.\u001b[0m\u001b[0mwrite\u001b[0m\u001b[1;33m(\u001b[0m\u001b[0mtext\u001b[0m\u001b[1;33m[\u001b[0m\u001b[0mstart\u001b[0m\u001b[1;33m:\u001b[0m\u001b[0mend\u001b[0m\u001b[1;33m]\u001b[0m\u001b[1;33m)\u001b[0m\u001b[1;33m\u001b[0m\u001b[0m\n\u001b[0m\u001b[1;32m    175\u001b[0m             \u001b[0mself\u001b[0m\u001b[1;33m.\u001b[0m\u001b[0mwrapped\u001b[0m\u001b[1;33m.\u001b[0m\u001b[0mflush\u001b[0m\u001b[1;33m(\u001b[0m\u001b[1;33m)\u001b[0m\u001b[1;33m\u001b[0m\u001b[0m\n\u001b[1;32m    176\u001b[0m \u001b[1;33m\u001b[0m\u001b[0m\n",
      "\u001b[0;32mC:\\Users\\kb910\\Anaconda3\\lib\\site-packages\\ipykernel\\iostream.py\u001b[0m in \u001b[0;36mwrite\u001b[0;34m(self, string)\u001b[0m\n\u001b[1;32m    369\u001b[0m             \u001b[0mis_child\u001b[0m \u001b[1;33m=\u001b[0m \u001b[1;33m(\u001b[0m\u001b[1;32mnot\u001b[0m \u001b[0mself\u001b[0m\u001b[1;33m.\u001b[0m\u001b[0m_is_master_process\u001b[0m\u001b[1;33m(\u001b[0m\u001b[1;33m)\u001b[0m\u001b[1;33m)\u001b[0m\u001b[1;33m\u001b[0m\u001b[0m\n\u001b[1;32m    370\u001b[0m             \u001b[1;31m# only touch the buffer in the IO thread to avoid races\u001b[0m\u001b[1;33m\u001b[0m\u001b[1;33m\u001b[0m\u001b[0m\n\u001b[0;32m--> 371\u001b[0;31m             \u001b[0mself\u001b[0m\u001b[1;33m.\u001b[0m\u001b[0mpub_thread\u001b[0m\u001b[1;33m.\u001b[0m\u001b[0mschedule\u001b[0m\u001b[1;33m(\u001b[0m\u001b[1;32mlambda\u001b[0m \u001b[1;33m:\u001b[0m \u001b[0mself\u001b[0m\u001b[1;33m.\u001b[0m\u001b[0m_buffer\u001b[0m\u001b[1;33m.\u001b[0m\u001b[0mwrite\u001b[0m\u001b[1;33m(\u001b[0m\u001b[0mstring\u001b[0m\u001b[1;33m)\u001b[0m\u001b[1;33m)\u001b[0m\u001b[1;33m\u001b[0m\u001b[0m\n\u001b[0m\u001b[1;32m    372\u001b[0m             \u001b[1;32mif\u001b[0m \u001b[0mis_child\u001b[0m\u001b[1;33m:\u001b[0m\u001b[1;33m\u001b[0m\u001b[0m\n\u001b[1;32m    373\u001b[0m                 \u001b[1;31m# newlines imply flush in subprocesses\u001b[0m\u001b[1;33m\u001b[0m\u001b[1;33m\u001b[0m\u001b[0m\n",
      "\u001b[0;32mC:\\Users\\kb910\\Anaconda3\\lib\\site-packages\\ipykernel\\iostream.py\u001b[0m in \u001b[0;36mschedule\u001b[0;34m(self, f)\u001b[0m\n\u001b[1;32m    188\u001b[0m                 \u001b[0mevent_id\u001b[0m \u001b[1;33m=\u001b[0m \u001b[0mos\u001b[0m\u001b[1;33m.\u001b[0m\u001b[0murandom\u001b[0m\u001b[1;33m(\u001b[0m\u001b[1;36m16\u001b[0m\u001b[1;33m)\u001b[0m\u001b[1;33m\u001b[0m\u001b[0m\n\u001b[1;32m    189\u001b[0m             \u001b[0mself\u001b[0m\u001b[1;33m.\u001b[0m\u001b[0m_events\u001b[0m\u001b[1;33m[\u001b[0m\u001b[0mevent_id\u001b[0m\u001b[1;33m]\u001b[0m \u001b[1;33m=\u001b[0m \u001b[0mf\u001b[0m\u001b[1;33m\u001b[0m\u001b[0m\n\u001b[0;32m--> 190\u001b[0;31m             \u001b[0mself\u001b[0m\u001b[1;33m.\u001b[0m\u001b[0m_event_pipe\u001b[0m\u001b[1;33m.\u001b[0m\u001b[0msend\u001b[0m\u001b[1;33m(\u001b[0m\u001b[0mevent_id\u001b[0m\u001b[1;33m)\u001b[0m\u001b[1;33m\u001b[0m\u001b[0m\n\u001b[0m\u001b[1;32m    191\u001b[0m         \u001b[1;32melse\u001b[0m\u001b[1;33m:\u001b[0m\u001b[1;33m\u001b[0m\u001b[0m\n\u001b[1;32m    192\u001b[0m             \u001b[0mf\u001b[0m\u001b[1;33m(\u001b[0m\u001b[1;33m)\u001b[0m\u001b[1;33m\u001b[0m\u001b[0m\n",
      "\u001b[0;32mzmq/backend/cython/socket.pyx\u001b[0m in \u001b[0;36mzmq.backend.cython.socket.Socket.send (zmq\\backend\\cython\\socket.c:7305)\u001b[0;34m()\u001b[0m\n",
      "\u001b[0;32mzmq/backend/cython/socket.pyx\u001b[0m in \u001b[0;36mzmq.backend.cython.socket.Socket.send (zmq\\backend\\cython\\socket.c:7048)\u001b[0;34m()\u001b[0m\n",
      "\u001b[0;32mzmq/backend/cython/socket.pyx\u001b[0m in \u001b[0;36mzmq.backend.cython.socket._send_copy (zmq\\backend\\cython\\socket.c:2920)\u001b[0;34m()\u001b[0m\n",
      "\u001b[0;32mC:\\Users\\kb910\\Anaconda3\\lib\\site-packages\\zmq\\backend\\cython\\checkrc.pxd\u001b[0m in \u001b[0;36mzmq.backend.cython.checkrc._check_rc (zmq\\backend\\cython\\socket.c:9621)\u001b[0;34m()\u001b[0m\n",
      "\u001b[0;31mKeyboardInterrupt\u001b[0m: "
     ]
    }
   ],
   "source": [
    "words = model_vector.index\n",
    "func = distance.euclidean\n",
    "sim_matrix = []\n",
    "for word in tqdm(words):\n",
    "    similarites = []\n",
    "    word_vec = model_vector.loc[word].values.tolist()\n",
    "    for word2 in words:\n",
    "        word2_vec = model_vector.loc[word2].values.tolist()\n",
    "        similarites.append(round(func(word_vec, word2_vec),5))\n",
    "\n",
    "    sim_matrix.append(similarites)"
   ]
  },
  {
   "cell_type": "code",
   "execution_count": 171,
   "metadata": {
    "collapsed": true
   },
   "outputs": [],
   "source": [
    "from sklearn.preprocessing import normalize"
   ]
  },
  {
   "cell_type": "code",
   "execution_count": 172,
   "metadata": {
    "collapsed": false
   },
   "outputs": [
    {
     "data": {
      "text/html": [
       "<div>\n",
       "<table border=\"1\" class=\"dataframe\">\n",
       "  <thead>\n",
       "    <tr style=\"text-align: right;\">\n",
       "      <th></th>\n",
       "      <th>the</th>\n",
       "      <th>.</th>\n",
       "      <th>,</th>\n",
       "      <th>and</th>\n",
       "      <th>a</th>\n",
       "      <th>to</th>\n",
       "      <th>I</th>\n",
       "      <th>is</th>\n",
       "      <th>it</th>\n",
       "      <th>of</th>\n",
       "      <th>...</th>\n",
       "      <th>cleaning</th>\n",
       "      <th>Feb.</th>\n",
       "      <th>settled</th>\n",
       "      <th>area</th>\n",
       "      <th>prevalent</th>\n",
       "      <th>pick</th>\n",
       "      <th>Given</th>\n",
       "      <th>number</th>\n",
       "      <th>satisfied</th>\n",
       "      <th>paint</th>\n",
       "    </tr>\n",
       "  </thead>\n",
       "  <tbody>\n",
       "    <tr>\n",
       "      <th>the</th>\n",
       "      <td>0.000000</td>\n",
       "      <td>0.028004</td>\n",
       "      <td>0.027345</td>\n",
       "      <td>0.025487</td>\n",
       "      <td>0.033772</td>\n",
       "      <td>0.031786</td>\n",
       "      <td>0.029761</td>\n",
       "      <td>0.030264</td>\n",
       "      <td>0.026388</td>\n",
       "      <td>0.035174</td>\n",
       "      <td>...</td>\n",
       "      <td>0.021118</td>\n",
       "      <td>0.021078</td>\n",
       "      <td>0.023097</td>\n",
       "      <td>0.020677</td>\n",
       "      <td>0.020459</td>\n",
       "      <td>0.021022</td>\n",
       "      <td>0.021264</td>\n",
       "      <td>0.021371</td>\n",
       "      <td>0.024876</td>\n",
       "      <td>0.022169</td>\n",
       "    </tr>\n",
       "    <tr>\n",
       "      <th>.</th>\n",
       "      <td>0.027273</td>\n",
       "      <td>0.000000</td>\n",
       "      <td>0.031736</td>\n",
       "      <td>0.029256</td>\n",
       "      <td>0.028022</td>\n",
       "      <td>0.032405</td>\n",
       "      <td>0.029093</td>\n",
       "      <td>0.028179</td>\n",
       "      <td>0.028188</td>\n",
       "      <td>0.035407</td>\n",
       "      <td>...</td>\n",
       "      <td>0.020197</td>\n",
       "      <td>0.021838</td>\n",
       "      <td>0.022592</td>\n",
       "      <td>0.021998</td>\n",
       "      <td>0.021236</td>\n",
       "      <td>0.022581</td>\n",
       "      <td>0.021724</td>\n",
       "      <td>0.022524</td>\n",
       "      <td>0.020802</td>\n",
       "      <td>0.022475</td>\n",
       "    </tr>\n",
       "    <tr>\n",
       "      <th>,</th>\n",
       "      <td>0.025290</td>\n",
       "      <td>0.030137</td>\n",
       "      <td>0.000000</td>\n",
       "      <td>0.022710</td>\n",
       "      <td>0.031101</td>\n",
       "      <td>0.032456</td>\n",
       "      <td>0.030667</td>\n",
       "      <td>0.026478</td>\n",
       "      <td>0.025663</td>\n",
       "      <td>0.034209</td>\n",
       "      <td>...</td>\n",
       "      <td>0.021754</td>\n",
       "      <td>0.023189</td>\n",
       "      <td>0.023325</td>\n",
       "      <td>0.021634</td>\n",
       "      <td>0.021842</td>\n",
       "      <td>0.020842</td>\n",
       "      <td>0.022055</td>\n",
       "      <td>0.022862</td>\n",
       "      <td>0.023873</td>\n",
       "      <td>0.021626</td>\n",
       "    </tr>\n",
       "    <tr>\n",
       "      <th>and</th>\n",
       "      <td>0.025745</td>\n",
       "      <td>0.030345</td>\n",
       "      <td>0.024805</td>\n",
       "      <td>0.000000</td>\n",
       "      <td>0.033417</td>\n",
       "      <td>0.031359</td>\n",
       "      <td>0.028511</td>\n",
       "      <td>0.030276</td>\n",
       "      <td>0.027963</td>\n",
       "      <td>0.033776</td>\n",
       "      <td>...</td>\n",
       "      <td>0.020710</td>\n",
       "      <td>0.022424</td>\n",
       "      <td>0.022481</td>\n",
       "      <td>0.020581</td>\n",
       "      <td>0.022139</td>\n",
       "      <td>0.020246</td>\n",
       "      <td>0.021206</td>\n",
       "      <td>0.021377</td>\n",
       "      <td>0.024627</td>\n",
       "      <td>0.021866</td>\n",
       "    </tr>\n",
       "  </tbody>\n",
       "</table>\n",
       "<p>4 rows × 1654 columns</p>\n",
       "</div>"
      ],
      "text/plain": [
       "          the         .         ,       and         a        to         I  \\\n",
       "the  0.000000  0.028004  0.027345  0.025487  0.033772  0.031786  0.029761   \n",
       ".    0.027273  0.000000  0.031736  0.029256  0.028022  0.032405  0.029093   \n",
       ",    0.025290  0.030137  0.000000  0.022710  0.031101  0.032456  0.030667   \n",
       "and  0.025745  0.030345  0.024805  0.000000  0.033417  0.031359  0.028511   \n",
       "\n",
       "           is        it        of    ...     cleaning      Feb.   settled  \\\n",
       "the  0.030264  0.026388  0.035174    ...     0.021118  0.021078  0.023097   \n",
       ".    0.028179  0.028188  0.035407    ...     0.020197  0.021838  0.022592   \n",
       ",    0.026478  0.025663  0.034209    ...     0.021754  0.023189  0.023325   \n",
       "and  0.030276  0.027963  0.033776    ...     0.020710  0.022424  0.022481   \n",
       "\n",
       "         area  prevalent      pick     Given    number  satisfied     paint  \n",
       "the  0.020677   0.020459  0.021022  0.021264  0.021371   0.024876  0.022169  \n",
       ".    0.021998   0.021236  0.022581  0.021724  0.022524   0.020802  0.022475  \n",
       ",    0.021634   0.021842  0.020842  0.022055  0.022862   0.023873  0.021626  \n",
       "and  0.020581   0.022139  0.020246  0.021206  0.021377   0.024627  0.021866  \n",
       "\n",
       "[4 rows x 1654 columns]"
      ]
     },
     "execution_count": 172,
     "metadata": {},
     "output_type": "execute_result"
    }
   ],
   "source": [
    "normal_sim = pd.DataFrame((normalize(sim_matrix)),index=model_vector.index, columns=model_vector.index)\n",
    "normal_sim.head(4)"
   ]
  },
  {
   "cell_type": "code",
   "execution_count": 173,
   "metadata": {
    "collapsed": true
   },
   "outputs": [],
   "source": [
    "normal_sim.to_csv('word2vec_model3.csv')"
   ]
  },
  {
   "cell_type": "markdown",
   "metadata": {},
   "source": [
    "## 데이터 다시불러들이기"
   ]
  },
  {
   "cell_type": "code",
   "execution_count": 274,
   "metadata": {
    "collapsed": false
   },
   "outputs": [],
   "source": [
    "## Matrix 불러오기\n",
    "os.chdir('C:\\\\Users\\\\kb910\\\\Google 드라이브\\\\경배끄10\\\\인턴\\\\csv파일\\\\complain')\n",
    "normal_sim = pd.read_csv('word2vec_model2.csv')\n"
   ]
  },
  {
   "cell_type": "code",
   "execution_count": 275,
   "metadata": {
    "collapsed": false
   },
   "outputs": [],
   "source": [
    "test = normal_sim['Unnamed: 0'].values\n",
    "normal_sim = normal_sim.drop(['Unnamed: 0'], axis=1)\n",
    "normal_sim.index = test"
   ]
  },
  {
   "cell_type": "markdown",
   "metadata": {},
   "source": [
    "# TDM 만들기 / 목표 단어 가중치 매트릭스만들기"
   ]
  },
  {
   "cell_type": "code",
   "execution_count": 276,
   "metadata": {
    "collapsed": false
   },
   "outputs": [
    {
     "data": {
      "text/plain": [
       "(155, 3196)"
      ]
     },
     "execution_count": 276,
     "metadata": {},
     "output_type": "execute_result"
    }
   ],
   "source": [
    "test = [ str(x) for x in Maxcruz2.values.tolist() ] \n",
    "\n",
    "voca = normal_sim.columns\n",
    "\n",
    "from sklearn.feature_extraction.text import CountVectorizer\n",
    "vectorizer = CountVectorizer(vocabulary=voca)\n",
    "context = test\n",
    "X = vectorizer.fit_transform(context)\n",
    "TDM_matrix = pd.DataFrame(X.toarray(), columns=vectorizer.get_feature_names())\n",
    "\n",
    "for column in TDM_matrix.columns:\n",
    "    TDM_matrix.loc[TDM_matrix[column] != 0, column] = 1\n",
    "    \n",
    "TDM_matrix.shape"
   ]
  },
  {
   "cell_type": "code",
   "execution_count": 277,
   "metadata": {
    "collapsed": false
   },
   "outputs": [
    {
     "name": "stdout",
     "output_type": "stream",
     "text": [
      "(155, 4)\n"
     ]
    },
    {
     "data": {
      "text/html": [
       "<div>\n",
       "<table border=\"1\" class=\"dataframe\">\n",
       "  <thead>\n",
       "    <tr style=\"text-align: right;\">\n",
       "      <th></th>\n",
       "      <th>cargo</th>\n",
       "      <th>price</th>\n",
       "      <th>interior</th>\n",
       "      <th>technology</th>\n",
       "    </tr>\n",
       "  </thead>\n",
       "  <tbody>\n",
       "    <tr>\n",
       "      <th>0</th>\n",
       "      <td>1.172884</td>\n",
       "      <td>1.321155</td>\n",
       "      <td>1.272589</td>\n",
       "      <td>1.199085</td>\n",
       "    </tr>\n",
       "    <tr>\n",
       "      <th>1</th>\n",
       "      <td>4.178007</td>\n",
       "      <td>4.743160</td>\n",
       "      <td>4.603252</td>\n",
       "      <td>4.443945</td>\n",
       "    </tr>\n",
       "    <tr>\n",
       "      <th>2</th>\n",
       "      <td>3.688302</td>\n",
       "      <td>4.042762</td>\n",
       "      <td>4.013352</td>\n",
       "      <td>3.865160</td>\n",
       "    </tr>\n",
       "    <tr>\n",
       "      <th>3</th>\n",
       "      <td>1.377639</td>\n",
       "      <td>1.495099</td>\n",
       "      <td>1.482581</td>\n",
       "      <td>1.469132</td>\n",
       "    </tr>\n",
       "    <tr>\n",
       "      <th>4</th>\n",
       "      <td>0.293908</td>\n",
       "      <td>0.319489</td>\n",
       "      <td>0.306339</td>\n",
       "      <td>0.272668</td>\n",
       "    </tr>\n",
       "  </tbody>\n",
       "</table>\n",
       "</div>"
      ],
      "text/plain": [
       "      cargo     price  interior  technology\n",
       "0  1.172884  1.321155  1.272589    1.199085\n",
       "1  4.178007  4.743160  4.603252    4.443945\n",
       "2  3.688302  4.042762  4.013352    3.865160\n",
       "3  1.377639  1.495099  1.482581    1.469132\n",
       "4  0.293908  0.319489  0.306339    0.272668"
      ]
     },
     "execution_count": 277,
     "metadata": {},
     "output_type": "execute_result"
    }
   ],
   "source": [
    "columns = ['cargo','price','interior','technology']\n",
    "ext_sim = normal_sim[columns]\n",
    "\n",
    "test = pd.DataFrame(np.dot(TDM_matrix, ext_sim), columns=columns)\n",
    "print(test.shape)\n",
    "test.head(5)"
   ]
  },
  {
   "cell_type": "code",
   "execution_count": 174,
   "metadata": {
    "collapsed": false,
    "scrolled": true
   },
   "outputs": [
    {
     "data": {
      "text/plain": [
       "'C:\\\\Users\\\\kb910\\\\Google 드라이브\\\\경배끄10\\\\인턴\\\\csv파일\\\\complain'"
      ]
     },
     "execution_count": 174,
     "metadata": {},
     "output_type": "execute_result"
    }
   ],
   "source": [
    "len(test2[test2['cargo']==1])"
   ]
  }
 ],
 "metadata": {
  "kernelspec": {
   "display_name": "Python 3",
   "language": "python",
   "name": "python3"
  },
  "language_info": {
   "codemirror_mode": {
    "name": "ipython",
    "version": 3
   },
   "file_extension": ".py",
   "mimetype": "text/x-python",
   "name": "python",
   "nbconvert_exporter": "python",
   "pygments_lexer": "ipython3",
   "version": "3.6.0"
  }
 },
 "nbformat": 4,
 "nbformat_minor": 2
}
