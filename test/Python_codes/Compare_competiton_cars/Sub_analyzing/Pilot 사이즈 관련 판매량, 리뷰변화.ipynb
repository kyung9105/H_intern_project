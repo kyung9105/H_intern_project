{
 "cells": [
  {
   "cell_type": "code",
   "execution_count": 5,
   "metadata": {
    "collapsed": false
   },
   "outputs": [],
   "source": [
    "import urllib.request, json \n",
    "import pandas as pd\n",
    "import numpy as np\n",
    "import os\n",
    "import nltk, gensim\n",
    "from nltk import word_tokenize\n",
    "import nltk\n",
    "from nltk import regexp_tokenize\n",
    "from nltk.corpus import gutenberg\n",
    "from wordcloud import WordCloud, STOPWORDS\n",
    "from os import path\n",
    "from PIL import Image\n",
    "import matplotlib.pyplot as plt\n",
    "%matplotlib inline"
   ]
  },
  {
   "cell_type": "code",
   "execution_count": 2,
   "metadata": {
    "collapsed": true
   },
   "outputs": [],
   "source": [
    "from matplotlib import font_manager, rc\n",
    "font_fname = 'c:/windows/fonts/gulim.ttc'     # A font of your choice\n",
    "font_name = font_manager.FontProperties(fname=font_fname).get_name()\n",
    "rc('font', family=font_name)"
   ]
  },
  {
   "cell_type": "code",
   "execution_count": 7,
   "metadata": {
    "collapsed": false
   },
   "outputs": [
    {
     "data": {
      "text/html": [
       "<div>\n",
       "<table border=\"1\" class=\"dataframe\">\n",
       "  <thead>\n",
       "    <tr style=\"text-align: right;\">\n",
       "      <th></th>\n",
       "      <th>Brand</th>\n",
       "      <th>GLOBAL_MODEL</th>\n",
       "      <th>GLOBAL_SEGMENT</th>\n",
       "      <th>Strategic Group</th>\n",
       "      <th>Y2012</th>\n",
       "      <th>Y2013</th>\n",
       "      <th>Y2014</th>\n",
       "      <th>Y2015</th>\n",
       "      <th>Y2016</th>\n",
       "    </tr>\n",
       "  </thead>\n",
       "  <tbody>\n",
       "    <tr>\n",
       "      <th>355</th>\n",
       "      <td>Honda</td>\n",
       "      <td>Pilot</td>\n",
       "      <td>SUV-D</td>\n",
       "      <td>Honda</td>\n",
       "      <td>114848</td>\n",
       "      <td>126678</td>\n",
       "      <td>108857</td>\n",
       "      <td>136212</td>\n",
       "      <td>120772</td>\n",
       "    </tr>\n",
       "  </tbody>\n",
       "</table>\n",
       "</div>"
      ],
      "text/plain": [
       "     Brand GLOBAL_MODEL GLOBAL_SEGMENT Strategic Group   Y2012   Y2013  \\\n",
       "355  Honda        Pilot          SUV-D           Honda  114848  126678   \n",
       "\n",
       "      Y2014   Y2015   Y2016  \n",
       "355  108857  136212  120772  "
      ]
     },
     "execution_count": 7,
     "metadata": {},
     "output_type": "execute_result"
    }
   ],
   "source": [
    "os.chdir('C:\\\\Users\\\\kb910\\\\Google 드라이브\\\\경배끄10\\\\인턴\\\\csv파일\\\\판매량')\n",
    "data = open('final_all_sell(year).json').read()\n",
    "data = pd.DataFrame(json.loads(data))\n",
    "data[data['GLOBAL_MODEL']=='Pilot']"
   ]
  },
  {
   "cell_type": "code",
   "execution_count": null,
   "metadata": {
    "collapsed": true
   },
   "outputs": [],
   "source": []
  }
 ],
 "metadata": {
  "kernelspec": {
   "display_name": "Python 3",
   "language": "python",
   "name": "python3"
  },
  "language_info": {
   "codemirror_mode": {
    "name": "ipython",
    "version": 3
   },
   "file_extension": ".py",
   "mimetype": "text/x-python",
   "name": "python",
   "nbconvert_exporter": "python",
   "pygments_lexer": "ipython3",
   "version": "3.6.0"
  }
 },
 "nbformat": 4,
 "nbformat_minor": 2
}
