{
 "cells": [
  {
   "cell_type": "markdown",
   "metadata": {},
   "source": [
    "\n",
    "#### Rating 정보는 분류(주행,안전,등등)별로 나눠서 평균치를 계산한다.\n",
    "#### Review의 text를 Mining해서 유사도를 측정한다.\n",
    "    * 군집화?? or Word2Vec을 사용.\n",
    "\n",
    "#### 경쟁차량의 선정은 어떻게??\n",
    "    * 유사도 측정 -> 군집화?? 스펙으로 군집화해야하나..?\n",
    "\n",
    "\n",
    "#### 경재제품과의 비교는 어떻게 해야할까??\n",
    "    * 경쟁 제품의 spec과 차이를 비교 및 시각화 "
   ]
  },
  {
   "cell_type": "code",
   "execution_count": 1,
   "metadata": {
    "collapsed": false
   },
   "outputs": [
    {
     "data": {
      "text/plain": [
       "'C:\\\\Users\\\\kb910\\\\Google 드라이브\\\\경배끄10\\\\인턴\\\\python_code\\\\Data수집'"
      ]
     },
     "execution_count": 1,
     "metadata": {},
     "output_type": "execute_result"
    }
   ],
   "source": [
    "import urllib.request, json \n",
    "import pandas as pd\n",
    "import numpy as np\n",
    "import os\n",
    "os.getcwd()"
   ]
  },
  {
   "cell_type": "code",
   "execution_count": 60,
   "metadata": {
    "collapsed": true
   },
   "outputs": [],
   "source": [
    "os.chdir('C:\\\\Users\\\\kb910\\\\Google 드라이브\\\\경배끄10\\\\인턴\\\\csv파일\\\\spec\\Segment관련_SUV')"
   ]
  },
  {
   "cell_type": "code",
   "execution_count": 2,
   "metadata": {
    "collapsed": true
   },
   "outputs": [],
   "source": [
    "os.chdir('C:\\\\Users\\\\kb910\\\\Google 드라이브\\\\경배끄10\\\\인턴\\\\csv파일\\\\리뷰들')"
   ]
  },
  {
   "cell_type": "code",
   "execution_count": 3,
   "metadata": {
    "collapsed": true
   },
   "outputs": [],
   "source": [
    "merge_dummy = pd.DataFrame(np.arange(1).reshape(1,1))"
   ]
  },
  {
   "cell_type": "code",
   "execution_count": 9,
   "metadata": {
    "collapsed": false,
    "scrolled": true
   },
   "outputs": [],
   "source": [
    "make_name = 'hyundai'\n",
    "model_name = 'santa-fe'\n",
    "year = 2012\n",
    "url = urllib.request.urlopen(\"https://api.edmunds.com/api/vehiclereviews/v2/\"+make_name+\"/\"+model_name+\"/\"+str(year)+\"?fmt=json&api_key=dkxz83rg7hhregrkq586gkpk&pagesize=100\")\n",
    "review_data = json.loads(url.read())\n",
    "df_review_data = pd.DataFrame.from_dict(review_data['reviews'])\n",
    "df_review_data['make_name'] = make_name\n",
    "df_review_data['model_name'] = model_name\n",
    "df_review_data['year_dummy'] = year\n",
    "merge_review = pd.concat([merge_dummy, df_review_data])\n",
    "merge_dummy = merge_review"
   ]
  },
  {
   "cell_type": "code",
   "execution_count": 10,
   "metadata": {
    "collapsed": false
   },
   "outputs": [
    {
     "data": {
      "text/plain": [
       "166"
      ]
     },
     "execution_count": 10,
     "metadata": {},
     "output_type": "execute_result"
    }
   ],
   "source": [
    "len(merge_review['model_name'])"
   ]
  },
  {
   "cell_type": "code",
   "execution_count": 11,
   "metadata": {
    "collapsed": false
   },
   "outputs": [
    {
     "data": {
      "text/plain": [
       "(165, 30)"
      ]
     },
     "execution_count": 11,
     "metadata": {},
     "output_type": "execute_result"
    }
   ],
   "source": [
    "merge_dummy.index = [length for length in range(len(merge_dummy))]\n",
    "merge_dummy = merge_dummy.drop(0)\n",
    "merge_dummy = merge_dummy.drop([0],axis=1)\n",
    "merge_dummy.shape"
   ]
  },
  {
   "cell_type": "code",
   "execution_count": 12,
   "metadata": {
    "collapsed": false
   },
   "outputs": [
    {
     "data": {
      "text/plain": [
       "array([ 2017.,  2016.,  2015.,  2014.,  2013.,  2012.])"
      ]
     },
     "execution_count": 12,
     "metadata": {},
     "output_type": "execute_result"
    }
   ],
   "source": [
    "test = merge_review[merge_review['model_name']=='santa-fe']\n",
    "test['year_dummy'].unique()"
   ]
  },
  {
   "cell_type": "code",
   "execution_count": 13,
   "metadata": {
    "collapsed": false
   },
   "outputs": [],
   "source": [
    "merge_dummy.to_json('Final_maxcruz_review.json')\n",
    "merge_dummy.to_csv('Final_maxcruz_review.csv')"
   ]
  },
  {
   "cell_type": "code",
   "execution_count": null,
   "metadata": {
    "collapsed": false
   },
   "outputs": [],
   "source": [
    "os.getcwd()"
   ]
  },
  {
   "cell_type": "code",
   "execution_count": null,
   "metadata": {
    "collapsed": true
   },
   "outputs": [],
   "source": []
  }
 ],
 "metadata": {
  "kernelspec": {
   "display_name": "Python 3",
   "language": "python",
   "name": "python3"
  },
  "language_info": {
   "codemirror_mode": {
    "name": "ipython",
    "version": 3
   },
   "file_extension": ".py",
   "mimetype": "text/x-python",
   "name": "python",
   "nbconvert_exporter": "python",
   "pygments_lexer": "ipython3",
   "version": "3.6.0"
  }
 },
 "nbformat": 4,
 "nbformat_minor": 2
}
