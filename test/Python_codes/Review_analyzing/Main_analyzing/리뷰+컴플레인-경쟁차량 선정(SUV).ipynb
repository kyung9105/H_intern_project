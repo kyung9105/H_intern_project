{
 "cells": [
  {
   "cell_type": "markdown",
   "metadata": {},
   "source": [
    "# Introduction\n",
    "* Maxcruz의 Complaint 데이터와 Review 데이터를 분석하여 **Maxcruz와 비중있는 경쟁차량을 선정**한다.\n",
    "    1. Maxcruz를 구입한 고객들 리뷰에서 다른 경쟁차량이 얼마나 언급되는지\n",
    "    2. 경쟁차량을 구입한 고객 리뷰에서 Maxcruz가 얼마나 언급되는지"
   ]
  },
  {
   "cell_type": "code",
   "execution_count": 1,
   "metadata": {},
   "outputs": [
    {
     "name": "stderr",
     "output_type": "stream",
     "text": [
      "C:\\Users\\kb910\\Anaconda3\\lib\\site-packages\\gensim\\utils.py:865: UserWarning: detected Windows; aliasing chunkize to chunkize_serial\n",
      "  warnings.warn(\"detected Windows; aliasing chunkize to chunkize_serial\")\n"
     ]
    }
   ],
   "source": [
    "import urllib.request, json \n",
    "import pandas as pd\n",
    "import numpy as np\n",
    "import os\n",
    "import nltk, gensim\n",
    "from nltk import word_tokenize"
   ]
  },
  {
   "cell_type": "code",
   "execution_count": 2,
   "metadata": {},
   "outputs": [
    {
     "data": {
      "text/plain": [
       "'C:\\\\Users\\\\kb910\\\\Google 드라이브\\\\경배끄10\\\\인턴\\\\python_code\\\\리뷰'"
      ]
     },
     "execution_count": 2,
     "metadata": {},
     "output_type": "execute_result"
    }
   ],
   "source": [
    "os.getcwd()"
   ]
  },
  {
   "cell_type": "markdown",
   "metadata": {},
   "source": [
    "# 리뷰데이터"
   ]
  },
  {
   "cell_type": "code",
   "execution_count": 38,
   "metadata": {},
   "outputs": [
    {
     "data": {
      "text/plain": [
       "array(['murano', 'cx-9', '4runner', 'grand-cherokee', 'qx50', 'pathfinder',\n",
       "       'flex', 'traverse', 'acadia', 'highlander', 'explorer', 'pilot',\n",
       "       'durango'], dtype=object)"
      ]
     },
     "execution_count": 38,
     "metadata": {},
     "output_type": "execute_result"
    }
   ],
   "source": [
    "os.chdir('C:\\\\Users\\\\kb910\\\\Google 드라이브\\\\경배끄10\\\\인턴\\\\csv파일\\\\리뷰들\\\\SUV리뷰')\n",
    "data = open('all_suv_review(15~17).json').read()\n",
    "suv_review1= pd.DataFrame(json.loads(data))\n",
    "suv_review1['model_name'].unique()"
   ]
  },
  {
   "cell_type": "code",
   "execution_count": 39,
   "metadata": {},
   "outputs": [
    {
     "data": {
      "text/plain": [
       "array(['edge', 'santa-fe', 'sorento'], dtype=object)"
      ]
     },
     "execution_count": 39,
     "metadata": {},
     "output_type": "execute_result"
    }
   ],
   "source": [
    "os.chdir('C:\\\\Users\\\\kb910\\\\Google 드라이브\\\\경배끄10\\\\인턴\\\\csv파일\\\\리뷰들\\\\SUV리뷰')\n",
    "data = open('all_suv_review2(15~17).json').read()\n",
    "suv_review2= pd.DataFrame(json.loads(data))\n",
    "suv_review2['model_name'].unique()"
   ]
  },
  {
   "cell_type": "code",
   "execution_count": 40,
   "metadata": {
    "collapsed": true
   },
   "outputs": [],
   "source": [
    "last_suv_review = pd.concat([suv_review1,suv_review2])"
   ]
  },
  {
   "cell_type": "markdown",
   "metadata": {},
   "source": [
    "# 컴플레인 데이터"
   ]
  },
  {
   "cell_type": "code",
   "execution_count": 41,
   "metadata": {},
   "outputs": [
    {
     "data": {
      "text/plain": [
       "array(['durango', 'explorer', 'edge', 'traverse', 'acadia', 'flex', 'cx-9',\n",
       "       'murano', 'pathfinder', '4runner', 'highlander', 'pilot',\n",
       "       'santa_fe', 'qx50', 'sorento'], dtype=object)"
      ]
     },
     "execution_count": 41,
     "metadata": {},
     "output_type": "execute_result"
    }
   ],
   "source": [
    "os.chdir('C:\\\\Users\\\\kb910\\\\Google 드라이브\\\\경배끄10\\\\인턴\\\\csv파일\\\\complain')\n",
    "data = open('real_all_suv_compalin(15~17).json').read()\n",
    "suv_complain = pd.DataFrame(json.loads(data))\n",
    "suv_complain['model_name'].unique()"
   ]
  },
  {
   "cell_type": "code",
   "execution_count": 42,
   "metadata": {},
   "outputs": [
    {
     "data": {
      "text/html": [
       "<div>\n",
       "<table border=\"1\" class=\"dataframe\">\n",
       "  <thead>\n",
       "    <tr style=\"text-align: right;\">\n",
       "      <th></th>\n",
       "      <th>B_category</th>\n",
       "      <th>S_category</th>\n",
       "      <th>city</th>\n",
       "      <th>country</th>\n",
       "      <th>date</th>\n",
       "      <th>sub_title</th>\n",
       "      <th>text</th>\n",
       "      <th>title</th>\n",
       "      <th>year</th>\n",
       "    </tr>\n",
       "  </thead>\n",
       "  <tbody>\n",
       "    <tr>\n",
       "      <th>0</th>\n",
       "      <td>fuel_system</td>\n",
       "      <td>fuel_propulsion_system</td>\n",
       "      <td>NC</td>\n",
       "      <td>USA</td>\n",
       "      <td>28-Jun</td>\n",
       "      <td>8,000 miles</td>\n",
       "      <td>I bought a 2016 Santa Fe sport at carmax 8000 ...</td>\n",
       "      <td>Santa Fe</td>\n",
       "      <td>2016</td>\n",
       "    </tr>\n",
       "    <tr>\n",
       "      <th>1</th>\n",
       "      <td>seat_belts_air_bags</td>\n",
       "      <td>seat_belts-front-retractor</td>\n",
       "      <td>Sound</td>\n",
       "      <td>USA</td>\n",
       "      <td>03-Sep</td>\n",
       "      <td>miles</td>\n",
       "      <td>2016 Hyundai sante fe involved in a near head ...</td>\n",
       "      <td>Santa Fe</td>\n",
       "      <td>2016</td>\n",
       "    </tr>\n",
       "    <tr>\n",
       "      <th>2</th>\n",
       "      <td>wheels_hubs</td>\n",
       "      <td>wheels</td>\n",
       "      <td>TX</td>\n",
       "      <td>USA</td>\n",
       "      <td>25-Mar</td>\n",
       "      <td>3,400 miles</td>\n",
       "      <td>The SUV 2016 come equipped with Continental 23...</td>\n",
       "      <td>Santa Fe</td>\n",
       "      <td>2016</td>\n",
       "    </tr>\n",
       "    <tr>\n",
       "      <th>3</th>\n",
       "      <td>body_paint</td>\n",
       "      <td>structure-body</td>\n",
       "      <td>Haven</td>\n",
       "      <td>USA</td>\n",
       "      <td>04-Dec</td>\n",
       "      <td>13,640 miles</td>\n",
       "      <td>The entire panarama sunroof exploded on my 201...</td>\n",
       "      <td>Santa Fe</td>\n",
       "      <td>2016</td>\n",
       "    </tr>\n",
       "    <tr>\n",
       "      <th>4</th>\n",
       "      <td>body_paint</td>\n",
       "      <td>structure</td>\n",
       "      <td>VA</td>\n",
       "      <td>USA</td>\n",
       "      <td>06-Oct</td>\n",
       "      <td>900 miles</td>\n",
       "      <td>The contact owns a 2016 Hyundai Santa Fe. The ...</td>\n",
       "      <td>Santa Fe</td>\n",
       "      <td>2015</td>\n",
       "    </tr>\n",
       "  </tbody>\n",
       "</table>\n",
       "</div>"
      ],
      "text/plain": [
       "            B_category                  S_category   city country    date  \\\n",
       "0          fuel_system      fuel_propulsion_system     NC     USA  28-Jun   \n",
       "1  seat_belts_air_bags  seat_belts-front-retractor  Sound     USA  03-Sep   \n",
       "2          wheels_hubs                      wheels     TX     USA  25-Mar   \n",
       "3           body_paint              structure-body  Haven     USA  04-Dec   \n",
       "4           body_paint                   structure     VA     USA  06-Oct   \n",
       "\n",
       "      sub_title                                               text     title  \\\n",
       "0   8,000 miles  I bought a 2016 Santa Fe sport at carmax 8000 ...  Santa Fe   \n",
       "1         miles  2016 Hyundai sante fe involved in a near head ...  Santa Fe   \n",
       "2   3,400 miles  The SUV 2016 come equipped with Continental 23...  Santa Fe   \n",
       "3  13,640 miles  The entire panarama sunroof exploded on my 201...  Santa Fe   \n",
       "4     900 miles  The contact owns a 2016 Hyundai Santa Fe. The ...  Santa Fe   \n",
       "\n",
       "   year  \n",
       "0  2016  \n",
       "1  2016  \n",
       "2  2016  \n",
       "3  2016  \n",
       "4  2015  "
      ]
     },
     "execution_count": 42,
     "metadata": {},
     "output_type": "execute_result"
    }
   ],
   "source": [
    "os.chdir('C:\\\\Users\\\\kb910\\\\Google 드라이브\\\\경배끄10\\\\인턴\\\\csv파일\\\\complain')\n",
    "data = pd.read_csv('Santafe_review_16.csv')\n",
    "data2 = pd.read_csv('Santafe_review_17.csv')\n",
    "Complain_data = pd.concat([data, data2])\n",
    "Complain_data = Complain_data.drop(['Unnamed: 0'],axis=1)\n",
    "Complain_data.head(5)"
   ]
  },
  {
   "cell_type": "code",
   "execution_count": 45,
   "metadata": {},
   "outputs": [],
   "source": [
    "Complain_data['model_name']='santa-fe'"
   ]
  },
  {
   "cell_type": "markdown",
   "metadata": {},
   "source": [
    "## 데이터 합치기"
   ]
  },
  {
   "cell_type": "code",
   "execution_count": 46,
   "metadata": {},
   "outputs": [],
   "source": [
    "last_suv_review_text = last_suv_review[['model_name','text']]\n",
    "suv_complain_text = suv_complain[['model_name','text']]\n",
    "Complain_data = Complain_data[['model_name','text']]"
   ]
  },
  {
   "cell_type": "code",
   "execution_count": 47,
   "metadata": {
    "collapsed": true
   },
   "outputs": [],
   "source": [
    "merge_suv = pd.concat([last_suv_review_text, suv_complain_text, Complain_data])"
   ]
  },
  {
   "cell_type": "code",
   "execution_count": 48,
   "metadata": {},
   "outputs": [
    {
     "data": {
      "text/plain": [
       "146"
      ]
     },
     "execution_count": 48,
     "metadata": {},
     "output_type": "execute_result"
    }
   ],
   "source": [
    "len(merge_suv[merge_suv['model_name']=='santa-fe'])"
   ]
  },
  {
   "cell_type": "markdown",
   "metadata": {},
   "source": [
    "## 경쟁차량리뷰에서  Maxcruz 비중"
   ]
  },
  {
   "cell_type": "code",
   "execution_count": 49,
   "metadata": {
    "collapsed": true
   },
   "outputs": [],
   "source": [
    "def SUV_to_Maxcruz(table):\n",
    "    \n",
    "    model_list = merge_suv['model_name'].unique()\n",
    "    \n",
    "    for model in model_list:\n",
    "        table = merge_suv[merge_suv['model_name']==model]\n",
    "        voca = ['santa-fe','santa','Santa','Santa Fe','Santa-Fe']\n",
    "        test = [ str(x) for x in table['text'].values.tolist() ] \n",
    "\n",
    "        from sklearn.feature_extraction.text import CountVectorizer\n",
    "        vectorizer = CountVectorizer(vocabulary=voca)\n",
    "        context = test\n",
    "        X = vectorizer.fit_transform(context)\n",
    "        TDM_matrix = pd.DataFrame(X.toarray(), columns=vectorizer.get_feature_names())\n",
    "\n",
    "        for column in TDM_matrix.columns:\n",
    "            TDM_matrix.loc[TDM_matrix[column] != 0, column] = 1\n",
    "\n",
    "        TDM_matrix.loc[('sum_count')] = [ TDM_matrix[x].sum() for x in TDM_matrix.columns ]\n",
    "\n",
    "        score = round(TDM_matrix.loc[('sum_count')].sum() / len(table)*100,3)\n",
    "        \n",
    "        print(str(model)+\"의 Maxcruz 경쟁 비중 : \"+str(score)+\"%\"+'  / 리뷰 counting :  '+str(TDM_matrix.loc[('sum_count')].sum()) +  '   / 전체리뷰개수 :'+str(len(table)))\n",
    "        print('\\n')"
   ]
  },
  {
   "cell_type": "code",
   "execution_count": 50,
   "metadata": {},
   "outputs": [
    {
     "name": "stdout",
     "output_type": "stream",
     "text": [
      "murano의 Maxcruz 경쟁 비중 : 0.344%  / 리뷰 counting :  1   / 전체리뷰개수 :291\n",
      "\n",
      "\n",
      "cx-9의 Maxcruz 경쟁 비중 : 0.893%  / 리뷰 counting :  1   / 전체리뷰개수 :112\n",
      "\n",
      "\n",
      "4runner의 Maxcruz 경쟁 비중 : 0.0%  / 리뷰 counting :  0   / 전체리뷰개수 :167\n",
      "\n",
      "\n",
      "grand-cherokee의 Maxcruz 경쟁 비중 : 0.73%  / 리뷰 counting :  1   / 전체리뷰개수 :137\n",
      "\n",
      "\n",
      "qx50의 Maxcruz 경쟁 비중 : 0.0%  / 리뷰 counting :  0   / 전체리뷰개수 :26\n",
      "\n",
      "\n",
      "pathfinder의 Maxcruz 경쟁 비중 : 1.17%  / 리뷰 counting :  2   / 전체리뷰개수 :171\n",
      "\n",
      "\n",
      "flex의 Maxcruz 경쟁 비중 : 0.0%  / 리뷰 counting :  0   / 전체리뷰개수 :49\n",
      "\n",
      "\n",
      "traverse의 Maxcruz 경쟁 비중 : 0.645%  / 리뷰 counting :  1   / 전체리뷰개수 :155\n",
      "\n",
      "\n",
      "acadia의 Maxcruz 경쟁 비중 : 3.65%  / 리뷰 counting :  5   / 전체리뷰개수 :137\n",
      "\n",
      "\n",
      "highlander의 Maxcruz 경쟁 비중 : 0.272%  / 리뷰 counting :  1   / 전체리뷰개수 :368\n",
      "\n",
      "\n",
      "explorer의 Maxcruz 경쟁 비중 : 0.398%  / 리뷰 counting :  3   / 전체리뷰개수 :754\n",
      "\n",
      "\n",
      "pilot의 Maxcruz 경쟁 비중 : 0.542%  / 리뷰 counting :  2   / 전체리뷰개수 :369\n",
      "\n",
      "\n",
      "durango의 Maxcruz 경쟁 비중 : 0.0%  / 리뷰 counting :  0   / 전체리뷰개수 :133\n",
      "\n",
      "\n",
      "edge의 Maxcruz 경쟁 비중 : 1.185%  / 리뷰 counting :  5   / 전체리뷰개수 :422\n",
      "\n",
      "\n",
      "santa-fe의 Maxcruz 경쟁 비중 : 45.89%  / 리뷰 counting :  67   / 전체리뷰개수 :146\n",
      "\n",
      "\n",
      "sorento의 Maxcruz 경쟁 비중 : 1.954%  / 리뷰 counting :  6   / 전체리뷰개수 :307\n",
      "\n",
      "\n",
      "santa_fe의 Maxcruz 경쟁 비중 : 43.836%  / 리뷰 counting :  64   / 전체리뷰개수 :146\n",
      "\n",
      "\n"
     ]
    }
   ],
   "source": [
    "SUV_to_Maxcruz(merge_suv)"
   ]
  },
  {
   "cell_type": "code",
   "execution_count": 51,
   "metadata": {
    "collapsed": true
   },
   "outputs": [],
   "source": [
    "# acadia / sorento / pathfinder / cx-9 / edge / traverse / murano / pilot / highlander / "
   ]
  },
  {
   "cell_type": "markdown",
   "metadata": {},
   "source": [
    "## Maxcruz리뷰에서 경쟁차량 파악"
   ]
  },
  {
   "cell_type": "code",
   "execution_count": 56,
   "metadata": {
    "collapsed": true
   },
   "outputs": [],
   "source": [
    "def Maxcruz_to_SUV(table):\n",
    "    \n",
    "    voca_list = ['highlander','durango','cx','pilot','pathfinder','4runner','flex','traverse','acadia','explorer','murano','cherokee','sorento','edge']\n",
    "    \n",
    "    for voca in voca_list:\n",
    "\n",
    "        test = [ str(x) for x in table['text'].values.tolist() ] \n",
    "\n",
    "        from sklearn.feature_extraction.text import CountVectorizer\n",
    "        vectorizer = CountVectorizer(vocabulary=[voca])\n",
    "        context = test\n",
    "        X = vectorizer.fit_transform(context)\n",
    "        TDM_matrix = pd.DataFrame(X.toarray(), columns=vectorizer.get_feature_names())\n",
    "\n",
    "        for column in TDM_matrix.columns:\n",
    "            TDM_matrix.loc[TDM_matrix[column] != 0, column] = 1\n",
    "\n",
    "        TDM_matrix.loc[('sum_count')] = [ TDM_matrix[x].sum() for x in TDM_matrix.columns ]\n",
    "\n",
    "        score = round(TDM_matrix.loc[('sum_count')].sum() / len(table)*100,3)\n",
    "\n",
    "        print(\"Maxcruz의\" +str(voca)+ \"경쟁 비중 : \"+str(score)+\"%\"  '/ 리뷰 counting :  '+str(TDM_matrix.loc[('sum_count')].sum()) +  '   / 전체리뷰개수 :'+str(len(table)))\n",
    "        print('\\n')\n"
   ]
  },
  {
   "cell_type": "code",
   "execution_count": 57,
   "metadata": {},
   "outputs": [
    {
     "name": "stdout",
     "output_type": "stream",
     "text": [
      "Maxcruz의highlander경쟁 비중 : 3.425%/ 리뷰 counting :  5   / 전체리뷰개수 :146\n",
      "\n",
      "\n",
      "Maxcruz의durango경쟁 비중 : 0.0%/ 리뷰 counting :  0   / 전체리뷰개수 :146\n",
      "\n",
      "\n",
      "Maxcruz의cx경쟁 비중 : 0.0%/ 리뷰 counting :  0   / 전체리뷰개수 :146\n",
      "\n",
      "\n",
      "Maxcruz의pilot경쟁 비중 : 5.479%/ 리뷰 counting :  8   / 전체리뷰개수 :146\n",
      "\n",
      "\n",
      "Maxcruz의pathfinder경쟁 비중 : 0.685%/ 리뷰 counting :  1   / 전체리뷰개수 :146\n",
      "\n",
      "\n",
      "Maxcruz의4runner경쟁 비중 : 0.0%/ 리뷰 counting :  0   / 전체리뷰개수 :146\n",
      "\n",
      "\n",
      "Maxcruz의flex경쟁 비중 : 0.0%/ 리뷰 counting :  0   / 전체리뷰개수 :146\n",
      "\n",
      "\n",
      "Maxcruz의traverse경쟁 비중 : 1.37%/ 리뷰 counting :  2   / 전체리뷰개수 :146\n",
      "\n",
      "\n",
      "Maxcruz의acadia경쟁 비중 : 0.685%/ 리뷰 counting :  1   / 전체리뷰개수 :146\n",
      "\n",
      "\n",
      "Maxcruz의explorer경쟁 비중 : 1.37%/ 리뷰 counting :  2   / 전체리뷰개수 :146\n",
      "\n",
      "\n",
      "Maxcruz의murano경쟁 비중 : 0.685%/ 리뷰 counting :  1   / 전체리뷰개수 :146\n",
      "\n",
      "\n",
      "Maxcruz의cherokee경쟁 비중 : 0.0%/ 리뷰 counting :  0   / 전체리뷰개수 :146\n",
      "\n",
      "\n",
      "Maxcruz의sorento경쟁 비중 : 2.055%/ 리뷰 counting :  3   / 전체리뷰개수 :146\n",
      "\n",
      "\n",
      "Maxcruz의edge경쟁 비중 : 1.37%/ 리뷰 counting :  2   / 전체리뷰개수 :146\n",
      "\n",
      "\n"
     ]
    }
   ],
   "source": [
    "Maxcruz_to_SUV(merge_suv[merge_suv['model_name']=='santa-fe'])"
   ]
  }
 ],
 "metadata": {
  "kernelspec": {
   "display_name": "Python 3",
   "language": "python",
   "name": "python3"
  },
  "language_info": {
   "codemirror_mode": {
    "name": "ipython",
    "version": 3
   },
   "file_extension": ".py",
   "mimetype": "text/x-python",
   "name": "python",
   "nbconvert_exporter": "python",
   "pygments_lexer": "ipython3",
   "version": "3.6.1"
  }
 },
 "nbformat": 4,
 "nbformat_minor": 2
}
