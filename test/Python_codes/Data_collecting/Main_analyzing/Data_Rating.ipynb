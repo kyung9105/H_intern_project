{
 "cells": [
  {
   "cell_type": "code",
   "execution_count": 87,
   "metadata": {
    "collapsed": false
   },
   "outputs": [
    {
     "data": {
      "text/plain": [
       "'C:\\\\Users\\\\kb910\\\\Google 드라이브\\\\경배끄10\\\\인턴\\\\csv파일\\\\리뷰들'"
      ]
     },
     "execution_count": 87,
     "metadata": {},
     "output_type": "execute_result"
    }
   ],
   "source": [
    "import urllib.request, json \n",
    "import pandas as pd\n",
    "import numpy as np\n",
    "import os\n",
    "import seaborn as sns\n",
    "import matplotlib.pyplot as plt\n",
    "%matplotlib inline \n",
    "os.getcwd()"
   ]
  },
  {
   "cell_type": "code",
   "execution_count": 18,
   "metadata": {
    "collapsed": false
   },
   "outputs": [],
   "source": [
    "url_go = urllib.request.urlopen('http://api.edmunds.com/api/vehicle/v2/hyundai?fmt=json&api_key=amngfcrcpt6bcqn84kgxu6s2&state=new&view=full')\n",
    "make_data = json.loads(url_go.read())\n",
    "make_data = pd.DataFrame(make_data)"
   ]
  },
  {
   "cell_type": "code",
   "execution_count": 21,
   "metadata": {
    "collapsed": false
   },
   "outputs": [
    {
     "data": {
      "text/html": [
       "<div>\n",
       "<table border=\"1\" class=\"dataframe\">\n",
       "  <thead>\n",
       "    <tr style=\"text-align: right;\">\n",
       "      <th></th>\n",
       "      <th>models</th>\n",
       "    </tr>\n",
       "  </thead>\n",
       "  <tbody>\n",
       "    <tr>\n",
       "      <th>0</th>\n",
       "      <td>{'id': 'Hyundai_Accent', 'name': 'Accent', 'ni...</td>\n",
       "    </tr>\n",
       "    <tr>\n",
       "      <th>1</th>\n",
       "      <td>{'id': 'Hyundai_Azera', 'name': 'Azera', 'nice...</td>\n",
       "    </tr>\n",
       "    <tr>\n",
       "      <th>2</th>\n",
       "      <td>{'id': 'Hyundai_Elantra', 'name': 'Elantra', '...</td>\n",
       "    </tr>\n",
       "    <tr>\n",
       "      <th>3</th>\n",
       "      <td>{'id': 'Hyundai_Elantra_GT', 'name': 'Elantra ...</td>\n",
       "    </tr>\n",
       "    <tr>\n",
       "      <th>4</th>\n",
       "      <td>{'id': 'Hyundai_Equus', 'name': 'Equus', 'nice...</td>\n",
       "    </tr>\n",
       "    <tr>\n",
       "      <th>5</th>\n",
       "      <td>{'id': 'Hyundai_Genesis', 'name': 'Genesis', '...</td>\n",
       "    </tr>\n",
       "    <tr>\n",
       "      <th>6</th>\n",
       "      <td>{'id': 'Hyundai_Genesis_Coupe', 'name': 'Genes...</td>\n",
       "    </tr>\n",
       "    <tr>\n",
       "      <th>7</th>\n",
       "      <td>{'id': 'Hyundai_Ioniq_Electric', 'name': 'Ioni...</td>\n",
       "    </tr>\n",
       "    <tr>\n",
       "      <th>8</th>\n",
       "      <td>{'id': 'Hyundai_Ioniq_Hybrid', 'name': 'Ioniq ...</td>\n",
       "    </tr>\n",
       "    <tr>\n",
       "      <th>9</th>\n",
       "      <td>{'id': 'Hyundai_Santa_Fe', 'name': 'Santa Fe',...</td>\n",
       "    </tr>\n",
       "    <tr>\n",
       "      <th>10</th>\n",
       "      <td>{'id': 'Hyundai_Santa_Fe_Sport', 'name': 'Sant...</td>\n",
       "    </tr>\n",
       "    <tr>\n",
       "      <th>11</th>\n",
       "      <td>{'id': 'Hyundai_Sonata', 'name': 'Sonata', 'ni...</td>\n",
       "    </tr>\n",
       "    <tr>\n",
       "      <th>12</th>\n",
       "      <td>{'id': 'Hyundai_Sonata_Hybrid', 'name': 'Sonat...</td>\n",
       "    </tr>\n",
       "    <tr>\n",
       "      <th>13</th>\n",
       "      <td>{'id': 'Hyundai_Sonata_Plug_in_Hybrid', 'name'...</td>\n",
       "    </tr>\n",
       "    <tr>\n",
       "      <th>14</th>\n",
       "      <td>{'id': 'Hyundai_Tucson', 'name': 'Tucson', 'ni...</td>\n",
       "    </tr>\n",
       "    <tr>\n",
       "      <th>15</th>\n",
       "      <td>{'id': 'Hyundai_Veloster', 'name': 'Veloster',...</td>\n",
       "    </tr>\n",
       "  </tbody>\n",
       "</table>\n",
       "</div>"
      ],
      "text/plain": [
       "                                               models\n",
       "0   {'id': 'Hyundai_Accent', 'name': 'Accent', 'ni...\n",
       "1   {'id': 'Hyundai_Azera', 'name': 'Azera', 'nice...\n",
       "2   {'id': 'Hyundai_Elantra', 'name': 'Elantra', '...\n",
       "3   {'id': 'Hyundai_Elantra_GT', 'name': 'Elantra ...\n",
       "4   {'id': 'Hyundai_Equus', 'name': 'Equus', 'nice...\n",
       "5   {'id': 'Hyundai_Genesis', 'name': 'Genesis', '...\n",
       "6   {'id': 'Hyundai_Genesis_Coupe', 'name': 'Genes...\n",
       "7   {'id': 'Hyundai_Ioniq_Electric', 'name': 'Ioni...\n",
       "8   {'id': 'Hyundai_Ioniq_Hybrid', 'name': 'Ioniq ...\n",
       "9   {'id': 'Hyundai_Santa_Fe', 'name': 'Santa Fe',...\n",
       "10  {'id': 'Hyundai_Santa_Fe_Sport', 'name': 'Sant...\n",
       "11  {'id': 'Hyundai_Sonata', 'name': 'Sonata', 'ni...\n",
       "12  {'id': 'Hyundai_Sonata_Hybrid', 'name': 'Sonat...\n",
       "13  {'id': 'Hyundai_Sonata_Plug_in_Hybrid', 'name'...\n",
       "14  {'id': 'Hyundai_Tucson', 'name': 'Tucson', 'ni...\n",
       "15  {'id': 'Hyundai_Veloster', 'name': 'Veloster',..."
      ]
     },
     "execution_count": 21,
     "metadata": {},
     "output_type": "execute_result"
    }
   ],
   "source": [
    "pd.DataFrame(make_data['models'])"
   ]
  },
  {
   "cell_type": "code",
   "execution_count": 2,
   "metadata": {
    "collapsed": true
   },
   "outputs": [],
   "source": [
    "os.chdir('C:\\\\Users\\\\kb910\\\\Google 드라이브\\\\경배끄10\\\\인턴\\\\csv파일\\\\리뷰들')"
   ]
  },
  {
   "cell_type": "code",
   "execution_count": 3,
   "metadata": {
    "collapsed": true
   },
   "outputs": [],
   "source": [
    "merge_dummy = pd.DataFrame(np.arange(1).reshape(1,1))"
   ]
  },
  {
   "cell_type": "code",
   "execution_count": 61,
   "metadata": {
    "collapsed": false
   },
   "outputs": [],
   "source": [
    "make_name = 'hyundai'\n",
    "model_name = 'azera'\n",
    "year = 2016\n",
    "url = urllib.request.urlopen(\"https://api.edmunds.com/api/vehiclereviews/v2/\"+make_name+\"/\"+model_name+\"/\"+str(year)+\"?fmt=json&api_key=gy72r6dacnxxqmkzrqbd84t5&pagesize=100\")\n",
    "review_data = json.loads(url.read())\n",
    "df_review_data = pd.DataFrame.from_dict(review_data['reviews'])\n",
    "df_review_data['make_name'] = make_name\n",
    "df_review_data['model_name'] = model_name\n",
    "df_review_data['year_dummy'] = year\n",
    "merge_review = pd.concat([merge_dummy, df_review_data])\n",
    "merge_dummy = merge_review"
   ]
  },
  {
   "cell_type": "code",
   "execution_count": 62,
   "metadata": {
    "collapsed": false
   },
   "outputs": [
    {
     "data": {
      "text/plain": [
       "398"
      ]
     },
     "execution_count": 62,
     "metadata": {},
     "output_type": "execute_result"
    }
   ],
   "source": [
    "len(merge_review['model_name'])"
   ]
  },
  {
   "cell_type": "code",
   "execution_count": 47,
   "metadata": {
    "collapsed": false
   },
   "outputs": [
    {
     "data": {
      "text/plain": [
       "(384, 28)"
      ]
     },
     "execution_count": 47,
     "metadata": {},
     "output_type": "execute_result"
    }
   ],
   "source": [
    "merge_dummy.index = [length for length in range(len(merge_dummy))]\n",
    "merge_dummy = merge_dummy.drop(0)\n",
    "merge_dummy = merge_dummy.drop([0],axis=1)\n",
    "merge_dummy.shape"
   ]
  },
  {
   "cell_type": "code",
   "execution_count": 65,
   "metadata": {
    "collapsed": false
   },
   "outputs": [
    {
     "data": {
      "text/plain": [
       "model_name\n",
       "accent            4.090909\n",
       "azera             4.933333\n",
       "elantra           4.414894\n",
       "elantra-gt        4.090909\n",
       "santa-fe          4.518519\n",
       "santa-fe-sport    4.310345\n",
       "sonata            4.484848\n",
       "tucson            3.034483\n",
       "Name: averageRating, dtype: float64"
      ]
     },
     "execution_count": 65,
     "metadata": {},
     "output_type": "execute_result"
    }
   ],
   "source": [
    "hyundai_rating = merge_dummy.groupby(merge_dummy['model_name'])['averageRating'].mean()\n",
    "hyundai_rating"
   ]
  },
  {
   "cell_type": "code",
   "execution_count": 63,
   "metadata": {
    "collapsed": false
   },
   "outputs": [],
   "source": [
    "merge_dummy['averageRating'] = merge_dummy['averageRating'].apply(int)"
   ]
  },
  {
   "cell_type": "code",
   "execution_count": 81,
   "metadata": {
    "collapsed": false
   },
   "outputs": [],
   "source": [
    "review_count= merge_dummy.groupby(merge_dummy['model_name'])['author'].count()"
   ]
  },
  {
   "cell_type": "code",
   "execution_count": 90,
   "metadata": {
    "collapsed": false
   },
   "outputs": [
    {
     "data": {
      "text/html": [
       "<div>\n",
       "<table border=\"1\" class=\"dataframe\">\n",
       "  <thead>\n",
       "    <tr style=\"text-align: right;\">\n",
       "      <th></th>\n",
       "      <th>model_name</th>\n",
       "      <th>averageRating</th>\n",
       "      <th>author</th>\n",
       "    </tr>\n",
       "  </thead>\n",
       "  <tbody>\n",
       "    <tr>\n",
       "      <th>0</th>\n",
       "      <td>accent</td>\n",
       "      <td>4.090909</td>\n",
       "      <td>11</td>\n",
       "    </tr>\n",
       "    <tr>\n",
       "      <th>1</th>\n",
       "      <td>azera</td>\n",
       "      <td>4.933333</td>\n",
       "      <td>15</td>\n",
       "    </tr>\n",
       "    <tr>\n",
       "      <th>2</th>\n",
       "      <td>elantra</td>\n",
       "      <td>4.414894</td>\n",
       "      <td>94</td>\n",
       "    </tr>\n",
       "    <tr>\n",
       "      <th>3</th>\n",
       "      <td>elantra-gt</td>\n",
       "      <td>4.090909</td>\n",
       "      <td>11</td>\n",
       "    </tr>\n",
       "    <tr>\n",
       "      <th>4</th>\n",
       "      <td>santa-fe</td>\n",
       "      <td>4.518519</td>\n",
       "      <td>27</td>\n",
       "    </tr>\n",
       "    <tr>\n",
       "      <th>5</th>\n",
       "      <td>santa-fe-sport</td>\n",
       "      <td>4.310345</td>\n",
       "      <td>58</td>\n",
       "    </tr>\n",
       "    <tr>\n",
       "      <th>6</th>\n",
       "      <td>sonata</td>\n",
       "      <td>4.484848</td>\n",
       "      <td>66</td>\n",
       "    </tr>\n",
       "    <tr>\n",
       "      <th>7</th>\n",
       "      <td>tucson</td>\n",
       "      <td>3.034483</td>\n",
       "      <td>116</td>\n",
       "    </tr>\n",
       "  </tbody>\n",
       "</table>\n",
       "</div>"
      ],
      "text/plain": [
       "       model_name  averageRating  author\n",
       "0          accent       4.090909      11\n",
       "1           azera       4.933333      15\n",
       "2         elantra       4.414894      94\n",
       "3      elantra-gt       4.090909      11\n",
       "4        santa-fe       4.518519      27\n",
       "5  santa-fe-sport       4.310345      58\n",
       "6          sonata       4.484848      66\n",
       "7          tucson       3.034483     116"
      ]
     },
     "execution_count": 90,
     "metadata": {},
     "output_type": "execute_result"
    }
   ],
   "source": [
    "hyundai_rating_table = pd.concat([hyundai_rating, review_count],axis=1)\n",
    "hyundai_rating_table = hyundai_rating_table.reset_index()\n",
    "hyundai_rating_table"
   ]
  },
  {
   "cell_type": "code",
   "execution_count": 95,
   "metadata": {
    "collapsed": true
   },
   "outputs": [],
   "source": [
    "hyundai_rating_table.to_csv('hyundai_rating.csv')\n",
    "hyundai_rating_table.to_json('hyundai_rating.json')"
   ]
  },
  {
   "cell_type": "code",
   "execution_count": 94,
   "metadata": {
    "collapsed": false
   },
   "outputs": [
    {
     "data": {
      "text/plain": [
       "<matplotlib.axes._subplots.AxesSubplot at 0x21106c05908>"
      ]
     },
     "execution_count": 94,
     "metadata": {},
     "output_type": "execute_result"
    },
    {
     "data": {
      "image/png": "[encoded data removed]",
      "text/plain": [
       "<matplotlib.figure.Figure at 0x21106be4860>"
      ]
     },
     "metadata": {},
     "output_type": "display_data"
    }
   ],
   "source": [
    "fig1, ax1 = plt.subplots(1, figsize=(18,8))\n",
    "sns.barplot(data=hyundai_rating_table, x='model_name', y='averageRating')"
   ]
  },
  {
   "cell_type": "code",
   "execution_count": null,
   "metadata": {
    "collapsed": true
   },
   "outputs": [],
   "source": []
  }
 ],
 "metadata": {
  "kernelspec": {
   "display_name": "Python 3",
   "language": "python",
   "name": "python3"
  },
  "language_info": {
   "codemirror_mode": {
    "name": "ipython",
    "version": 3
   },
   "file_extension": ".py",
   "mimetype": "text/x-python",
   "name": "python",
   "nbconvert_exporter": "python",
   "pygments_lexer": "ipython3",
   "version": "3.6.0"
  }
 },
 "nbformat": 4,
 "nbformat_minor": 2
}
