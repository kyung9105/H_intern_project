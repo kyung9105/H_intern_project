{
 "cells": [
  {
   "cell_type": "markdown",
   "metadata": {},
   "source": [
    "# Introduction\n",
    "* 북미에서 판매되고 있는 SUV 60종을 크기를 기준으로 Kmeans Clustering 하여 Maxcruz의 크기기준 **경쟁차량 파악**"
   ]
  },
  {
   "cell_type": "code",
   "execution_count": 1,
   "metadata": {
    "collapsed": true
   },
   "outputs": [],
   "source": [
    "import pandas as pd\n",
    "import urllib.request, json\n",
    "import numpy as np\n",
    "import os\n",
    "import matplotlib.pyplot as plt\n",
    "import seaborn as sns\n",
    "os.getcwd()\n",
    "%matplotlib inline"
   ]
  },
  {
   "cell_type": "code",
   "execution_count": 53,
   "metadata": {
    "collapsed": true
   },
   "outputs": [],
   "source": [
    "from matplotlib import font_manager, rc\n",
    "font_fname = 'C:\\\\Windows\\\\Fonts\\\\malgun.ttf'     # A font of your choice\n",
    "font_name = font_manager.FontProperties(fname=font_fname).get_name()\n",
    "rc('font', family=font_name)"
   ]
  },
  {
   "cell_type": "code",
   "execution_count": 54,
   "metadata": {},
   "outputs": [
    {
     "data": {
      "text/plain": [
       "'C:\\\\Users\\\\kb910\\\\Google 드라이브\\\\경배끄10\\\\인턴\\\\csv파일\\\\spec\\\\Segment관련_SUV'"
      ]
     },
     "execution_count": 54,
     "metadata": {},
     "output_type": "execute_result"
    }
   ],
   "source": [
    "os.getcwd()"
   ]
  },
  {
   "cell_type": "code",
   "execution_count": 55,
   "metadata": {
    "collapsed": true
   },
   "outputs": [],
   "source": [
    "os.chdir('C:\\\\Users\\\\kb910\\\\Google 드라이브\\\\경배끄10\\\\인턴\\\\csv파일\\\\spec\\\\Segment관련_SUV')"
   ]
  },
  {
   "cell_type": "code",
   "execution_count": 56,
   "metadata": {
    "collapsed": true
   },
   "outputs": [],
   "source": [
    "data = open('real_final_suv_seg.json').read()\n",
    "data = pd.DataFrame(json.loads(data))"
   ]
  },
  {
   "cell_type": "code",
   "execution_count": 57,
   "metadata": {},
   "outputs": [
    {
     "data": {
      "text/plain": [
       "Index(['Brand', 'GLOBAL_SEGMENT', 'MPG_avg', 'Segment', 'Y2012', 'Y2013',\n",
       "       'Y2014', 'Y2015', 'Y2016', 'baseMSRP', 'base_weight', 'cargo_space',\n",
       "       'exterior', 'f_head', 'f_hip', 'f_leg', 'f_shoulder', 'height',\n",
       "       'horsepower', 'interior', 'length', 'make_name', 'model_name',\n",
       "       'pass_capa', 'pass_vol', 's_head', 's_hip', 's_leg', 's_shoulder',\n",
       "       'track_width_front', 'track_width_rear', 'wheelbase', 'width'],\n",
       "      dtype='object')"
      ]
     },
     "execution_count": 57,
     "metadata": {},
     "output_type": "execute_result"
    }
   ],
   "source": [
    "data.index = [ x for x in range(len(data))]\n",
    "data.columns"
   ]
  },
  {
   "cell_type": "code",
   "execution_count": 58,
   "metadata": {
    "collapsed": true
   },
   "outputs": [],
   "source": [
    "from sklearn.cluster import KMeans\n",
    "import mglearn"
   ]
  },
  {
   "cell_type": "code",
   "execution_count": 59,
   "metadata": {},
   "outputs": [
    {
     "data": {
      "text/plain": [
       "Int64Index([26], dtype='int64')"
      ]
     },
     "execution_count": 59,
     "metadata": {},
     "output_type": "execute_result"
    }
   ],
   "source": [
    "data[data['model_name']=='range-rover'].index"
   ]
  },
  {
   "cell_type": "code",
   "execution_count": 60,
   "metadata": {
    "collapsed": true
   },
   "outputs": [],
   "source": [
    "data = data.drop([26,56])"
   ]
  },
  {
   "cell_type": "code",
   "execution_count": 61,
   "metadata": {
    "collapsed": true
   },
   "outputs": [],
   "source": [
    "data['interior'] = data[['pass_capa', 'f_head', 'f_leg','cargo_space','pass_vol',\n",
    "       'f_shoulder', 'f_hip', 's_head', 's_leg', 's_shoulder', 's_hip']].sum(axis=1)\n",
    "\n",
    "data['exterior'] = data[['wheelbase', 'length', 'width', 'height',\n",
    "       'track_width_front', 'track_width_rear']].sum(axis=1)\n",
    "data['full_size'] = data['interior'] + data['exterior']"
   ]
  },
  {
   "cell_type": "code",
   "execution_count": null,
   "metadata": {
    "collapsed": true
   },
   "outputs": [],
   "source": [
    "feature = ['pass_capa', 'f_head', 'f_leg','f_shoulder', 'f_hip', 's_head', 's_leg', 's_shoulder', 's_hip',\n",
    "        'wheelbase', 'length', 'width', 'height','track_width_front', 'track_width_rear',\n",
    "            'baseMSRP','full_size','cargo_space','pass_vol']\n",
    "cluster_value = data[feature].values\n",
    "\n",
    "\n",
    "kmeans = KMeans(n_clusters=3, random_state=1)\n",
    "kmeans.fit(cluster_value)\n",
    "\n",
    "labels = ['MidLarge_SUV','Midsize_SUV','Largesize_SUV' ]\n",
    "plot_x = pd.DataFrame(cluster_value)[15]\n",
    "plot_y = pd.DataFrame(cluster_value)[16]\n",
    "\n",
    "\n",
    "label_color = {0:'red',1:'green',2:'blue'}\n",
    "current_palette = sns.color_palette(\"Blues\")\n",
    "test = [current_palette[1], '#a1d4ff', '#6dbdff']\n",
    "colors =[current_palette[1],'#359cfb','blue']\n",
    "\n",
    "fig, ax = plt.subplots(1, figsize=(15,8))\n",
    "mglearn.discrete_scatter(cluster_value[:, 15], cluster_value[:, 16], kmeans.labels_, markers='o',c=colors, s=13)\n",
    "\n",
    "\n",
    "\n",
    "\n",
    "    \n",
    "plt.xlabel('Price', fontsize=15, weight='bold')\n",
    "plt.ylabel('Exterior+Interior Size', fontsize=15, weight='bold')\n",
    "plt.tick_params(axis='both', which='major', labelsize=15)\n",
    "\n",
    "ax.legend(labels,loc='upper center',bbox_to_anchor=(0.5, -0.08),\n",
    "          fancybox=True, shadow=True, ncol=4, prop={'size':15})\n",
    "\n",
    "ax.annotate('Maxcruz', xy=(cluster_value[30][15], cluster_value[30][16]), xytext=(cluster_value[30][15]-13000, cluster_value[30][16]+15),\n",
    "            arrowprops=dict(facecolor='black', shrink=0.05), fontsize=20, color='black')\n",
    "\n",
    "ax.annotate('Santa Fe', xy=(cluster_value[31][15], cluster_value[31][16]), xytext=(cluster_value[31][15]-8500, cluster_value[31][16]-15),\n",
    "            arrowprops=dict(facecolor='black', shrink=0.02), fontsize=20, color='black')\n",
    "\n",
    "\n",
    "\n",
    "plt.title('첫번째 Segment', fontsize=17, weight='bold')\n",
    "\n",
    "plt.savefig('첫번째 Segment.png')\n",
    "\n",
    "plt.show()\n"
   ]
  },
  {
   "cell_type": "code",
   "execution_count": 62,
   "metadata": {
    "collapsed": true
   },
   "outputs": [],
   "source": [
    "feature = ['pass_capa', 'f_head', 'f_leg','f_shoulder', 'f_hip', 's_head', 's_leg', 's_shoulder', 's_hip',\n",
    "        'wheelbase', 'length', 'width', 'height','track_width_front', 'track_width_rear',\n",
    "            'baseMSRP','full_size','cargo_space','pass_vol']\n",
    "cluster_value = data[feature].values"
   ]
  },
  {
   "cell_type": "code",
   "execution_count": 63,
   "metadata": {},
   "outputs": [
    {
     "data": {
      "text/plain": [
       "KMeans(algorithm='auto', copy_x=True, init='k-means++', max_iter=300,\n",
       "    n_clusters=3, n_init=10, n_jobs=1, precompute_distances='auto',\n",
       "    random_state=1, tol=0.0001, verbose=0)"
      ]
     },
     "execution_count": 63,
     "metadata": {},
     "output_type": "execute_result"
    }
   ],
   "source": [
    "kmeans = KMeans(n_clusters=3, random_state=1)\n",
    "kmeans.fit(cluster_value)"
   ]
  },
  {
   "cell_type": "code",
   "execution_count": 64,
   "metadata": {},
   "outputs": [
    {
     "data": {
      "text/plain": [
       "1193.0"
      ]
     },
     "execution_count": 64,
     "metadata": {},
     "output_type": "execute_result"
    }
   ],
   "source": [
    "cluster_value[0][16]"
   ]
  },
  {
   "cell_type": "code",
   "execution_count": 65,
   "metadata": {
    "collapsed": true
   },
   "outputs": [],
   "source": [
    "data.index = [x for x in range(len(data))]"
   ]
  },
  {
   "cell_type": "code",
   "execution_count": 66,
   "metadata": {},
   "outputs": [
    {
     "data": {
      "text/plain": [
       "Int64Index([31], dtype='int64')"
      ]
     },
     "execution_count": 66,
     "metadata": {},
     "output_type": "execute_result"
    }
   ],
   "source": [
    "data[data['model_name']=='santa-fe-sport'].index"
   ]
  },
  {
   "cell_type": "code",
   "execution_count": 68,
   "metadata": {
    "scrolled": false
   },
   "outputs": [
    {
     "data": {
      "image/png": "[encoded data removed]",
      "text/plain": [
       "<matplotlib.figure.Figure at 0x27381213a20>"
      ]
     },
     "metadata": {},
     "output_type": "display_data"
    }
   ],
   "source": [
    "labels = ['MidLarge_SUV','Midsize_SUV','Largesize_SUV' ]\n",
    "plot_x = pd.DataFrame(cluster_value)[15]\n",
    "plot_y = pd.DataFrame(cluster_value)[16]\n",
    "\n",
    "\n",
    "label_color = {0:'red',1:'green',2:'blue'}\n",
    "current_palette = sns.color_palette(\"Blues\")\n",
    "test = [current_palette[1], '#a1d4ff', '#6dbdff']\n",
    "colors =[current_palette[1],'#359cfb','blue']\n",
    "\n",
    "fig, ax = plt.subplots(1, figsize=(15,8))\n",
    "mglearn.discrete_scatter(cluster_value[:, 15], cluster_value[:, 16], kmeans.labels_, markers='o',c=colors, s=13)\n",
    "\n",
    "\n",
    "\n",
    "\n",
    "    \n",
    "plt.xlabel('Price', fontsize=15, weight='bold')\n",
    "plt.ylabel('Exterior+Interior Size', fontsize=15, weight='bold')\n",
    "plt.tick_params(axis='both', which='major', labelsize=15)\n",
    "\n",
    "ax.legend(labels,loc='upper center',bbox_to_anchor=(0.5, -0.08),\n",
    "          fancybox=True, shadow=True, ncol=4, prop={'size':15})\n",
    "\n",
    "ax.annotate('Maxcruz', xy=(cluster_value[30][15], cluster_value[30][16]), xytext=(cluster_value[30][15]-13000, cluster_value[30][16]+15),\n",
    "            arrowprops=dict(facecolor='black', shrink=0.05), fontsize=20, color='black')\n",
    "\n",
    "ax.annotate('Santa Fe', xy=(cluster_value[31][15], cluster_value[31][16]), xytext=(cluster_value[31][15]-8500, cluster_value[31][16]-15),\n",
    "            arrowprops=dict(facecolor='black', shrink=0.02), fontsize=20, color='black')\n",
    "\n",
    "\n",
    "\n",
    "plt.title('첫번째 Segment', fontsize=17, weight='bold')\n",
    "\n",
    "plt.savefig('첫번째 Segment.png')\n",
    "\n",
    "plt.show()\n"
   ]
  },
  {
   "cell_type": "code",
   "execution_count": 174,
   "metadata": {},
   "outputs": [
    {
     "data": {
      "text/plain": [
       "array([1, 1, 2, 2, 0, 1, 0, 1, 2, 2, 0, 0, 0, 1, 1, 1, 2, 1, 1, 1, 1, 0, 1,\n",
       "       1, 0, 2, 2, 1, 1, 1, 1, 1, 0, 1, 1, 1, 0, 0, 0, 1, 1, 1, 0, 0, 0, 0,\n",
       "       1, 0, 0, 0, 1, 1, 1, 2, 1, 1, 2])"
      ]
     },
     "execution_count": 174,
     "metadata": {},
     "output_type": "execute_result"
    }
   ],
   "source": [
    "kmeans.labels_\n",
    "# 1이 Midsize\n",
    "# 2가 Large\n",
    "# 0 이 Midlarge"
   ]
  },
  {
   "cell_type": "code",
   "execution_count": 31,
   "metadata": {},
   "outputs": [
    {
     "data": {
      "text/plain": [
       "0           4runner\n",
       "1            acadia\n",
       "2         gle-class\n",
       "3         gle-coupe\n",
       "4            armada\n",
       "5    grand-cherokee\n",
       "6                gx\n",
       "7        highlander\n",
       "8      land-cruiser\n",
       "9                lx\n",
       "Name: model_name, dtype: object"
      ]
     },
     "execution_count": 31,
     "metadata": {},
     "output_type": "execute_result"
    }
   ],
   "source": [
    "data['model_name'][:10]"
   ]
  },
  {
   "cell_type": "code",
   "execution_count": 175,
   "metadata": {
    "collapsed": true
   },
   "outputs": [],
   "source": [
    "segment_suv2 = pd.concat( [ pd.DataFrame(kmeans.labels_), pd.DataFrame(data['model_name'])] ,axis=1)"
   ]
  },
  {
   "cell_type": "code",
   "execution_count": 176,
   "metadata": {
    "collapsed": true
   },
   "outputs": [],
   "source": [
    "segment_suv2.columns = ['Segment','model_name']\n",
    "segment_suv2.loc[segment_suv2['Segment']==0, 'Segment'] = 'MidLarge_SUV'\n",
    "segment_suv2.loc[segment_suv2['Segment']==1, 'Segment'] = 'Midsize_SUV'\n",
    "segment_suv2.loc[segment_suv2['Segment']==2, 'Segment'] = 'Largesize_SUV'\n",
    "\n",
    "test = pd.merge(data, segment_suv2, on='model_name')"
   ]
  },
  {
   "cell_type": "code",
   "execution_count": 177,
   "metadata": {
    "collapsed": true
   },
   "outputs": [],
   "source": [
    "test = test.drop(['Segment_x'], axis=1)"
   ]
  },
  {
   "cell_type": "code",
   "execution_count": 179,
   "metadata": {
    "collapsed": true
   },
   "outputs": [],
   "source": [
    "test.to_csv('real_final_suv_seg2.csv')\n",
    "test.to_json('real_final_suv_seg2.json')"
   ]
  },
  {
   "cell_type": "code",
   "execution_count": 307,
   "metadata": {
    "collapsed": true
   },
   "outputs": [],
   "source": [
    "exer = pd.merge(segment_suv, segment_suv2, on='Model')\n",
    "exer.to_csv('세그먼트 변화.csv')"
   ]
  },
  {
   "cell_type": "code",
   "execution_count": 309,
   "metadata": {},
   "outputs": [
    {
     "data": {
      "text/plain": [
       "'C:\\\\Users\\\\kb910\\\\Google 드라이브\\\\경배끄10\\\\인턴\\\\csv파일\\\\spec'"
      ]
     },
     "execution_count": 309,
     "metadata": {},
     "output_type": "execute_result"
    }
   ],
   "source": [
    "os.getcwd()"
   ]
  },
  {
   "cell_type": "code",
   "execution_count": 133,
   "metadata": {},
   "outputs": [
    {
     "data": {
      "text/html": [
       "<div>\n",
       "<table border=\"1\" class=\"dataframe\">\n",
       "  <thead>\n",
       "    <tr style=\"text-align: right;\">\n",
       "      <th></th>\n",
       "      <th>model_name</th>\n",
       "      <th>make_name</th>\n",
       "      <th>pass_capa</th>\n",
       "      <th>pass_vol</th>\n",
       "      <th>f_head</th>\n",
       "      <th>f_leg</th>\n",
       "      <th>f_shoulder</th>\n",
       "      <th>f_hip</th>\n",
       "      <th>s_head</th>\n",
       "      <th>s_leg</th>\n",
       "      <th>...</th>\n",
       "      <th>s_hip</th>\n",
       "      <th>base_weight</th>\n",
       "      <th>wheelbase</th>\n",
       "      <th>length</th>\n",
       "      <th>width</th>\n",
       "      <th>height</th>\n",
       "      <th>track_width_front</th>\n",
       "      <th>track_width_rear</th>\n",
       "      <th>interior</th>\n",
       "      <th>exterior</th>\n",
       "    </tr>\n",
       "  </thead>\n",
       "  <tbody>\n",
       "    <tr>\n",
       "      <th>9</th>\n",
       "      <td>pilot</td>\n",
       "      <td>honda</td>\n",
       "      <td>8</td>\n",
       "      <td>151.7</td>\n",
       "      <td>39.5</td>\n",
       "      <td>40.9</td>\n",
       "      <td>62.0</td>\n",
       "      <td>59.1</td>\n",
       "      <td>39.9</td>\n",
       "      <td>38.4</td>\n",
       "      <td>...</td>\n",
       "      <td>57.3</td>\n",
       "      <td>4288.0</td>\n",
       "      <td>111.0</td>\n",
       "      <td>194.5</td>\n",
       "      <td>78.6</td>\n",
       "      <td>69.8</td>\n",
       "      <td>66.3</td>\n",
       "      <td>66.3</td>\n",
       "      <td>558.8</td>\n",
       "      <td>586.5</td>\n",
       "    </tr>\n",
       "  </tbody>\n",
       "</table>\n",
       "<p>1 rows × 21 columns</p>\n",
       "</div>"
      ],
      "text/plain": [
       "  model_name make_name  pass_capa  pass_vol  f_head  f_leg  f_shoulder  f_hip  \\\n",
       "9      pilot     honda          8     151.7    39.5   40.9        62.0   59.1   \n",
       "\n",
       "   s_head  s_leg    ...     s_hip  base_weight  wheelbase  length  width  \\\n",
       "9    39.9   38.4    ...      57.3       4288.0      111.0   194.5   78.6   \n",
       "\n",
       "   height  track_width_front  track_width_rear  interior  exterior  \n",
       "9    69.8               66.3              66.3     558.8     586.5  \n",
       "\n",
       "[1 rows x 21 columns]"
      ]
     },
     "execution_count": 133,
     "metadata": {},
     "output_type": "execute_result"
    }
   ],
   "source": [
    "data[data['model_name']=='pilot']"
   ]
  },
  {
   "cell_type": "code",
   "execution_count": 100,
   "metadata": {},
   "outputs": [
    {
     "data": {
      "text/html": [
       "<div>\n",
       "<table border=\"1\" class=\"dataframe\">\n",
       "  <thead>\n",
       "    <tr style=\"text-align: right;\">\n",
       "      <th></th>\n",
       "      <th>model_name</th>\n",
       "      <th>make_name</th>\n",
       "      <th>pass_capa</th>\n",
       "      <th>pass_vol</th>\n",
       "      <th>f_head</th>\n",
       "      <th>f_leg</th>\n",
       "      <th>f_shoulder</th>\n",
       "      <th>f_hip</th>\n",
       "      <th>s_head</th>\n",
       "      <th>s_leg</th>\n",
       "      <th>...</th>\n",
       "      <th>s_hip</th>\n",
       "      <th>base_weight</th>\n",
       "      <th>wheelbase</th>\n",
       "      <th>length</th>\n",
       "      <th>width</th>\n",
       "      <th>height</th>\n",
       "      <th>track_width_front</th>\n",
       "      <th>track_width_rear</th>\n",
       "      <th>interior</th>\n",
       "      <th>exterior</th>\n",
       "    </tr>\n",
       "  </thead>\n",
       "  <tbody>\n",
       "    <tr>\n",
       "      <th>4</th>\n",
       "      <td>srx</td>\n",
       "      <td>cadillac</td>\n",
       "      <td>5</td>\n",
       "      <td>111.6293</td>\n",
       "      <td>39.7</td>\n",
       "      <td>41.2</td>\n",
       "      <td>58.3</td>\n",
       "      <td>55.4</td>\n",
       "      <td>38.4</td>\n",
       "      <td>36.3</td>\n",
       "      <td>...</td>\n",
       "      <td>54.7</td>\n",
       "      <td>4442.0</td>\n",
       "      <td>110.5</td>\n",
       "      <td>190.3</td>\n",
       "      <td>75.2</td>\n",
       "      <td>65.7</td>\n",
       "      <td>63.8</td>\n",
       "      <td>63.4</td>\n",
       "      <td>496.9293</td>\n",
       "      <td>568.9</td>\n",
       "    </tr>\n",
       "  </tbody>\n",
       "</table>\n",
       "<p>1 rows × 21 columns</p>\n",
       "</div>"
      ],
      "text/plain": [
       "  model_name make_name  pass_capa  pass_vol  f_head  f_leg  f_shoulder  f_hip  \\\n",
       "4        srx  cadillac          5  111.6293    39.7   41.2        58.3   55.4   \n",
       "\n",
       "   s_head  s_leg    ...     s_hip  base_weight  wheelbase  length  width  \\\n",
       "4    38.4   36.3    ...      54.7       4442.0      110.5   190.3   75.2   \n",
       "\n",
       "   height  track_width_front  track_width_rear  interior  exterior  \n",
       "4    65.7               63.8              63.4  496.9293     568.9  \n",
       "\n",
       "[1 rows x 21 columns]"
      ]
     },
     "execution_count": 100,
     "metadata": {},
     "output_type": "execute_result"
    }
   ],
   "source": [
    "data[data['model_name']=='srx']"
   ]
  },
  {
   "cell_type": "code",
   "execution_count": 115,
   "metadata": {},
   "outputs": [
    {
     "data": {
      "text/html": [
       "<div>\n",
       "<table border=\"1\" class=\"dataframe\">\n",
       "  <thead>\n",
       "    <tr style=\"text-align: right;\">\n",
       "      <th></th>\n",
       "      <th>Brand</th>\n",
       "      <th>GLOBAL_MODEL</th>\n",
       "      <th>GLOBAL_SEGMENT</th>\n",
       "      <th>Strategic Group</th>\n",
       "      <th>Y2012</th>\n",
       "      <th>Y2013</th>\n",
       "      <th>Y2014</th>\n",
       "      <th>Y2015</th>\n",
       "      <th>Y2016</th>\n",
       "    </tr>\n",
       "  </thead>\n",
       "  <tbody>\n",
       "    <tr>\n",
       "      <th>227</th>\n",
       "      <td>Toyota</td>\n",
       "      <td>Highlander</td>\n",
       "      <td>SUV-D</td>\n",
       "      <td>Toyota</td>\n",
       "      <td>121054</td>\n",
       "      <td>127573</td>\n",
       "      <td>146127</td>\n",
       "      <td>158915</td>\n",
       "      <td>191379</td>\n",
       "    </tr>\n",
       "  </tbody>\n",
       "</table>\n",
       "</div>"
      ],
      "text/plain": [
       "      Brand GLOBAL_MODEL GLOBAL_SEGMENT Strategic Group   Y2012   Y2013  \\\n",
       "227  Toyota   Highlander          SUV-D          Toyota  121054  127573   \n",
       "\n",
       "      Y2014   Y2015   Y2016  \n",
       "227  146127  158915  191379  "
      ]
     },
     "execution_count": 115,
     "metadata": {},
     "output_type": "execute_result"
    }
   ],
   "source": [
    "data = open('final_all_sell(year).json').read()\n",
    "test = pd.DataFrame(json.loads(data))\n",
    "test[test['GLOBAL_MODEL'] == 'Highlander']"
   ]
  },
  {
   "cell_type": "markdown",
   "metadata": {
    "collapsed": true
   },
   "source": [
    "## 두번째 Segment"
   ]
  },
  {
   "cell_type": "code",
   "execution_count": 24,
   "metadata": {
    "collapsed": true
   },
   "outputs": [],
   "source": [
    "data = open('real_final_suv_seg2.json').read()\n",
    "data = pd.DataFrame(json.loads(data))"
   ]
  },
  {
   "cell_type": "code",
   "execution_count": 25,
   "metadata": {
    "collapsed": true
   },
   "outputs": [],
   "source": [
    "suv_table = data"
   ]
  },
  {
   "cell_type": "code",
   "execution_count": 26,
   "metadata": {
    "collapsed": true
   },
   "outputs": [],
   "source": [
    "SUV_D_cluster = suv_table[suv_table[\"Segment_y\"] == 'Midsize_SUV']"
   ]
  },
  {
   "cell_type": "code",
   "execution_count": 27,
   "metadata": {},
   "outputs": [
    {
     "data": {
      "text/plain": [
       "Index(['Brand', 'GLOBAL_SEGMENT', 'MPG_avg', 'Segment_y', 'Y2012', 'Y2013',\n",
       "       'Y2014', 'Y2015', 'Y2016', 'baseMSRP', 'base_weight', 'cargo_space',\n",
       "       'exterior', 'f_head', 'f_hip', 'f_leg', 'f_shoulder', 'full_feature',\n",
       "       'full_size', 'height', 'horsepower', 'interior', 'length', 'make_name',\n",
       "       'model_name', 'pass_capa', 'pass_vol', 's_head', 's_hip', 's_leg',\n",
       "       's_shoulder', 'track_width_front', 'track_width_rear', 'wheelbase',\n",
       "       'width'],\n",
       "      dtype='object')"
      ]
     },
     "execution_count": 27,
     "metadata": {},
     "output_type": "execute_result"
    }
   ],
   "source": [
    "SUV_D_cluster.columns"
   ]
  },
  {
   "cell_type": "code",
   "execution_count": 28,
   "metadata": {},
   "outputs": [
    {
     "name": "stderr",
     "output_type": "stream",
     "text": [
      "C:\\Users\\kb910\\Anaconda3\\lib\\site-packages\\ipykernel\\__main__.py:2: SettingWithCopyWarning: \n",
      "A value is trying to be set on a copy of a slice from a DataFrame.\n",
      "Try using .loc[row_indexer,col_indexer] = value instead\n",
      "\n",
      "See the caveats in the documentation: http://pandas.pydata.org/pandas-docs/stable/indexing.html#indexing-view-versus-copy\n",
      "  from ipykernel import kernelapp as app\n",
      "C:\\Users\\kb910\\Anaconda3\\lib\\site-packages\\ipykernel\\__main__.py:5: SettingWithCopyWarning: \n",
      "A value is trying to be set on a copy of a slice from a DataFrame.\n",
      "Try using .loc[row_indexer,col_indexer] = value instead\n",
      "\n",
      "See the caveats in the documentation: http://pandas.pydata.org/pandas-docs/stable/indexing.html#indexing-view-versus-copy\n",
      "C:\\Users\\kb910\\Anaconda3\\lib\\site-packages\\ipykernel\\__main__.py:9: SettingWithCopyWarning: \n",
      "A value is trying to be set on a copy of a slice from a DataFrame.\n",
      "Try using .loc[row_indexer,col_indexer] = value instead\n",
      "\n",
      "See the caveats in the documentation: http://pandas.pydata.org/pandas-docs/stable/indexing.html#indexing-view-versus-copy\n"
     ]
    }
   ],
   "source": [
    "SUV_D_cluster['interior'] = SUV_D_cluster[['pass_capa', 'f_head', 'f_leg','cargo_space','pass_vol',\n",
    "       'f_shoulder', 'f_hip', 's_head', 's_leg', 's_shoulder', 's_hip']].sum(axis=1)\n",
    "\n",
    "SUV_D_cluster['exterior'] = SUV_D_cluster[['wheelbase', 'length', 'width', 'height',\n",
    "       'track_width_front', 'track_width_rear']].sum(axis=1)\n",
    "\n",
    "\n",
    "\n",
    "SUV_D_cluster['full_size'] = SUV_D_cluster['exterior'] + SUV_D_cluster['interior']"
   ]
  },
  {
   "cell_type": "code",
   "execution_count": 29,
   "metadata": {
    "collapsed": true
   },
   "outputs": [],
   "source": [
    "SUV_D_cluster.index = SUV_D_cluster['model_name']\n",
    "\n",
    "feature = ['pass_capa', 'f_head', 'f_leg','f_shoulder', 'f_hip', 's_head', 's_leg', 's_shoulder', 's_hip',\n",
    "        'wheelbase', 'length', 'width', 'height','track_width_front', 'track_width_rear',\n",
    "           'baseMSRP','full_size','cargo_space','pass_vol']\n",
    "cluster_value = SUV_D_cluster[feature].values"
   ]
  },
  {
   "cell_type": "code",
   "execution_count": 30,
   "metadata": {},
   "outputs": [
    {
     "data": {
      "image/png": "[encoded data removed]",
      "text/plain": [
       "<matplotlib.figure.Figure at 0x273ff4b5e10>"
      ]
     },
     "metadata": {},
     "output_type": "display_data"
    }
   ],
   "source": [
    "def elbow(x):\n",
    "    sse = []\n",
    "    for i in range(1,11):\n",
    "        km=KMeans(n_clusters=i, init='k-means++', random_state=0)\n",
    "        km.fit(x)\n",
    "        sse.append(km.inertia_)\n",
    "        \n",
    "    plt.plot(range(1,11), sse, marker='o')\n",
    "    plt.xlabel('클러스터 개수')\n",
    "    plt.ylabel('SSE')\n",
    "    plt.show\n",
    "\n",
    "elbow(cluster_value)"
   ]
  },
  {
   "cell_type": "code",
   "execution_count": 31,
   "metadata": {},
   "outputs": [
    {
     "data": {
      "text/plain": [
       "KMeans(algorithm='auto', copy_x=True, init='k-means++', max_iter=300,\n",
       "    n_clusters=3, n_init=10, n_jobs=1, precompute_distances='auto',\n",
       "    random_state=None, tol=0.0001, verbose=0)"
      ]
     },
     "execution_count": 31,
     "metadata": {},
     "output_type": "execute_result"
    }
   ],
   "source": [
    "kmeans = KMeans(n_clusters=3)\n",
    "kmeans.fit(cluster_value)"
   ]
  },
  {
   "cell_type": "code",
   "execution_count": 32,
   "metadata": {},
   "outputs": [
    {
     "data": {
      "text/plain": [
       "Int64Index([14], dtype='int64')"
      ]
     },
     "execution_count": 32,
     "metadata": {},
     "output_type": "execute_result"
    }
   ],
   "source": [
    "SUV_D_cluster.index = [x for x in range(len(SUV_D_cluster))]\n",
    "SUV_D_cluster[SUV_D_cluster['model_name']=='santa-fe'].index"
   ]
  },
  {
   "cell_type": "code",
   "execution_count": 33,
   "metadata": {},
   "outputs": [
    {
     "data": {
      "text/plain": [
       "1193.0"
      ]
     },
     "execution_count": 33,
     "metadata": {},
     "output_type": "execute_result"
    }
   ],
   "source": [
    "cluster_value[0][16]"
   ]
  },
  {
   "cell_type": "code",
   "execution_count": 39,
   "metadata": {},
   "outputs": [
    {
     "data": {
      "text/plain": [
       "array(['4runner', 'acadia', 'mkx', 'murano', 'nx', 'outlander',\n",
       "       'pathfinder', 'pilot', 'q5', 'qx50', 'explorer', 'cx-9', 'rdx',\n",
       "       'rx', 'santa-fe', 'santa-fe-sport', 'flex', 'sorento', 'srx',\n",
       "       'discovery-sport', 'traverse', 'x3', 'xc60', 'grand-cherokee',\n",
       "       'durango', 'edge', 'enclave', 'fx', 'glc-class', 'highlander'], dtype=object)"
      ]
     },
     "execution_count": 39,
     "metadata": {},
     "output_type": "execute_result"
    }
   ],
   "source": [
    "SUV_D_cluster['model_name'].unique()"
   ]
  },
  {
   "cell_type": "code",
   "execution_count": 52,
   "metadata": {},
   "outputs": [
    {
     "data": {
      "image/png": "[encoded data removed]",
      "text/plain": [
       "<matplotlib.figure.Figure at 0x273818b39b0>"
      ]
     },
     "metadata": {},
     "output_type": "display_data"
    }
   ],
   "source": [
    "labels = ['MidLarge_SUV','Midsize_SUV','Largesize_SUV' ]\n",
    "plot_x = pd.DataFrame(cluster_value)[15]\n",
    "plot_y = pd.DataFrame(cluster_value)[16]\n",
    "sort_list = [0,1,3,6,7,10,11,14,15,16,17,20,23,24,25,29]\n",
    "model_name_list = SUV_D_cluster.loc[sort_list]['model_name'].values\n",
    "hap_list = zip(sort_list, model_name_list)\n",
    "\n",
    "label_color = {0:'red',1:'green',2:'blue'}\n",
    "colors =['#567aff','#359cfb','blue']\n",
    "current_palette = sns.color_palette(\"Blues\")\n",
    "test = [current_palette[1], '#a1d4ff', '#6dbdff']\n",
    "colors =[current_palette[1],'blue','#359cfb']\n",
    "\n",
    "\n",
    "fig, ax = plt.subplots(1, figsize=(15,8))\n",
    "mglearn.discrete_scatter(cluster_value[:, 15], cluster_value[:, 16], kmeans.labels_, markers='o',c=colors, s=13)\n",
    "\n",
    "\n",
    "\n",
    "\n",
    "for i, txt in hap_list:\n",
    "    ax.annotate(txt, (cluster_value[i][15],cluster_value[i][16]+2.0), color='black', \n",
    "                size=16, ha='center')\n",
    "\n",
    "    \n",
    "plt.xlabel('Price', fontsize=15, weight='bold')\n",
    "plt.ylabel('Exterior+Interior Size', fontsize=15, weight='bold')\n",
    "plt.tick_params(axis='both', which='major', labelsize=15)\n",
    "\n",
    "ax.legend(labels,loc='upper center',bbox_to_anchor=(0.5, -0.08),\n",
    "          fancybox=True, shadow=True, ncol=4, prop={'size':15})\n",
    "\n",
    "ax.annotate('MaxCruz', xy=(cluster_value[14][15], cluster_value[14][16]), xytext=(cluster_value[14][15]-3000, cluster_value[14][16]+15),\n",
    "            arrowprops=dict(facecolor='black', shrink=0.05), fontsize=20, color='black')\n",
    "\n",
    "ax.annotate('Santa-fe', xy=(cluster_value[15][15], cluster_value[15][16]), xytext=(cluster_value[15][15]-3000, cluster_value[15][16]-15),\n",
    "            arrowprops=dict(facecolor='black', shrink=0.02), fontsize=20, color='black')\n",
    "\n",
    "\n",
    "\n",
    "plt.title('최종 Segment', fontsize=17, weight='bold')\n",
    "\n",
    "plt.savefig('최종 Segment.png')\n",
    "\n",
    "plt.show()\n"
   ]
  },
  {
   "cell_type": "code",
   "execution_count": 56,
   "metadata": {},
   "outputs": [
    {
     "data": {
      "text/plain": [
       "array([0, 4, 2, 0, 0, 0, 0, 2, 0, 0, 0, 0, 0, 0, 2, 0, 2, 2, 2, 2, 2, 0, 2,\n",
       "       2, 0, 2, 1, 0, 4, 0, 2, 3, 1, 1, 2, 0, 2, 0, 4, 4, 4, 0, 0, 2, 4, 0])"
      ]
     },
     "execution_count": 56,
     "metadata": {},
     "output_type": "execute_result"
    }
   ],
   "source": [
    "kmeans.labels_\n",
    "# 0은 Seg1\n",
    "# 4는 Seg3\n",
    "# 3은 Seg5\n",
    "# 2는 Seg2\n",
    "# 1은 Seg4"
   ]
  },
  {
   "cell_type": "code",
   "execution_count": 59,
   "metadata": {
    "collapsed": true
   },
   "outputs": [],
   "source": [
    "segment_suv2 = pd.concat( [ pd.DataFrame(kmeans.labels_), pd.DataFrame(SUV_D_cluster['model_name'])] ,axis=1)"
   ]
  },
  {
   "cell_type": "code",
   "execution_count": 61,
   "metadata": {
    "collapsed": true
   },
   "outputs": [],
   "source": [
    "segment_suv2.columns = ['Segment','model_name']\n",
    "segment_suv2.loc[segment_suv2['Segment']==0, 'Segment'] = 'Seg1'\n",
    "segment_suv2.loc[segment_suv2['Segment']==1, 'Segment'] = 'Seg4'\n",
    "segment_suv2.loc[segment_suv2['Segment']==2, 'Segment'] = 'Seg2'\n",
    "segment_suv2.loc[segment_suv2['Segment']==3, 'Segment'] = 'Seg5'\n",
    "segment_suv2.loc[segment_suv2['Segment']==4, 'Segment'] = 'Seg3'"
   ]
  },
  {
   "cell_type": "code",
   "execution_count": 63,
   "metadata": {
    "collapsed": true
   },
   "outputs": [],
   "source": [
    "test = pd.merge(SUV_D_cluster, segment_suv2, on='model_name')"
   ]
  }
 ],
 "metadata": {
  "kernelspec": {
   "display_name": "Python 3",
   "language": "python",
   "name": "python3"
  },
  "language_info": {
   "codemirror_mode": {
    "name": "ipython",
    "version": 3
   },
   "file_extension": ".py",
   "mimetype": "text/x-python",
   "name": "python",
   "nbconvert_exporter": "python",
   "pygments_lexer": "ipython3",
   "version": "3.6.1"
  }
 },
 "nbformat": 4,
 "nbformat_minor": 2
}
