{
 "cells": [
  {
   "cell_type": "code",
   "execution_count": 1,
   "metadata": {
    "collapsed": false
   },
   "outputs": [
    {
     "name": "stderr",
     "output_type": "stream",
     "text": [
      "C:\\Users\\kb910\\Anaconda3\\lib\\site-packages\\gensim\\utils.py:865: UserWarning: detected Windows; aliasing chunkize to chunkize_serial\n",
      "  warnings.warn(\"detected Windows; aliasing chunkize to chunkize_serial\")\n"
     ]
    }
   ],
   "source": [
    "import urllib.request, json \n",
    "import pandas as pd\n",
    "import numpy as np\n",
    "import os\n",
    "import nltk, gensim\n",
    "from nltk import word_tokenize"
   ]
  },
  {
   "cell_type": "code",
   "execution_count": 2,
   "metadata": {
    "collapsed": false
   },
   "outputs": [
    {
     "data": {
      "text/plain": [
       "'C:\\\\Users\\\\kb910\\\\Google 드라이브\\\\경배끄10\\\\인턴\\\\python_code\\\\리뷰'"
      ]
     },
     "execution_count": 2,
     "metadata": {},
     "output_type": "execute_result"
    }
   ],
   "source": [
    "os.getcwd()"
   ]
  },
  {
   "cell_type": "markdown",
   "metadata": {},
   "source": [
    "# 리뷰데이터"
   ]
  },
  {
   "cell_type": "markdown",
   "metadata": {},
   "source": [
    "## Maxcruz"
   ]
  },
  {
   "cell_type": "code",
   "execution_count": 3,
   "metadata": {
    "collapsed": false
   },
   "outputs": [],
   "source": [
    "os.chdir('C:\\\\Users\\\\kb910\\\\Google 드라이브\\\\경배끄10\\\\인턴\\\\csv파일\\\\리뷰들')\n",
    "data = open('Maxcruz_review.json').read()\n",
    "data = pd.DataFrame(json.loads(data))\n"
   ]
  },
  {
   "cell_type": "code",
   "execution_count": 4,
   "metadata": {
    "collapsed": false
   },
   "outputs": [
    {
     "data": {
      "text/plain": [
       "Index(['author', 'averageRating', 'carDetailsDto', 'comfortRatingDto',\n",
       "       'commentsCount', 'created', 'id', 'interiorRatingDto', 'legacyId',\n",
       "       'link', 'make_name', 'model_name', 'newReview', 'performanceRatingDto',\n",
       "       'ratings', 'reliabilityRatingDto', 'safetyRatingDto', 'styleId',\n",
       "       'styleName', 'technologyRatingDto', 'text', 'thumbsUpDownCounter',\n",
       "       'title', 'updated', 'userRating', 'valueRatingDto', 'version',\n",
       "       'year_dummy'],\n",
       "      dtype='object')"
      ]
     },
     "execution_count": 4,
     "metadata": {},
     "output_type": "execute_result"
    }
   ],
   "source": [
    "data.columns"
   ]
  },
  {
   "cell_type": "code",
   "execution_count": 5,
   "metadata": {
    "collapsed": false
   },
   "outputs": [],
   "source": [
    "Maxcruz_review = data[['model_name','text','year_dummy']].dropna()\n",
    "Maxcruz_review.index = [ x for x in range(len(Maxcruz_review))]"
   ]
  },
  {
   "cell_type": "code",
   "execution_count": 6,
   "metadata": {
    "collapsed": false
   },
   "outputs": [],
   "source": [
    "Maxcruz_review2 = Maxcruz_review['text']"
   ]
  },
  {
   "cell_type": "markdown",
   "metadata": {},
   "source": [
    "## Santa-fe"
   ]
  },
  {
   "cell_type": "code",
   "execution_count": 12,
   "metadata": {
    "collapsed": false
   },
   "outputs": [],
   "source": [
    "os.chdir('C:\\\\Users\\\\kb910\\\\Google 드라이브\\\\경배끄10\\\\인턴\\\\csv파일\\\\리뷰들')\n",
    "data = open('santa-fe-sport_review.json').read()\n",
    "data = pd.DataFrame(json.loads(data))\n"
   ]
  },
  {
   "cell_type": "code",
   "execution_count": 14,
   "metadata": {
    "collapsed": false
   },
   "outputs": [
    {
     "data": {
      "text/plain": [
       "0.15"
      ]
     },
     "execution_count": 14,
     "metadata": {},
     "output_type": "execute_result"
    }
   ],
   "source": [
    "voca = ['highlander','durango','cx-9','pilot','pathfinder','4runner','flex','traverse','acadia','explorer','murano','cherokee']\n",
    "test = [ str(x) for x in data['text'].values.tolist() ] \n",
    "\n",
    "from sklearn.feature_extraction.text import CountVectorizer\n",
    "vectorizer = CountVectorizer(vocabulary=voca)\n",
    "context = test\n",
    "X = vectorizer.fit_transform(context)\n",
    "TDM_matrix = pd.DataFrame(X.toarray(), columns=vectorizer.get_feature_names())\n",
    "\n",
    "for column in TDM_matrix.columns:\n",
    "    TDM_matrix.loc[TDM_matrix[column] != 0, column] = 1\n",
    "    \n",
    "    \n",
    "TDM_matrix.loc[('sum_count')] = [ TDM_matrix[x].sum() for x in TDM_matrix.columns ]\n",
    "\n",
    "TDM_matrix.loc[('sum_count')].sum() / len(data)"
   ]
  },
  {
   "cell_type": "markdown",
   "metadata": {},
   "source": [
    "# Complain data"
   ]
  },
  {
   "cell_type": "code",
   "execution_count": 15,
   "metadata": {
    "collapsed": false
   },
   "outputs": [],
   "source": [
    "os.chdir('C:\\\\Users\\\\kb910\\\\Google 드라이브\\\\경배끄10\\\\인턴\\\\csv파일\\\\complain')"
   ]
  },
  {
   "cell_type": "code",
   "execution_count": 16,
   "metadata": {
    "collapsed": true
   },
   "outputs": [],
   "source": [
    "data = pd.read_csv('Santafe_review_16.csv')\n",
    "data2 = pd.read_csv('Santafe_review_17.csv')"
   ]
  },
  {
   "cell_type": "code",
   "execution_count": 17,
   "metadata": {
    "collapsed": false
   },
   "outputs": [],
   "source": [
    "data = pd.concat([data[data['year'] == 2016], data[data['year'] == 2017]])\n",
    "data2 = pd.concat([data2[data2['year'] == 2016], data2[data2['year'] == 2017]])"
   ]
  },
  {
   "cell_type": "code",
   "execution_count": 18,
   "metadata": {
    "collapsed": true
   },
   "outputs": [],
   "source": [
    "Complain_data = pd.concat([data, data2])"
   ]
  },
  {
   "cell_type": "code",
   "execution_count": 19,
   "metadata": {
    "collapsed": false
   },
   "outputs": [
    {
     "name": "stdout",
     "output_type": "stream",
     "text": [
      "(102, 10)\n"
     ]
    },
    {
     "data": {
      "text/html": [
       "<div>\n",
       "<table border=\"1\" class=\"dataframe\">\n",
       "  <thead>\n",
       "    <tr style=\"text-align: right;\">\n",
       "      <th></th>\n",
       "      <th>B_category</th>\n",
       "      <th>S_category</th>\n",
       "      <th>city</th>\n",
       "      <th>country</th>\n",
       "      <th>date</th>\n",
       "      <th>sub_title</th>\n",
       "      <th>text</th>\n",
       "      <th>title</th>\n",
       "      <th>year</th>\n",
       "    </tr>\n",
       "  </thead>\n",
       "  <tbody>\n",
       "    <tr>\n",
       "      <th>0</th>\n",
       "      <td>fuel_system</td>\n",
       "      <td>fuel_propulsion_system</td>\n",
       "      <td>NC</td>\n",
       "      <td>USA</td>\n",
       "      <td>28-Jun</td>\n",
       "      <td>8,000 miles</td>\n",
       "      <td>I bought a 2016 Santa Fe sport at carmax 8000 ...</td>\n",
       "      <td>Santa Fe</td>\n",
       "      <td>2016</td>\n",
       "    </tr>\n",
       "    <tr>\n",
       "      <th>1</th>\n",
       "      <td>seat_belts_air_bags</td>\n",
       "      <td>seat_belts-front-retractor</td>\n",
       "      <td>Sound</td>\n",
       "      <td>USA</td>\n",
       "      <td>03-Sep</td>\n",
       "      <td>miles</td>\n",
       "      <td>2016 Hyundai sante fe involved in a near head ...</td>\n",
       "      <td>Santa Fe</td>\n",
       "      <td>2016</td>\n",
       "    </tr>\n",
       "    <tr>\n",
       "      <th>2</th>\n",
       "      <td>wheels_hubs</td>\n",
       "      <td>wheels</td>\n",
       "      <td>TX</td>\n",
       "      <td>USA</td>\n",
       "      <td>25-Mar</td>\n",
       "      <td>3,400 miles</td>\n",
       "      <td>The SUV 2016 come equipped with Continental 23...</td>\n",
       "      <td>Santa Fe</td>\n",
       "      <td>2016</td>\n",
       "    </tr>\n",
       "    <tr>\n",
       "      <th>3</th>\n",
       "      <td>body_paint</td>\n",
       "      <td>structure-body</td>\n",
       "      <td>Haven</td>\n",
       "      <td>USA</td>\n",
       "      <td>04-Dec</td>\n",
       "      <td>13,640 miles</td>\n",
       "      <td>The entire panarama sunroof exploded on my 201...</td>\n",
       "      <td>Santa Fe</td>\n",
       "      <td>2016</td>\n",
       "    </tr>\n",
       "    <tr>\n",
       "      <th>5</th>\n",
       "      <td>miscellaneous</td>\n",
       "      <td>unknown_or_other</td>\n",
       "      <td>NC</td>\n",
       "      <td>USA</td>\n",
       "      <td>01-Apr</td>\n",
       "      <td>8,100 miles</td>\n",
       "      <td>The front sunroof on my 2016 Santa Fe I bought...</td>\n",
       "      <td>Santa Fe</td>\n",
       "      <td>2016</td>\n",
       "    </tr>\n",
       "  </tbody>\n",
       "</table>\n",
       "</div>"
      ],
      "text/plain": [
       "            B_category                  S_category   city country    date  \\\n",
       "0          fuel_system      fuel_propulsion_system     NC     USA  28-Jun   \n",
       "1  seat_belts_air_bags  seat_belts-front-retractor  Sound     USA  03-Sep   \n",
       "2          wheels_hubs                      wheels     TX     USA  25-Mar   \n",
       "3           body_paint              structure-body  Haven     USA  04-Dec   \n",
       "5        miscellaneous            unknown_or_other     NC     USA  01-Apr   \n",
       "\n",
       "      sub_title                                               text     title  \\\n",
       "0   8,000 miles  I bought a 2016 Santa Fe sport at carmax 8000 ...  Santa Fe   \n",
       "1         miles  2016 Hyundai sante fe involved in a near head ...  Santa Fe   \n",
       "2   3,400 miles  The SUV 2016 come equipped with Continental 23...  Santa Fe   \n",
       "3  13,640 miles  The entire panarama sunroof exploded on my 201...  Santa Fe   \n",
       "5   8,100 miles  The front sunroof on my 2016 Santa Fe I bought...  Santa Fe   \n",
       "\n",
       "   year  \n",
       "0  2016  \n",
       "1  2016  \n",
       "2  2016  \n",
       "3  2016  \n",
       "5  2016  "
      ]
     },
     "execution_count": 19,
     "metadata": {},
     "output_type": "execute_result"
    }
   ],
   "source": [
    "print(Complain_data.shape)\n",
    "Complain_data = Complain_data.drop(['Unnamed: 0'],axis=1)\n",
    "Complain_data.head(5)"
   ]
  },
  {
   "cell_type": "code",
   "execution_count": 20,
   "metadata": {
    "collapsed": false
   },
   "outputs": [],
   "source": [
    "Maxcruz_complain = Complain_data['text']"
   ]
  },
  {
   "cell_type": "markdown",
   "metadata": {},
   "source": [
    "# 단어 종합하기"
   ]
  },
  {
   "cell_type": "code",
   "execution_count": 21,
   "metadata": {
    "collapsed": false
   },
   "outputs": [],
   "source": [
    "final_maxcruz = pd.concat([pd.DataFrame(Maxcruz_review2), pd.DataFrame(Maxcruz_complain)])"
   ]
  },
  {
   "cell_type": "code",
   "execution_count": 22,
   "metadata": {
    "collapsed": false
   },
   "outputs": [],
   "source": [
    "final_maxcruz2 = final_maxcruz['text']"
   ]
  },
  {
   "cell_type": "markdown",
   "metadata": {},
   "source": [
    "## 단어 토크나이징"
   ]
  },
  {
   "cell_type": "code",
   "execution_count": 58,
   "metadata": {
    "collapsed": true
   },
   "outputs": [],
   "source": [
    "sentences = [ word_tokenize(x) for x in final_maxcruz2]"
   ]
  },
  {
   "cell_type": "code",
   "execution_count": 59,
   "metadata": {
    "collapsed": false
   },
   "outputs": [],
   "source": [
    "pos_tagging = [nltk.pos_tag(x) for x in sentences ]"
   ]
  },
  {
   "cell_type": "code",
   "execution_count": 23,
   "metadata": {
    "collapsed": false
   },
   "outputs": [
    {
     "data": {
      "text/plain": [
       "0.8"
      ]
     },
     "execution_count": 23,
     "metadata": {},
     "output_type": "execute_result"
    }
   ],
   "source": [
    "voca = ['highlander','durango','cx-9','pilot','pathfinder','4runner','flex','traverse','acadia','explorer','murano','cherokee']\n",
    "test = [ str(x) for x in final_maxcruz2.values.tolist() ] \n",
    "\n",
    "from sklearn.feature_extraction.text import CountVectorizer\n",
    "vectorizer = CountVectorizer(vocabulary=voca)\n",
    "context = test\n",
    "X = vectorizer.fit_transform(context)\n",
    "TDM_matrix = pd.DataFrame(X.toarray(), columns=vectorizer.get_feature_names())\n",
    "\n",
    "for column in TDM_matrix.columns:\n",
    "    TDM_matrix.loc[TDM_matrix[column] != 0, column] = 1\n",
    "    \n",
    "TDM_matrix.loc[('sum_count')] = [ TDM_matrix[x].sum() for x in TDM_matrix.columns ]\n",
    "\n",
    "TDM_matrix.loc[('sum_count')].sum() / len(Maxcruz_review2)"
   ]
  },
  {
   "cell_type": "code",
   "execution_count": 24,
   "metadata": {
    "collapsed": false,
    "scrolled": true
   },
   "outputs": [
    {
     "data": {
      "text/html": [
       "<div>\n",
       "<table border=\"1\" class=\"dataframe\">\n",
       "  <thead>\n",
       "    <tr style=\"text-align: right;\">\n",
       "      <th></th>\n",
       "      <th>highlander</th>\n",
       "      <th>durango</th>\n",
       "      <th>cx-9</th>\n",
       "      <th>pilot</th>\n",
       "      <th>pathfinder</th>\n",
       "      <th>4runner</th>\n",
       "      <th>flex</th>\n",
       "      <th>traverse</th>\n",
       "      <th>acadia</th>\n",
       "      <th>explorer</th>\n",
       "      <th>murano</th>\n",
       "      <th>cherokee</th>\n",
       "    </tr>\n",
       "  </thead>\n",
       "  <tbody>\n",
       "    <tr>\n",
       "      <th>sum_count</th>\n",
       "      <td>5</td>\n",
       "      <td>0</td>\n",
       "      <td>0</td>\n",
       "      <td>8</td>\n",
       "      <td>1</td>\n",
       "      <td>0</td>\n",
       "      <td>0</td>\n",
       "      <td>2</td>\n",
       "      <td>1</td>\n",
       "      <td>2</td>\n",
       "      <td>1</td>\n",
       "      <td>0</td>\n",
       "    </tr>\n",
       "  </tbody>\n",
       "</table>\n",
       "</div>"
      ],
      "text/plain": [
       "           highlander  durango  cx-9  pilot  pathfinder  4runner  flex  \\\n",
       "sum_count           5        0     0      8           1        0     0   \n",
       "\n",
       "           traverse  acadia  explorer  murano  cherokee  \n",
       "sum_count         2       1         2       1         0  "
      ]
     },
     "execution_count": 24,
     "metadata": {},
     "output_type": "execute_result"
    }
   ],
   "source": [
    "TDM_matrix.loc[['sum_count']]"
   ]
  },
  {
   "cell_type": "code",
   "execution_count": null,
   "metadata": {
    "collapsed": true
   },
   "outputs": [],
   "source": [
    "# highlander , pilot, pathfinder, traverse, acadia, explorer , murano"
   ]
  }
 ],
 "metadata": {
  "kernelspec": {
   "display_name": "Python 3",
   "language": "python",
   "name": "python3"
  },
  "language_info": {
   "codemirror_mode": {
    "name": "ipython",
    "version": 3
   },
   "file_extension": ".py",
   "mimetype": "text/x-python",
   "name": "python",
   "nbconvert_exporter": "python",
   "pygments_lexer": "ipython3",
   "version": "3.6.0"
  }
 },
 "nbformat": 4,
 "nbformat_minor": 2
}
