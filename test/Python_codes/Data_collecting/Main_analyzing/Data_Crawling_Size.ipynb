{
 "cells": [
  {
   "cell_type": "markdown",
   "metadata": {},
   "source": [
    "# Import package"
   ]
  },
  {
   "cell_type": "code",
   "execution_count": 340,
   "metadata": {
    "collapsed": true
   },
   "outputs": [],
   "source": [
    "import urllib.request, json\n",
    "from bs4 import BeautifulSoup\n",
    "import pandas as pd\n",
    "import numpy as np\n",
    "from tqdm import tqdm"
   ]
  },
  {
   "cell_type": "markdown",
   "metadata": {},
   "source": [
    "# 크롤링할 SUV 차량 list확인"
   ]
  },
  {
   "cell_type": "code",
   "execution_count": 3,
   "metadata": {
    "collapsed": false
   },
   "outputs": [
    {
     "data": {
      "text/plain": [
       "'C:\\\\Users\\\\kb910\\\\Google 드라이브\\\\경배끄10\\\\인턴\\\\python_code'"
      ]
     },
     "execution_count": 3,
     "metadata": {},
     "output_type": "execute_result"
    }
   ],
   "source": [
    "import os\n",
    "os.getcwd()"
   ]
  },
  {
   "cell_type": "code",
   "execution_count": 4,
   "metadata": {
    "collapsed": true
   },
   "outputs": [],
   "source": [
    "os.chdir('C:\\\\Users\\\\kb910\\\\Google 드라이브\\\\경배끄10\\\\인턴\\\\csv파일\\\\spec')"
   ]
  },
  {
   "cell_type": "markdown",
   "metadata": {},
   "source": [
    "## SUV_E 모음"
   ]
  },
  {
   "cell_type": "code",
   "execution_count": 407,
   "metadata": {
    "collapsed": false
   },
   "outputs": [],
   "source": [
    "data = open('final_all_sell(year).json').read()\n",
    "sell_all = json.loads(data)\n",
    "sell_all = pd.DataFrame(sell_all)\n",
    "sell_all2 = sell_all[sell_all['GLOBAL_SEGMENT']=='SUV-E']\n",
    "sell_all2 = sell_all2[sell_all2['Y2016'] != 0]\n",
    "SUV_E_brand = sell_all2['Brand'].str.lower().tolist()\n",
    "SUV_E_model = sell_all2['GLOBAL_MODEL'].str.lower().tolist()"
   ]
  },
  {
   "cell_type": "code",
   "execution_count": 461,
   "metadata": {
    "collapsed": false
   },
   "outputs": [],
   "source": [
    "for x in range(len(SUV_E_brand)):\n",
    "    SUV_E_brand[x] = SUV_E_brand[x].replace(' ','-')\n",
    "for x in range(len(SUV_E_model)):\n",
    "    SUV_E_model[x] = SUV_E_model[x].replace(' ','-')"
   ]
  },
  {
   "cell_type": "code",
   "execution_count": 486,
   "metadata": {
    "collapsed": true
   },
   "outputs": [],
   "source": [
    "model_name = defaultdict(list)\n",
    "\n",
    "for x, y in zip(SUV_E_brand, SUV_E_model):\n",
    "    model_name[x].append(y)"
   ]
  },
  {
   "cell_type": "code",
   "execution_count": 521,
   "metadata": {
    "collapsed": false
   },
   "outputs": [],
   "source": [
    "link_path = []\n",
    "for x in set(SUV_E_brand):\n",
    "    for y in model_name[x]:\n",
    "                \n",
    "        makes = x\n",
    "        models = y\n",
    "        target_url = 'http://www.caranddriver.com/'+makes+'/'+models+'/specs'\n",
    "        link_path.append(target_url)\n"
   ]
  },
  {
   "cell_type": "markdown",
   "metadata": {},
   "source": [
    "## 모델 변경해주기"
   ]
  },
  {
   "cell_type": "code",
   "execution_count": null,
   "metadata": {
    "collapsed": true
   },
   "outputs": [],
   "source": [
    "link_path2 = link_path"
   ]
  },
  {
   "cell_type": "code",
   "execution_count": 580,
   "metadata": {
    "collapsed": false
   },
   "outputs": [],
   "source": [
    "link_path2[21] ='http://www.caranddriver.com/gmc/yukon-yukon-xl/specs'"
   ]
  },
  {
   "cell_type": "code",
   "execution_count": 539,
   "metadata": {
    "collapsed": true
   },
   "outputs": [],
   "source": [
    "link_path2.remove('http://www.caranddriver.com/cadillac/escalade/specs')"
   ]
  },
  {
   "cell_type": "code",
   "execution_count": 540,
   "metadata": {
    "collapsed": false
   },
   "outputs": [
    {
     "name": "stdout",
     "output_type": "stream",
     "text": [
      "0 http://www.caranddriver.com/cadillac/escalade-esv/specs\n",
      "1 http://www.caranddriver.com/jeep/grand-cherokee/specs\n",
      "2 http://www.caranddriver.com/infiniti/fx/specs\n",
      "3 http://www.caranddriver.com/infiniti/qx60/specs\n",
      "4 http://www.caranddriver.com/infiniti/qx80/specs\n",
      "5 http://www.caranddriver.com/land-rover/discovery/specs\n",
      "6 http://www.caranddriver.com/land-rover/range-rover/specs\n",
      "7 http://www.caranddriver.com/land-rover/range-rover-sport/specs\n",
      "8 http://www.caranddriver.com/mercedes-benz/gl-class/specs\n",
      "9 http://www.caranddriver.com/mercedes-benz/gle-coupe/specs\n",
      "10 http://www.caranddriver.com/mercedes-benz/g-class/specs\n",
      "11 http://www.caranddriver.com/mercedes-benz/gle-class/specs\n",
      "12 http://www.caranddriver.com/porsche/cayenne/specs\n",
      "13 http://www.caranddriver.com/bentley/bentayga/specs\n",
      "14 http://www.caranddriver.com/bmw/x5/specs\n",
      "15 http://www.caranddriver.com/bmw/x6/specs\n",
      "16 http://www.caranddriver.com/chevrolet/suburban/specs\n",
      "17 http://www.caranddriver.com/chevrolet/tahoe/specs\n",
      "18 http://www.caranddriver.com/ford/expedition-el/specs\n",
      "19 http://www.caranddriver.com/volkswagen/touareg/specs\n",
      "20 http://www.caranddriver.com/acura/mdx/specs\n",
      "21 http://www.caranddriver.com/gmc/yukon-xl/specs\n",
      "22 http://www.caranddriver.com/toyota/land-cruiser/specs\n",
      "23 http://www.caranddriver.com/toyota/sequoia/specs\n",
      "24 http://www.caranddriver.com/dodge/durango/specs\n",
      "25 http://www.caranddriver.com/lexus/gx/specs\n",
      "26 http://www.caranddriver.com/lexus/lx/specs\n",
      "27 http://www.caranddriver.com/lexus/rx/specs\n",
      "28 http://www.caranddriver.com/audi/q7/specs\n",
      "29 http://www.caranddriver.com/volvo/xc90/specs\n",
      "30 http://www.caranddriver.com/maserati/levante/specs\n",
      "31 http://www.caranddriver.com/tesla/model-x/specs\n",
      "32 http://www.caranddriver.com/lincoln/navigator-navigator-l/specs\n"
     ]
    }
   ],
   "source": [
    "for i, x in enumerate(link_path2):\n",
    "    print(i ,x)"
   ]
  },
  {
   "cell_type": "code",
   "execution_count": 581,
   "metadata": {
    "collapsed": true
   },
   "outputs": [],
   "source": [
    "link_path_suv_e = link_path2"
   ]
  },
  {
   "cell_type": "markdown",
   "metadata": {},
   "source": [
    "## SUV_D 모음"
   ]
  },
  {
   "cell_type": "code",
   "execution_count": 542,
   "metadata": {
    "collapsed": true
   },
   "outputs": [],
   "source": [
    "data = open('final_all_sell(year).json').read()\n",
    "sell_all = json.loads(data)\n",
    "sell_all = pd.DataFrame(sell_all)\n",
    "sell_all2 = sell_all[sell_all['GLOBAL_SEGMENT']=='SUV-D']\n",
    "sell_all2 = sell_all2[sell_all2['Y2016'] != 0]\n",
    "SUV_E_brand = sell_all2['Brand'].str.lower().tolist()\n",
    "SUV_E_model = sell_all2['GLOBAL_MODEL'].str.lower().tolist()"
   ]
  },
  {
   "cell_type": "code",
   "execution_count": 543,
   "metadata": {
    "collapsed": true
   },
   "outputs": [],
   "source": [
    "for x in range(len(SUV_E_brand)):\n",
    "    SUV_E_brand[x] = SUV_E_brand[x].replace(' ','-')\n",
    "for x in range(len(SUV_E_model)):\n",
    "    SUV_E_model[x] = SUV_E_model[x].replace(' ','-')"
   ]
  },
  {
   "cell_type": "code",
   "execution_count": 544,
   "metadata": {
    "collapsed": true
   },
   "outputs": [],
   "source": [
    "model_name = defaultdict(list)\n",
    "\n",
    "for x, y in zip(SUV_E_brand, SUV_E_model):\n",
    "    model_name[x].append(y)"
   ]
  },
  {
   "cell_type": "code",
   "execution_count": 545,
   "metadata": {
    "collapsed": true
   },
   "outputs": [],
   "source": [
    "link_path = []\n",
    "for x in set(SUV_E_brand):\n",
    "    for y in model_name[x]:\n",
    "                \n",
    "        makes = x\n",
    "        models = y\n",
    "        target_url = 'http://www.caranddriver.com/'+makes+'/'+models+'/specs'\n",
    "        link_path.append(target_url)\n"
   ]
  },
  {
   "cell_type": "code",
   "execution_count": 546,
   "metadata": {
    "collapsed": true
   },
   "outputs": [],
   "source": [
    "link_path_suv_d = link_path"
   ]
  },
  {
   "cell_type": "code",
   "execution_count": 559,
   "metadata": {
    "collapsed": true
   },
   "outputs": [],
   "source": [
    "link_path_suv_d[28] ='http://www.caranddriver.com/toyota/4runner/specs'"
   ]
  },
  {
   "cell_type": "code",
   "execution_count": 560,
   "metadata": {
    "collapsed": false
   },
   "outputs": [
    {
     "name": "stdout",
     "output_type": "stream",
     "text": [
      "0 http://www.caranddriver.com/nissan/armada/specs\n",
      "1 http://www.caranddriver.com/nissan/murano/specs\n",
      "2 http://www.caranddriver.com/nissan/pathfinder/specs\n",
      "3 http://www.caranddriver.com/nissan/armada/specs\n",
      "4 http://www.caranddriver.com/nissan/xterra/specs\n",
      "5 http://www.caranddriver.com/cadillac/srx/specs\n",
      "6 http://www.caranddriver.com/cadillac/xt5/specs\n",
      "7 http://www.caranddriver.com/hyundai/santa-fe/specs\n",
      "8 http://www.caranddriver.com/hyundai/santa-fe-sport/specs\n",
      "9 http://www.caranddriver.com/honda/crosstour/specs\n",
      "10 http://www.caranddriver.com/honda/pilot/specs\n",
      "11 http://www.caranddriver.com/infiniti/qx50/specs\n",
      "12 http://www.caranddriver.com/land-rover/discovery-sport/specs\n",
      "13 http://www.caranddriver.com/mercedes-benz/glc-coupe/specs\n",
      "14 http://www.caranddriver.com/mercedes-benz/gls-class/specs\n",
      "15 http://www.caranddriver.com/mercedes-benz/glc-class/specs\n",
      "16 http://www.caranddriver.com/porsche/macan/specs\n",
      "17 http://www.caranddriver.com/bmw/x3/specs\n",
      "18 http://www.caranddriver.com/bmw/x4/specs\n",
      "19 http://www.caranddriver.com/chevrolet/traverse/specs\n",
      "20 http://www.caranddriver.com/ford/edge/specs\n",
      "21 http://www.caranddriver.com/ford/explorer/specs\n",
      "22 http://www.caranddriver.com/ford/flex/specs\n",
      "23 http://www.caranddriver.com/acura/rdx/specs\n",
      "24 http://www.caranddriver.com/gmc/acadia/specs\n",
      "25 http://www.caranddriver.com/jaguar/f-pace/specs\n",
      "26 http://www.caranddriver.com/buick/enclave/specs\n",
      "27 http://www.caranddriver.com/toyota/highlander/specs\n",
      "28 http://www.caranddriver.com/toyota/4runner/specs\n",
      "29 http://www.caranddriver.com/toyota/venza/specs\n",
      "30 http://www.caranddriver.com/lexus/nx/specs\n",
      "31 http://www.caranddriver.com/mitsubishi/outlander/specs\n",
      "32 http://www.caranddriver.com/mazda/cx-9/specs\n",
      "33 http://www.caranddriver.com/audi/q5/specs\n",
      "34 http://www.caranddriver.com/volvo/xc60/specs\n",
      "35 http://www.caranddriver.com/kia/sorento/specs\n",
      "36 http://www.caranddriver.com/lincoln/mkx/specs\n"
     ]
    }
   ],
   "source": [
    "for i, x in enumerate(link_path_suv_d):\n",
    "    print(i ,x)"
   ]
  },
  {
   "cell_type": "code",
   "execution_count": null,
   "metadata": {
    "collapsed": true
   },
   "outputs": [],
   "source": []
  },
  {
   "cell_type": "code",
   "execution_count": null,
   "metadata": {
    "collapsed": true
   },
   "outputs": [],
   "source": []
  },
  {
   "cell_type": "code",
   "execution_count": null,
   "metadata": {
    "collapsed": true
   },
   "outputs": [],
   "source": []
  },
  {
   "cell_type": "code",
   "execution_count": null,
   "metadata": {
    "collapsed": true
   },
   "outputs": [],
   "source": []
  },
  {
   "cell_type": "code",
   "execution_count": null,
   "metadata": {
    "collapsed": true
   },
   "outputs": [],
   "source": []
  },
  {
   "cell_type": "code",
   "execution_count": 561,
   "metadata": {
    "collapsed": true
   },
   "outputs": [],
   "source": [
    "dummy=pd.DataFrame(np.arange(1).reshape(1,1))\n",
    "\n",
    "def get_size(link):\n",
    "    \n",
    " \n",
    "    url = link\n",
    "    res = urllib.request.urlopen(url)\n",
    "    html = res.read()\n",
    "    soup = BeautifulSoup(html, 'html.parser')    \n",
    "    \n",
    "    body = soup.find('div' ,class_='mr-20 ml-20 mr0-nm ml0-nm').find('table').find_all('tbody')\n",
    "    \n",
    "    all_size = []\n",
    "    weight = []\n",
    "\n",
    "\n",
    "    for path in body:\n",
    "\n",
    "        if ('Interior Dimensions') in path.find('tr').find('th').get_text(strip=True):\n",
    "            size_list = path.find_all('tr')\n",
    "            for x,y in enumerate(size_list):\n",
    "                if x == 0:\n",
    "                    continue\n",
    "                else:\n",
    "                    last_list = y.find_all('td')\n",
    "                    for x ,y in enumerate(last_list):\n",
    "                        if x % 2 ==0:\n",
    "                            continue\n",
    "                        else:\n",
    "                            all_size.append(y.text)\n",
    "\n",
    "        elif ('Weight Information') in path.find('tr').find('th').get_text(strip=True):\n",
    "            size_list = path.find_all('tr')\n",
    "            for x,y in enumerate(size_list):\n",
    "                if x == 0:\n",
    "                    continue\n",
    "                else:\n",
    "                    last_list = y.find_all('td')\n",
    "                    for x ,y in enumerate(last_list):\n",
    "                        if x % 2 == 0:\n",
    "                            continue\n",
    "                        else:\n",
    "                            all_size.append(y.text)\n",
    "\n",
    "            all_size = all_size[:11]\n",
    "\n",
    "\n",
    "        elif ('Exterior Dimensions') in path.find('tr').find('th').get_text(strip=True):\n",
    "            size_list = path.find_all('tr')\n",
    "            for x,y in enumerate(size_list):\n",
    "                if x == 0:\n",
    "                    continue\n",
    "                else:\n",
    "                    last_list = y.find_all('td')\n",
    "                    for x ,y in enumerate(last_list):\n",
    "                        if x % 2 == 0:\n",
    "                            continue\n",
    "                        else:\n",
    "                            all_size.append(y.text)\n",
    "                            \n",
    "             \n",
    "            all_size = all_size[:21]\n",
    "                            \n",
    "    labels =['pass_capa', 'pass_vol','f_head','f_leg','f_shoulder','f_hip'\n",
    "             ,'s_head','s_leg','s_shoulder','s_hip',\n",
    "            'base_weight',\n",
    "            'wheelbase','length','width','height','track_width_front','track_width_rear',\n",
    "            'ground_height','door_open_height','door_open_width','liftover_height']\n",
    "\n",
    "    size_table = pd.DataFrame(all_size).T\n",
    "    size_table.columns = labels\n",
    "\n",
    "    return size_table                        "
   ]
  },
  {
   "cell_type": "code",
   "execution_count": 306,
   "metadata": {
    "collapsed": false
   },
   "outputs": [],
   "source": [
    "from tqdm import tqdm"
   ]
  },
  {
   "cell_type": "code",
   "execution_count": 573,
   "metadata": {
    "collapsed": false
   },
   "outputs": [
    {
     "data": {
      "text/plain": [
       "['http://www.caranddriver.com/cadillac/escalade-escalade-esv',\n",
       " 'http://www.caranddriver.com/jeep/grand-cherokee/specs',\n",
       " 'http://www.caranddriver.com/infiniti/fx/specs',\n",
       " 'http://www.caranddriver.com/infiniti/qx60/specs',\n",
       " 'http://www.caranddriver.com/infiniti/qx80/specs',\n",
       " 'http://www.caranddriver.com/land-rover/discovery/specs',\n",
       " 'http://www.caranddriver.com/land-rover/range-rover/specs',\n",
       " 'http://www.caranddriver.com/land-rover/range-rover-sport/specs',\n",
       " 'http://www.caranddriver.com/mercedes-benz/gl-class/specs',\n",
       " 'http://www.caranddriver.com/mercedes-benz/gle-coupe/specs',\n",
       " 'http://www.caranddriver.com/mercedes-benz/g-class/specs',\n",
       " 'http://www.caranddriver.com/mercedes-benz/gle-class/specs',\n",
       " 'http://www.caranddriver.com/porsche/cayenne/specs',\n",
       " 'http://www.caranddriver.com/bentley/bentayga/specs',\n",
       " 'http://www.caranddriver.com/bmw/x5/specs',\n",
       " 'http://www.caranddriver.com/bmw/x6/specs',\n",
       " 'http://www.caranddriver.com/chevrolet/suburban/specs',\n",
       " 'http://www.caranddriver.com/chevrolet/tahoe/specs',\n",
       " 'http://www.caranddriver.com/ford/expedition-el/specs',\n",
       " 'http://www.caranddriver.com/volkswagen/touareg/specs',\n",
       " 'http://www.caranddriver.com/acura/mdx/specs',\n",
       " 'http://www.caranddriver.com/gmc/yukon-xl/specs',\n",
       " 'http://www.caranddriver.com/toyota/land-cruiser/specs',\n",
       " 'http://www.caranddriver.com/toyota/sequoia/specs',\n",
       " 'http://www.caranddriver.com/dodge/durango/specs',\n",
       " 'http://www.caranddriver.com/lexus/gx/specs',\n",
       " 'http://www.caranddriver.com/lexus/lx/specs',\n",
       " 'http://www.caranddriver.com/lexus/rx/specs',\n",
       " 'http://www.caranddriver.com/audi/q7/specs',\n",
       " 'http://www.caranddriver.com/volvo/xc90/specs',\n",
       " 'http://www.caranddriver.com/maserati/levante/specs',\n",
       " 'http://www.caranddriver.com/tesla/model-x/specs',\n",
       " 'http://www.caranddriver.com/lincoln/navigator-navigator-l/specs']"
      ]
     },
     "execution_count": 573,
     "metadata": {},
     "output_type": "execute_result"
    }
   ],
   "source": [
    "link_path_suv_e"
   ]
  },
  {
   "cell_type": "code",
   "execution_count": 582,
   "metadata": {
    "collapsed": false
   },
   "outputs": [
    {
     "name": "stderr",
     "output_type": "stream",
     "text": [
      "\n",
      "  0%|                                                                                           | 0/33 [00:00<?, ?it/s]C:\\Users\\kb910\\Anaconda3\\lib\\site-packages\\pandas\\indexes\\range.py:432: RuntimeWarning: '<' not supported between instances of 'int' and 'str', sort order is undefined for incomparable objects\n",
      "  return self._int64index.union(other)\n",
      "\n",
      "  3%|██▌                                                                                | 1/33 [00:00<00:28,  1.14it/s]\n",
      "  6%|█████                                                                              | 2/33 [00:01<00:24,  1.25it/s]\n",
      "  9%|███████▌                                                                           | 3/33 [00:02<00:24,  1.25it/s]\n",
      " 12%|██████████                                                                         | 4/33 [00:03<00:23,  1.22it/s]\n",
      " 15%|████████████▌                                                                      | 5/33 [00:04<00:23,  1.17it/s]\n",
      " 18%|███████████████                                                                    | 6/33 [00:04<00:22,  1.19it/s]\n",
      " 21%|█████████████████▌                                                                 | 7/33 [00:05<00:21,  1.20it/s]\n",
      " 24%|████████████████████                                                               | 8/33 [00:06<00:19,  1.26it/s]\n",
      "100%|██████████████████████████████████████████████████████████████████████████████████| 33/33 [00:27<00:00,  1.11it/s]\n"
     ]
    }
   ],
   "source": [
    "dummy = pd.DataFrame(np.arange(1).reshape(1,1))\n",
    "\n",
    "for link in tqdm(link_path_suv_e):\n",
    "    model_name = link.split('/')[4]\n",
    "    make_name = link.split('/')[3]\n",
    "    size_table = get_size(link)\n",
    "    size_table['model_name'] = model_name\n",
    "    size_table['make_name'] = make_name\n",
    "    final_size2 = pd.concat([dummy,size_table])\n",
    "    dummy = final_size2\n",
    "    \n"
   ]
  },
  {
   "cell_type": "code",
   "execution_count": 587,
   "metadata": {
    "collapsed": false
   },
   "outputs": [
    {
     "name": "stdout",
     "output_type": "stream",
     "text": [
      "(34, 24)\n",
      "(38, 24)\n"
     ]
    }
   ],
   "source": [
    "print(final_size2.shape)\n",
    "print(final_size.shape)"
   ]
  },
  {
   "cell_type": "code",
   "execution_count": 589,
   "metadata": {
    "collapsed": false
   },
   "outputs": [],
   "source": [
    "final_size_spec = pd.concat([final_size, final_size2])"
   ]
  },
  {
   "cell_type": "code",
   "execution_count": 592,
   "metadata": {
    "collapsed": true
   },
   "outputs": [],
   "source": [
    "final_size_spec.index = [x for x in range(len(final_size_spec))]"
   ]
  },
  {
   "cell_type": "code",
   "execution_count": 593,
   "metadata": {
    "collapsed": false
   },
   "outputs": [],
   "source": [
    "final_size_spec.to_json('model_size.json')\n",
    "final_size_spec.to_csv('model_size.csv')"
   ]
  },
  {
   "cell_type": "markdown",
   "metadata": {},
   "source": [
    "# mmmmmmmmmmm"
   ]
  },
  {
   "cell_type": "code",
   "execution_count": 594,
   "metadata": {
    "collapsed": false
   },
   "outputs": [],
   "source": [
    "test = pd.read_csv('model_size.csv')"
   ]
  },
  {
   "cell_type": "code",
   "execution_count": null,
   "metadata": {
    "collapsed": true
   },
   "outputs": [],
   "source": []
  },
  {
   "cell_type": "markdown",
   "metadata": {},
   "source": [
    "## Testing 나중에 써먹자"
   ]
  },
  {
   "cell_type": "code",
   "execution_count": 165,
   "metadata": {
    "collapsed": false
   },
   "outputs": [],
   "source": [
    "list1 = [1,2,3,4]\n",
    "list2 = [5,6,7,8]"
   ]
  },
  {
   "cell_type": "code",
   "execution_count": 169,
   "metadata": {
    "collapsed": false
   },
   "outputs": [],
   "source": [
    "list1_table= pd.DataFrame(list1).T\n",
    "list2_table = pd.DataFrame(list2).T"
   ]
  },
  {
   "cell_type": "code",
   "execution_count": 170,
   "metadata": {
    "collapsed": false
   },
   "outputs": [
    {
     "data": {
      "text/html": [
       "<div>\n",
       "<table border=\"1\" class=\"dataframe\">\n",
       "  <thead>\n",
       "    <tr style=\"text-align: right;\">\n",
       "      <th></th>\n",
       "      <th>0</th>\n",
       "      <th>1</th>\n",
       "      <th>2</th>\n",
       "      <th>3</th>\n",
       "    </tr>\n",
       "  </thead>\n",
       "  <tbody>\n",
       "    <tr>\n",
       "      <th>0</th>\n",
       "      <td>1</td>\n",
       "      <td>2</td>\n",
       "      <td>3</td>\n",
       "      <td>4</td>\n",
       "    </tr>\n",
       "    <tr>\n",
       "      <th>0</th>\n",
       "      <td>5</td>\n",
       "      <td>6</td>\n",
       "      <td>7</td>\n",
       "      <td>8</td>\n",
       "    </tr>\n",
       "  </tbody>\n",
       "</table>\n",
       "</div>"
      ],
      "text/plain": [
       "   0  1  2  3\n",
       "0  1  2  3  4\n",
       "0  5  6  7  8"
      ]
     },
     "execution_count": 170,
     "metadata": {},
     "output_type": "execute_result"
    }
   ],
   "source": [
    "pd.concat([list1_table, list2_table])"
   ]
  }
 ],
 "metadata": {
  "kernelspec": {
   "display_name": "Python 3",
   "language": "python",
   "name": "python3"
  },
  "language_info": {
   "codemirror_mode": {
    "name": "ipython",
    "version": 3
   },
   "file_extension": ".py",
   "mimetype": "text/x-python",
   "name": "python",
   "nbconvert_exporter": "python",
   "pygments_lexer": "ipython3",
   "version": "3.6.0"
  }
 },
 "nbformat": 4,
 "nbformat_minor": 2
}
