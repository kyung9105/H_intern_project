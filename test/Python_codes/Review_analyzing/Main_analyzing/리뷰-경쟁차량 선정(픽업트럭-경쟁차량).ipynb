{
 "cells": [
  {
   "cell_type": "markdown",
   "metadata": {},
   "source": [
    "# Introduction\n",
    "* PICK-UP 트럭 구매자 리뷰를 분석한다.\n",
    "    1. 중형 PICK-UP트럭(5개) 구매자가 SUV에 대한 관심이 증가하고 있는지 2015~2017년 까지 관심도 변화추이를 분석"
   ]
  },
  {
   "cell_type": "code",
   "execution_count": 1,
   "metadata": {},
   "outputs": [
    {
     "name": "stderr",
     "output_type": "stream",
     "text": [
      "C:\\Users\\kb910\\Anaconda3\\lib\\site-packages\\gensim\\utils.py:865: UserWarning: detected Windows; aliasing chunkize to chunkize_serial\n",
      "  warnings.warn(\"detected Windows; aliasing chunkize to chunkize_serial\")\n"
     ]
    }
   ],
   "source": [
    "import urllib.request, json \n",
    "import pandas as pd\n",
    "import numpy as np\n",
    "import os\n",
    "import nltk, gensim\n",
    "from nltk import word_tokenize"
   ]
  },
  {
   "cell_type": "code",
   "execution_count": 2,
   "metadata": {},
   "outputs": [
    {
     "data": {
      "text/plain": [
       "'C:\\\\Users\\\\kb910\\\\Google 드라이브\\\\경배끄10\\\\인턴\\\\python_code\\\\리뷰'"
      ]
     },
     "execution_count": 2,
     "metadata": {},
     "output_type": "execute_result"
    }
   ],
   "source": [
    "os.getcwd()"
   ]
  },
  {
   "cell_type": "markdown",
   "metadata": {},
   "source": [
    "# 리뷰데이터"
   ]
  },
  {
   "cell_type": "markdown",
   "metadata": {},
   "source": [
    "## Pick-up"
   ]
  },
  {
   "cell_type": "code",
   "execution_count": 24,
   "metadata": {},
   "outputs": [],
   "source": [
    "os.chdir('C:\\\\Users\\\\kb910\\\\Google 드라이브\\\\경배끄10\\\\인턴\\\\csv파일\\\\리뷰들\\\\픽업리뷰')\n",
    "data = open('mid_pickup_review.json').read()\n",
    "data = pd.DataFrame(json.loads(data))\n"
   ]
  },
  {
   "cell_type": "code",
   "execution_count": 25,
   "metadata": {},
   "outputs": [
    {
     "data": {
      "text/plain": [
       "Index(['author', 'averageRating', 'carDetailsDto', 'comfortRatingDto',\n",
       "       'commentsCount', 'created', 'id', 'interiorRatingDto', 'legacyId',\n",
       "       'link', 'make_name', 'model_name', 'newReview', 'performanceRatingDto',\n",
       "       'ratings', 'reliabilityRatingDto', 'safetyRatingDto', 'styleId',\n",
       "       'styleName', 'technologyRatingDto', 'text', 'thumbsUpDownCounter',\n",
       "       'title', 'updated', 'userRating', 'valueRatingDto', 'version',\n",
       "       'year_dummy'],\n",
       "      dtype='object')"
      ]
     },
     "execution_count": 25,
     "metadata": {},
     "output_type": "execute_result"
    }
   ],
   "source": [
    "data.columns"
   ]
  },
  {
   "cell_type": "code",
   "execution_count": 26,
   "metadata": {},
   "outputs": [
    {
     "data": {
      "text/plain": [
       "array(['tacoma', 'ridgeline', 'frontier', 'colorado', 'canyon'], dtype=object)"
      ]
     },
     "execution_count": 26,
     "metadata": {},
     "output_type": "execute_result"
    }
   ],
   "source": [
    "data['model_name'].unique()"
   ]
  },
  {
   "cell_type": "code",
   "execution_count": 27,
   "metadata": {},
   "outputs": [
    {
     "data": {
      "text/plain": [
       "425"
      ]
     },
     "execution_count": 27,
     "metadata": {},
     "output_type": "execute_result"
    }
   ],
   "source": [
    "len(data)"
   ]
  },
  {
   "cell_type": "code",
   "execution_count": 54,
   "metadata": {},
   "outputs": [
    {
     "data": {
      "text/plain": [
       "1      1500050485138.0\n",
       "10     1496112692110.0\n",
       "100    1477931989566.0\n",
       "101    1477496358711.0\n",
       "102    1477248153733.0\n",
       "Name: updated, dtype: object"
      ]
     },
     "execution_count": 54,
     "metadata": {},
     "output_type": "execute_result"
    }
   ],
   "source": [
    "data['updated'].apply(str)[:5]"
   ]
  },
  {
   "cell_type": "code",
   "execution_count": 56,
   "metadata": {},
   "outputs": [],
   "source": [
    "data['updated'] = data['updated'].apply(str).str[:-5]"
   ]
  },
  {
   "cell_type": "code",
   "execution_count": 59,
   "metadata": {},
   "outputs": [
    {
     "name": "stdout",
     "output_type": "stream",
     "text": [
      "2017-07-15 01:41:25\n"
     ]
    }
   ],
   "source": [
    "print(datetime.datetime.fromtimestamp(int(data['updated'][0])).strftime('%Y-%m-%d %H:%M:%S'))"
   ]
  },
  {
   "cell_type": "code",
   "execution_count": 37,
   "metadata": {},
   "outputs": [
    {
     "data": {
      "text/plain": [
       "1477930013203.0"
      ]
     },
     "execution_count": 37,
     "metadata": {},
     "output_type": "execute_result"
    }
   ],
   "source": [
    "test = data[['model_name','updated','title']]\n",
    "test[test['title']==\"Super Truck\"]['updated'][0]"
   ]
  },
  {
   "cell_type": "code",
   "execution_count": 16,
   "metadata": {},
   "outputs": [],
   "source": [
    "data12 = data[data['year_dummy']==2012]\n",
    "data13 = data[data['year_dummy']==2013]\n",
    "data14 = data[data['year_dummy']==2014]\n",
    "data15 = data[data['year_dummy']==2015]\n",
    "data16 = data[data['year_dummy']==2016]\n",
    "data17 = data[data['year_dummy']==2017]"
   ]
  },
  {
   "cell_type": "markdown",
   "metadata": {},
   "source": [
    "## 16년 픽업트럭 SUV빈도"
   ]
  },
  {
   "cell_type": "code",
   "execution_count": 7,
   "metadata": {
    "scrolled": true
   },
   "outputs": [
    {
     "data": {
      "text/plain": [
       "248"
      ]
     },
     "execution_count": 7,
     "metadata": {},
     "output_type": "execute_result"
    }
   ],
   "source": [
    "len(data16)"
   ]
  },
  {
   "cell_type": "code",
   "execution_count": 12,
   "metadata": {},
   "outputs": [],
   "source": [
    "from sklearn.feature_extraction.text import CountVectorizer\n",
    "voca = ['highlander','durango','cx-9','pilot','pathfinder','4runner','flex','traverse','acadia','explorer','murano','cherokee','qx50','santa']\n",
    "\n",
    "\n",
    "def review_count(data, voca):\n",
    "\n",
    "    vectorizer = CountVectorizer(vocabulary=voca)\n",
    "    test = [ str(x) for x in data['text'].values.tolist() ] \n",
    "    context = test\n",
    "    X = vectorizer.fit_transform(context)\n",
    "    TDM_matrix = pd.DataFrame(X.toarray(), columns=vectorizer.get_feature_names())\n",
    "\n",
    "    for column in TDM_matrix.columns:\n",
    "        TDM_matrix.loc[TDM_matrix[column] != 0, column] = 1\n",
    "\n",
    "\n",
    "    TDM_matrix.loc[('sum_count')] = [ TDM_matrix[x].sum() for x in TDM_matrix.columns ]\n",
    "\n",
    "    return TDM_matrix.loc['sum_count'].sum()/len(data)"
   ]
  },
  {
   "cell_type": "code",
   "execution_count": 37,
   "metadata": {},
   "outputs": [
    {
     "name": "stdout",
     "output_type": "stream",
     "text": [
      "리뷰개수 : 100  15년도 SUV빈도수 : 0.01\n",
      "리뷰개수 : 248  16년도 SUV빈도수 : 0.020161290322580645\n",
      "리뷰개수 : 177  17년도 SUV빈도수 : 0.1016949152542373\n"
     ]
    }
   ],
   "source": [
    "print(\"리뷰개수 : \"+str(len(data15))+\"  15년도 SUV빈도수 : \" + str(review_count(data15, ['suv','SUV'])))\n",
    "print(\"리뷰개수 : \"+str(len(data16))+\"  16년도 SUV빈도수 : \" + str(review_count(data16, ['suv','SUV'])))\n",
    "print(\"리뷰개수 : \"+str(len(data17))+\"  17년도 SUV빈도수 : \" + str(review_count(data17, ['suv','SUV'])))"
   ]
  },
  {
   "cell_type": "code",
   "execution_count": 33,
   "metadata": {
    "collapsed": true
   },
   "outputs": [],
   "source": [
    "voca = ['highlander','pilot','pathfinder','santa']"
   ]
  },
  {
   "cell_type": "code",
   "execution_count": 34,
   "metadata": {
    "scrolled": true
   },
   "outputs": [
    {
     "name": "stdout",
     "output_type": "stream",
     "text": [
      "15년도 SUV빈도수 : 0.0\n",
      "16년도 SUV빈도수 : 0.004032258064516129\n",
      "17년도 SUV빈도수 : 0.03389830508474576\n"
     ]
    }
   ],
   "source": [
    "print(\"15년도 SUV빈도수 : \" + str(review_count(data15, ['highlander','pilot','pathfinder','santa'])))\n",
    "print(\"16년도 SUV빈도수 : \" + str(review_count(data16, ['highlander','pilot','pathfinder','santa'])))\n",
    "print(\"17년도 SUV빈도수 : \" + str(review_count(data17, ['highlander','pilot','pathfinder','santa'])))"
   ]
  },
  {
   "cell_type": "code",
   "execution_count": 75,
   "metadata": {},
   "outputs": [
    {
     "data": {
      "text/plain": [
       "0.024193548387096774"
      ]
     },
     "execution_count": 75,
     "metadata": {},
     "output_type": "execute_result"
    }
   ],
   "source": [
    "TDM_matrix.loc['sum_count'].sum() / len(data16)"
   ]
  },
  {
   "cell_type": "markdown",
   "metadata": {
    "collapsed": true
   },
   "source": [
    "## 17년도 픽업트럭 SUV빈도"
   ]
  },
  {
   "cell_type": "code",
   "execution_count": 66,
   "metadata": {},
   "outputs": [
    {
     "data": {
      "text/plain": [
       "177"
      ]
     },
     "execution_count": 66,
     "metadata": {},
     "output_type": "execute_result"
    }
   ],
   "source": [
    "len(data17)"
   ]
  },
  {
   "cell_type": "code",
   "execution_count": 67,
   "metadata": {
    "collapsed": true
   },
   "outputs": [],
   "source": [
    "voca = ['highlander','durango','cx-9','pilot','pathfinder','4runner','flex','traverse','acadia','explorer','murano','cherokee','qx50','santa']\n",
    "test = [ str(x) for x in data17['text'].values.tolist() ] \n",
    "\n",
    "from sklearn.feature_extraction.text import CountVectorizer\n",
    "vectorizer = CountVectorizer(vocabulary=voca)\n",
    "context = test\n",
    "X = vectorizer.fit_transform(context)\n",
    "TDM_matrix = pd.DataFrame(X.toarray(), columns=vectorizer.get_feature_names())\n",
    "\n",
    "for column in TDM_matrix.columns:\n",
    "    TDM_matrix.loc[TDM_matrix[column] != 0, column] = 1\n",
    "    \n",
    "    \n",
    "TDM_matrix.loc[('sum_count')] = [ TDM_matrix[x].sum() for x in TDM_matrix.columns ]"
   ]
  },
  {
   "cell_type": "code",
   "execution_count": 71,
   "metadata": {},
   "outputs": [
    {
     "data": {
      "text/plain": [
       "highlander    0\n",
       "durango       0\n",
       "cx-9          0\n",
       "pilot         6\n",
       "pathfinder    0\n",
       "4runner       0\n",
       "flex          0\n",
       "traverse      0\n",
       "acadia        0\n",
       "explorer      0\n",
       "murano        2\n",
       "cherokee      1\n",
       "qx50          0\n",
       "santa         0\n",
       "Name: sum_count, dtype: int64"
      ]
     },
     "execution_count": 71,
     "metadata": {},
     "output_type": "execute_result"
    }
   ],
   "source": [
    "TDM_matrix.loc['sum_count']"
   ]
  },
  {
   "cell_type": "code",
   "execution_count": 70,
   "metadata": {},
   "outputs": [
    {
     "data": {
      "text/plain": [
       "0.05084745762711865"
      ]
     },
     "execution_count": 70,
     "metadata": {},
     "output_type": "execute_result"
    }
   ],
   "source": [
    "TDM_matrix.loc['sum_count'].sum() / len(data17)"
   ]
  },
  {
   "cell_type": "markdown",
   "metadata": {},
   "source": [
    "## 12~15년도"
   ]
  },
  {
   "cell_type": "code",
   "execution_count": 28,
   "metadata": {},
   "outputs": [],
   "source": [
    "data = open('all_truck_review(12~15).json').read()\n",
    "data = pd.DataFrame(json.loads(data))"
   ]
  },
  {
   "cell_type": "code",
   "execution_count": 29,
   "metadata": {
    "collapsed": true
   },
   "outputs": [],
   "source": [
    "data12 = data[data['year_dummy']==2012]\n",
    "data13 = data[data['year_dummy']==2013]\n",
    "data14 = data[data['year_dummy']==2014]\n",
    "data15 = data[data['year_dummy']==2015]"
   ]
  },
  {
   "cell_type": "code",
   "execution_count": 97,
   "metadata": {},
   "outputs": [
    {
     "data": {
      "text/plain": [
       "0.024193548387096774"
      ]
     },
     "execution_count": 97,
     "metadata": {},
     "output_type": "execute_result"
    }
   ],
   "source": [
    "voca = ['highlander','durango','cx-9','pilot','pathfinder','4runner','flex','traverse','acadia','explorer','murano','cherokee','qx50','santa']\n",
    "test = [ str(x) for x in data16['text'].values.tolist() ] \n",
    "\n",
    "from sklearn.feature_extraction.text import CountVectorizer\n",
    "vectorizer = CountVectorizer(vocabulary=voca)\n",
    "context = test\n",
    "X = vectorizer.fit_transform(context)\n",
    "TDM_matrix = pd.DataFrame(X.toarray(), columns=vectorizer.get_feature_names())\n",
    "\n",
    "for column in TDM_matrix.columns:\n",
    "    TDM_matrix.loc[TDM_matrix[column] != 0, column] = 1\n",
    "    \n",
    "    \n",
    "TDM_matrix.loc[('sum_count')] = [ TDM_matrix[x].sum() for x in TDM_matrix.columns ]\n",
    "\n",
    "TDM_matrix.loc['sum_count'].sum() / len(data16)"
   ]
  },
  {
   "cell_type": "code",
   "execution_count": 92,
   "metadata": {},
   "outputs": [
    {
     "data": {
      "text/plain": [
       "highlander    0\n",
       "durango       0\n",
       "cx-9          0\n",
       "pilot         0\n",
       "pathfinder    0\n",
       "4runner       1\n",
       "flex          1\n",
       "traverse      1\n",
       "acadia        0\n",
       "explorer      0\n",
       "murano        1\n",
       "cherokee      1\n",
       "qx50          0\n",
       "santa         1\n",
       "Name: sum_count, dtype: int64"
      ]
     },
     "execution_count": 92,
     "metadata": {},
     "output_type": "execute_result"
    }
   ],
   "source": [
    "TDM_matrix.loc['sum_count']"
   ]
  },
  {
   "cell_type": "code",
   "execution_count": 95,
   "metadata": {},
   "outputs": [
    {
     "data": {
      "text/plain": [
       "177"
      ]
     },
     "execution_count": 95,
     "metadata": {},
     "output_type": "execute_result"
    }
   ],
   "source": [
    "len(data17)"
   ]
  }
 ],
 "metadata": {
  "kernelspec": {
   "display_name": "Python 3",
   "language": "python",
   "name": "python3"
  },
  "language_info": {
   "codemirror_mode": {
    "name": "ipython",
    "version": 3
   },
   "file_extension": ".py",
   "mimetype": "text/x-python",
   "name": "python",
   "nbconvert_exporter": "python",
   "pygments_lexer": "ipython3",
   "version": "3.6.1"
  }
 },
 "nbformat": 4,
 "nbformat_minor": 2
}
