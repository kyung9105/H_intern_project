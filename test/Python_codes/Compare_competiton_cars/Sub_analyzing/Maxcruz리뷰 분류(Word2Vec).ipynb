{
 "cells": [
  {
   "cell_type": "markdown",
   "metadata": {},
   "source": [
    "# Data Load"
   ]
  },
  {
   "cell_type": "code",
   "execution_count": 2,
   "metadata": {},
   "outputs": [
    {
     "name": "stderr",
     "output_type": "stream",
     "text": [
      "C:\\Users\\Moon\\Anaconda3\\lib\\site-packages\\gensim\\utils.py:865: UserWarning: detected Windows; aliasing chunkize to chunkize_serial\n",
      "  warnings.warn(\"detected Windows; aliasing chunkize to chunkize_serial\")\n"
     ]
    }
   ],
   "source": [
    "import pandas as pd\n",
    "import urllib.request, json\n",
    "import numpy as np\n",
    "import os\n",
    "import matplotlib.pyplot as plt\n",
    "import seaborn as sns\n",
    "%matplotlib inline\n",
    "import nltk, gensim\n",
    "from nltk import word_tokenize"
   ]
  },
  {
   "cell_type": "code",
   "execution_count": 18,
   "metadata": {},
   "outputs": [
    {
     "name": "stdout",
     "output_type": "stream",
     "text": [
      "showing info https://raw.githubusercontent.com/nltk/nltk_data/gh-pages/index.xml\n"
     ]
    },
    {
     "data": {
      "text/plain": [
       "True"
      ]
     },
     "execution_count": 18,
     "metadata": {},
     "output_type": "execute_result"
    }
   ],
   "source": [
    "nltk.download()"
   ]
  },
  {
   "cell_type": "code",
   "execution_count": 5,
   "metadata": {
    "scrolled": true
   },
   "outputs": [
    {
     "name": "stdout",
     "output_type": "stream",
     "text": [
      "(306, 30)\n"
     ]
    }
   ],
   "source": [
    "os.chdir('C:\\\\Users\\\\Moon\\\\Google 드라이브\\\\경배끄10\\\\인턴\\\\csv파일\\\\리뷰들\\\\SUV리뷰')\n",
    "data = open('all_suv_review2(15~17).json').read()\n",
    "review = pd.DataFrame(json.loads(data))\n",
    "print(review.shape)"
   ]
  },
  {
   "cell_type": "code",
   "execution_count": 7,
   "metadata": {},
   "outputs": [
    {
     "name": "stdout",
     "output_type": "stream",
     "text": [
      "(1281, 30)\n"
     ]
    }
   ],
   "source": [
    "os.chdir('C:\\\\Users\\\\Moon\\\\Google 드라이브\\\\경배끄10\\\\인턴\\\\csv파일\\\\리뷰들\\\\SUV리뷰')\n",
    "data = open('all_suv_review(15~17).json').read()\n",
    "review2 = pd.DataFrame(json.loads(data))\n",
    "print(review2.shape)"
   ]
  },
  {
   "cell_type": "code",
   "execution_count": 14,
   "metadata": {},
   "outputs": [
    {
     "name": "stdout",
     "output_type": "stream",
     "text": [
      "(1587, 30)\n"
     ]
    },
    {
     "data": {
      "text/html": [
       "<div>\n",
       "<style>\n",
       "    .dataframe thead tr:only-child th {\n",
       "        text-align: right;\n",
       "    }\n",
       "\n",
       "    .dataframe thead th {\n",
       "        text-align: left;\n",
       "    }\n",
       "\n",
       "    .dataframe tbody tr th {\n",
       "        vertical-align: top;\n",
       "    }\n",
       "</style>\n",
       "<table border=\"1\" class=\"dataframe\">\n",
       "  <thead>\n",
       "    <tr style=\"text-align: right;\">\n",
       "      <th></th>\n",
       "      <th>author</th>\n",
       "      <th>averageRating</th>\n",
       "      <th>carDetailsDto</th>\n",
       "      <th>comfortRatingDto</th>\n",
       "      <th>commentsCount</th>\n",
       "      <th>created</th>\n",
       "      <th>favoriteFeatures</th>\n",
       "      <th>id</th>\n",
       "      <th>interiorRatingDto</th>\n",
       "      <th>legacyId</th>\n",
       "      <th>...</th>\n",
       "      <th>suggestedImprovements</th>\n",
       "      <th>technologyRatingDto</th>\n",
       "      <th>text</th>\n",
       "      <th>thumbsUpDownCounter</th>\n",
       "      <th>title</th>\n",
       "      <th>updated</th>\n",
       "      <th>userRating</th>\n",
       "      <th>valueRatingDto</th>\n",
       "      <th>version</th>\n",
       "      <th>year_dummy</th>\n",
       "    </tr>\n",
       "  </thead>\n",
       "  <tbody>\n",
       "    <tr>\n",
       "      <th>1</th>\n",
       "      <td>{'authorName': 'Brian125', 'cognitoId': 'us-ea...</td>\n",
       "      <td>4</td>\n",
       "      <td>None</td>\n",
       "      <td>{'comfortRating': 4.0, 'frontSeats': 'OKAY', '...</td>\n",
       "      <td>0.0</td>\n",
       "      <td>1.499772e+12</td>\n",
       "      <td>None</td>\n",
       "      <td>1197426175753150464</td>\n",
       "      <td>{'interiorRating': 4.0, 'cargoStorage': 'OKAY'...</td>\n",
       "      <td>1197426175753150464</td>\n",
       "      <td>...</td>\n",
       "      <td>None</td>\n",
       "      <td>{'technologyRating': 4.0, 'entertainment': 'OK...</td>\n",
       "      <td>Babysitting my friend's new Edge till I pick h...</td>\n",
       "      <td>{'thumbsDown': 0, 'thumbsUp': 1}</td>\n",
       "      <td>Not a bad Cross over</td>\n",
       "      <td>1.500380e+12</td>\n",
       "      <td>4.0</td>\n",
       "      <td>{}</td>\n",
       "      <td>0.0</td>\n",
       "      <td>2017.0</td>\n",
       "    </tr>\n",
       "  </tbody>\n",
       "</table>\n",
       "<p>1 rows × 30 columns</p>\n",
       "</div>"
      ],
      "text/plain": [
       "                                              author averageRating  \\\n",
       "1  {'authorName': 'Brian125', 'cognitoId': 'us-ea...             4   \n",
       "\n",
       "  carDetailsDto                                   comfortRatingDto  \\\n",
       "1          None  {'comfortRating': 4.0, 'frontSeats': 'OKAY', '...   \n",
       "\n",
       "   commentsCount       created favoriteFeatures                   id  \\\n",
       "1            0.0  1.499772e+12             None  1197426175753150464   \n",
       "\n",
       "                                   interiorRatingDto             legacyId  \\\n",
       "1  {'interiorRating': 4.0, 'cargoStorage': 'OKAY'...  1197426175753150464   \n",
       "\n",
       "     ...     suggestedImprovements  \\\n",
       "1    ...                      None   \n",
       "\n",
       "                                 technologyRatingDto  \\\n",
       "1  {'technologyRating': 4.0, 'entertainment': 'OK...   \n",
       "\n",
       "                                                text  \\\n",
       "1  Babysitting my friend's new Edge till I pick h...   \n",
       "\n",
       "                thumbsUpDownCounter                 title       updated  \\\n",
       "1  {'thumbsDown': 0, 'thumbsUp': 1}  Not a bad Cross over  1.500380e+12   \n",
       "\n",
       "  userRating valueRatingDto version year_dummy  \n",
       "1        4.0             {}     0.0     2017.0  \n",
       "\n",
       "[1 rows x 30 columns]"
      ]
     },
     "execution_count": 14,
     "metadata": {},
     "output_type": "execute_result"
    }
   ],
   "source": [
    "SUV = pd.concat([review, review2])\n",
    "print(SUV.shape)\n",
    "SUV.head(1)"
   ]
  },
  {
   "cell_type": "markdown",
   "metadata": {},
   "source": [
    "# Word2Vec으로 리뷰분류하기\n",
    "* Step1 : Word2Vec을 활용하여 리뷰 각 단어들을 Clustering한다.\n",
    "* Step2 : 각 단어들의 유사성을 비교하여 각 단어의 Scoring을 하고, **유사도(가중치)** 매트릭스를 만든다.\n",
    "* Step3 : TDM 을 만들어 각 리뷰별 해당 단어가 빈도수를 체크하는 Matrix를 만든다\n",
    "* Step4 : 유사도 Matrix와 TDM을 **내적**하여 각 리뷰별 단어의 중요도를 평가하여 해당 리뷰를 특정 영역으로 **Clustering**한다."
   ]
  },
  {
   "cell_type": "code",
   "execution_count": 15,
   "metadata": {
    "scrolled": true
   },
   "outputs": [],
   "source": [
    "# text 문장만 추출하기\n",
    "SUV = SUV['text'].dropna()"
   ]
  },
  {
   "cell_type": "code",
   "execution_count": 19,
   "metadata": {},
   "outputs": [],
   "source": [
    "# 문장 토크나이징\n",
    "sentence = [ nltk.word_tokenize(x) for x in SUV.dropna()]"
   ]
  },
  {
   "cell_type": "code",
   "execution_count": 26,
   "metadata": {},
   "outputs": [
    {
     "data": {
      "text/plain": [
       "<gensim.models.word2vec.Word2Vec at 0x215b06aa080>"
      ]
     },
     "execution_count": 26,
     "metadata": {},
     "output_type": "execute_result"
    }
   ],
   "source": [
    "# Word2Vec모델 학습\n",
    "\n",
    "model = gensim.models.Word2Vec(sentence, min_count=1, size=10, window=2, workers=4, sg=1)\n",
    "model"
   ]
  },
  {
   "cell_type": "code",
   "execution_count": 27,
   "metadata": {},
   "outputs": [
    {
     "name": "stdout",
     "output_type": "stream",
     "text": [
      "(13913, 10)\n"
     ]
    },
    {
     "data": {
      "text/html": [
       "<div>\n",
       "<style>\n",
       "    .dataframe thead tr:only-child th {\n",
       "        text-align: right;\n",
       "    }\n",
       "\n",
       "    .dataframe thead th {\n",
       "        text-align: left;\n",
       "    }\n",
       "\n",
       "    .dataframe tbody tr th {\n",
       "        vertical-align: top;\n",
       "    }\n",
       "</style>\n",
       "<table border=\"1\" class=\"dataframe\">\n",
       "  <thead>\n",
       "    <tr style=\"text-align: right;\">\n",
       "      <th></th>\n",
       "      <th>0</th>\n",
       "      <th>1</th>\n",
       "      <th>2</th>\n",
       "      <th>3</th>\n",
       "      <th>4</th>\n",
       "      <th>5</th>\n",
       "      <th>6</th>\n",
       "      <th>7</th>\n",
       "      <th>8</th>\n",
       "      <th>9</th>\n",
       "    </tr>\n",
       "  </thead>\n",
       "  <tbody>\n",
       "    <tr>\n",
       "      <th>.</th>\n",
       "      <td>-0.226704</td>\n",
       "      <td>0.230382</td>\n",
       "      <td>-0.413961</td>\n",
       "      <td>-1.858366</td>\n",
       "      <td>-0.873917</td>\n",
       "      <td>0.046866</td>\n",
       "      <td>0.801484</td>\n",
       "      <td>0.185909</td>\n",
       "      <td>-0.250639</td>\n",
       "      <td>0.056180</td>\n",
       "    </tr>\n",
       "    <tr>\n",
       "      <th>the</th>\n",
       "      <td>-0.731911</td>\n",
       "      <td>1.430056</td>\n",
       "      <td>-0.012164</td>\n",
       "      <td>-0.928676</td>\n",
       "      <td>-0.621849</td>\n",
       "      <td>-0.542365</td>\n",
       "      <td>0.300486</td>\n",
       "      <td>-0.186563</td>\n",
       "      <td>-0.314534</td>\n",
       "      <td>0.999775</td>\n",
       "    </tr>\n",
       "    <tr>\n",
       "      <th>,</th>\n",
       "      <td>-0.955894</td>\n",
       "      <td>0.842828</td>\n",
       "      <td>-0.034094</td>\n",
       "      <td>-1.479844</td>\n",
       "      <td>-0.842591</td>\n",
       "      <td>0.378638</td>\n",
       "      <td>0.027919</td>\n",
       "      <td>-0.097858</td>\n",
       "      <td>-0.233479</td>\n",
       "      <td>0.555398</td>\n",
       "    </tr>\n",
       "    <tr>\n",
       "      <th>and</th>\n",
       "      <td>-1.038178</td>\n",
       "      <td>1.103890</td>\n",
       "      <td>0.187990</td>\n",
       "      <td>-1.259900</td>\n",
       "      <td>-0.914072</td>\n",
       "      <td>0.230184</td>\n",
       "      <td>-0.211842</td>\n",
       "      <td>-0.144520</td>\n",
       "      <td>-0.147221</td>\n",
       "      <td>0.660897</td>\n",
       "    </tr>\n",
       "    <tr>\n",
       "      <th>I</th>\n",
       "      <td>0.456331</td>\n",
       "      <td>1.310812</td>\n",
       "      <td>0.347615</td>\n",
       "      <td>-2.273553</td>\n",
       "      <td>-0.688694</td>\n",
       "      <td>-0.253066</td>\n",
       "      <td>-0.288988</td>\n",
       "      <td>-1.042796</td>\n",
       "      <td>-0.829935</td>\n",
       "      <td>0.667914</td>\n",
       "    </tr>\n",
       "  </tbody>\n",
       "</table>\n",
       "</div>"
      ],
      "text/plain": [
       "            0         1         2         3         4         5         6  \\\n",
       ".   -0.226704  0.230382 -0.413961 -1.858366 -0.873917  0.046866  0.801484   \n",
       "the -0.731911  1.430056 -0.012164 -0.928676 -0.621849 -0.542365  0.300486   \n",
       ",   -0.955894  0.842828 -0.034094 -1.479844 -0.842591  0.378638  0.027919   \n",
       "and -1.038178  1.103890  0.187990 -1.259900 -0.914072  0.230184 -0.211842   \n",
       "I    0.456331  1.310812  0.347615 -2.273553 -0.688694 -0.253066 -0.288988   \n",
       "\n",
       "            7         8         9  \n",
       ".    0.185909 -0.250639  0.056180  \n",
       "the -0.186563 -0.314534  0.999775  \n",
       ",   -0.097858 -0.233479  0.555398  \n",
       "and -0.144520 -0.147221  0.660897  \n",
       "I   -1.042796 -0.829935  0.667914  "
      ]
     },
     "execution_count": 27,
     "metadata": {},
     "output_type": "execute_result"
    }
   ],
   "source": [
    "model_index = model.wv.index2word\n",
    "\n",
    "\n",
    "model_vector = pd.DataFrame(model[model_index], index=model_index)\n",
    "print(model_vector.shape)\n",
    "model_vector.head(5)"
   ]
  },
  {
   "cell_type": "markdown",
   "metadata": {},
   "source": [
    "## 가중치 매트릭스"
   ]
  },
  {
   "cell_type": "code",
   "execution_count": 28,
   "metadata": {},
   "outputs": [],
   "source": [
    "from scipy.spatial import distance\n",
    "from tqdm import tqdm"
   ]
  },
  {
   "cell_type": "code",
   "execution_count": null,
   "metadata": {},
   "outputs": [
    {
     "name": "stderr",
     "output_type": "stream",
     "text": [
      "\n",
      "  0%|                                                                                        | 0/13913 [00:00<?, ?it/s]\n",
      "  0%|                                                                             | 1/13913 [00:03<12:29:27,  3.23s/it]\n",
      "  0%|                                                                             | 2/13913 [00:06<12:15:15,  3.17s/it]\n",
      "  4%|███▏                                                                       | 586/13913 [30:20<12:13:09,  3.30s/it]"
     ]
    }
   ],
   "source": [
    "words = model_vector.index\n",
    "func = distance.euclidean\n",
    "sim_matrix = []\n",
    "for word in tqdm(words):\n",
    "    similarites = []\n",
    "    word_vec = model_vector.loc[word].values.tolist()\n",
    "    for word2 in words:\n",
    "        word2_vec = model_vector.loc[word2].values.tolist()\n",
    "        similarites.append(round(func(word_vec, word2_vec),5))\n",
    "\n",
    "    sim_matrix.append(similarites)"
   ]
  },
  {
   "cell_type": "code",
   "execution_count": 171,
   "metadata": {
    "collapsed": true
   },
   "outputs": [],
   "source": [
    "from sklearn.preprocessing import normalize"
   ]
  },
  {
   "cell_type": "code",
   "execution_count": 172,
   "metadata": {},
   "outputs": [
    {
     "data": {
      "text/html": [
       "<div>\n",
       "<table border=\"1\" class=\"dataframe\">\n",
       "  <thead>\n",
       "    <tr style=\"text-align: right;\">\n",
       "      <th></th>\n",
       "      <th>the</th>\n",
       "      <th>.</th>\n",
       "      <th>,</th>\n",
       "      <th>and</th>\n",
       "      <th>a</th>\n",
       "      <th>to</th>\n",
       "      <th>I</th>\n",
       "      <th>is</th>\n",
       "      <th>it</th>\n",
       "      <th>of</th>\n",
       "      <th>...</th>\n",
       "      <th>cleaning</th>\n",
       "      <th>Feb.</th>\n",
       "      <th>settled</th>\n",
       "      <th>area</th>\n",
       "      <th>prevalent</th>\n",
       "      <th>pick</th>\n",
       "      <th>Given</th>\n",
       "      <th>number</th>\n",
       "      <th>satisfied</th>\n",
       "      <th>paint</th>\n",
       "    </tr>\n",
       "  </thead>\n",
       "  <tbody>\n",
       "    <tr>\n",
       "      <th>the</th>\n",
       "      <td>0.000000</td>\n",
       "      <td>0.028004</td>\n",
       "      <td>0.027345</td>\n",
       "      <td>0.025487</td>\n",
       "      <td>0.033772</td>\n",
       "      <td>0.031786</td>\n",
       "      <td>0.029761</td>\n",
       "      <td>0.030264</td>\n",
       "      <td>0.026388</td>\n",
       "      <td>0.035174</td>\n",
       "      <td>...</td>\n",
       "      <td>0.021118</td>\n",
       "      <td>0.021078</td>\n",
       "      <td>0.023097</td>\n",
       "      <td>0.020677</td>\n",
       "      <td>0.020459</td>\n",
       "      <td>0.021022</td>\n",
       "      <td>0.021264</td>\n",
       "      <td>0.021371</td>\n",
       "      <td>0.024876</td>\n",
       "      <td>0.022169</td>\n",
       "    </tr>\n",
       "    <tr>\n",
       "      <th>.</th>\n",
       "      <td>0.027273</td>\n",
       "      <td>0.000000</td>\n",
       "      <td>0.031736</td>\n",
       "      <td>0.029256</td>\n",
       "      <td>0.028022</td>\n",
       "      <td>0.032405</td>\n",
       "      <td>0.029093</td>\n",
       "      <td>0.028179</td>\n",
       "      <td>0.028188</td>\n",
       "      <td>0.035407</td>\n",
       "      <td>...</td>\n",
       "      <td>0.020197</td>\n",
       "      <td>0.021838</td>\n",
       "      <td>0.022592</td>\n",
       "      <td>0.021998</td>\n",
       "      <td>0.021236</td>\n",
       "      <td>0.022581</td>\n",
       "      <td>0.021724</td>\n",
       "      <td>0.022524</td>\n",
       "      <td>0.020802</td>\n",
       "      <td>0.022475</td>\n",
       "    </tr>\n",
       "    <tr>\n",
       "      <th>,</th>\n",
       "      <td>0.025290</td>\n",
       "      <td>0.030137</td>\n",
       "      <td>0.000000</td>\n",
       "      <td>0.022710</td>\n",
       "      <td>0.031101</td>\n",
       "      <td>0.032456</td>\n",
       "      <td>0.030667</td>\n",
       "      <td>0.026478</td>\n",
       "      <td>0.025663</td>\n",
       "      <td>0.034209</td>\n",
       "      <td>...</td>\n",
       "      <td>0.021754</td>\n",
       "      <td>0.023189</td>\n",
       "      <td>0.023325</td>\n",
       "      <td>0.021634</td>\n",
       "      <td>0.021842</td>\n",
       "      <td>0.020842</td>\n",
       "      <td>0.022055</td>\n",
       "      <td>0.022862</td>\n",
       "      <td>0.023873</td>\n",
       "      <td>0.021626</td>\n",
       "    </tr>\n",
       "    <tr>\n",
       "      <th>and</th>\n",
       "      <td>0.025745</td>\n",
       "      <td>0.030345</td>\n",
       "      <td>0.024805</td>\n",
       "      <td>0.000000</td>\n",
       "      <td>0.033417</td>\n",
       "      <td>0.031359</td>\n",
       "      <td>0.028511</td>\n",
       "      <td>0.030276</td>\n",
       "      <td>0.027963</td>\n",
       "      <td>0.033776</td>\n",
       "      <td>...</td>\n",
       "      <td>0.020710</td>\n",
       "      <td>0.022424</td>\n",
       "      <td>0.022481</td>\n",
       "      <td>0.020581</td>\n",
       "      <td>0.022139</td>\n",
       "      <td>0.020246</td>\n",
       "      <td>0.021206</td>\n",
       "      <td>0.021377</td>\n",
       "      <td>0.024627</td>\n",
       "      <td>0.021866</td>\n",
       "    </tr>\n",
       "  </tbody>\n",
       "</table>\n",
       "<p>4 rows × 1654 columns</p>\n",
       "</div>"
      ],
      "text/plain": [
       "          the         .         ,       and         a        to         I  \\\n",
       "the  0.000000  0.028004  0.027345  0.025487  0.033772  0.031786  0.029761   \n",
       ".    0.027273  0.000000  0.031736  0.029256  0.028022  0.032405  0.029093   \n",
       ",    0.025290  0.030137  0.000000  0.022710  0.031101  0.032456  0.030667   \n",
       "and  0.025745  0.030345  0.024805  0.000000  0.033417  0.031359  0.028511   \n",
       "\n",
       "           is        it        of    ...     cleaning      Feb.   settled  \\\n",
       "the  0.030264  0.026388  0.035174    ...     0.021118  0.021078  0.023097   \n",
       ".    0.028179  0.028188  0.035407    ...     0.020197  0.021838  0.022592   \n",
       ",    0.026478  0.025663  0.034209    ...     0.021754  0.023189  0.023325   \n",
       "and  0.030276  0.027963  0.033776    ...     0.020710  0.022424  0.022481   \n",
       "\n",
       "         area  prevalent      pick     Given    number  satisfied     paint  \n",
       "the  0.020677   0.020459  0.021022  0.021264  0.021371   0.024876  0.022169  \n",
       ".    0.021998   0.021236  0.022581  0.021724  0.022524   0.020802  0.022475  \n",
       ",    0.021634   0.021842  0.020842  0.022055  0.022862   0.023873  0.021626  \n",
       "and  0.020581   0.022139  0.020246  0.021206  0.021377   0.024627  0.021866  \n",
       "\n",
       "[4 rows x 1654 columns]"
      ]
     },
     "execution_count": 172,
     "metadata": {},
     "output_type": "execute_result"
    }
   ],
   "source": [
    "normal_sim = pd.DataFrame((normalize(sim_matrix)),index=model_vector.index, columns=model_vector.index)\n",
    "normal_sim.head(4)"
   ]
  },
  {
   "cell_type": "code",
   "execution_count": 173,
   "metadata": {
    "collapsed": true
   },
   "outputs": [],
   "source": [
    "normal_sim.to_csv('word2vec_model3.csv')"
   ]
  },
  {
   "cell_type": "markdown",
   "metadata": {},
   "source": [
    "## 데이터 다시불러들이기"
   ]
  },
  {
   "cell_type": "code",
   "execution_count": 274,
   "metadata": {},
   "outputs": [],
   "source": [
    "## Matrix 불러오기\n",
    "os.chdir('C:\\\\Users\\\\kb910\\\\Google 드라이브\\\\경배끄10\\\\인턴\\\\csv파일\\\\complain')\n",
    "normal_sim = pd.read_csv('word2vec_model2.csv')\n"
   ]
  },
  {
   "cell_type": "code",
   "execution_count": 275,
   "metadata": {},
   "outputs": [],
   "source": [
    "test = normal_sim['Unnamed: 0'].values\n",
    "normal_sim = normal_sim.drop(['Unnamed: 0'], axis=1)\n",
    "normal_sim.index = test"
   ]
  },
  {
   "cell_type": "markdown",
   "metadata": {},
   "source": [
    "# TDM 만들기 / 목표 단어 가중치 매트릭스만들기"
   ]
  },
  {
   "cell_type": "code",
   "execution_count": 276,
   "metadata": {},
   "outputs": [
    {
     "data": {
      "text/plain": [
       "(155, 3196)"
      ]
     },
     "execution_count": 276,
     "metadata": {},
     "output_type": "execute_result"
    }
   ],
   "source": [
    "test = [ str(x) for x in Maxcruz2.values.tolist() ] \n",
    "\n",
    "voca = normal_sim.columns\n",
    "\n",
    "from sklearn.feature_extraction.text import CountVectorizer\n",
    "vectorizer = CountVectorizer(vocabulary=voca)\n",
    "context = test\n",
    "X = vectorizer.fit_transform(context)\n",
    "TDM_matrix = pd.DataFrame(X.toarray(), columns=vectorizer.get_feature_names())\n",
    "\n",
    "for column in TDM_matrix.columns:\n",
    "    TDM_matrix.loc[TDM_matrix[column] != 0, column] = 1\n",
    "    \n",
    "TDM_matrix.shape"
   ]
  },
  {
   "cell_type": "code",
   "execution_count": 277,
   "metadata": {},
   "outputs": [
    {
     "name": "stdout",
     "output_type": "stream",
     "text": [
      "(155, 4)\n"
     ]
    },
    {
     "data": {
      "text/html": [
       "<div>\n",
       "<table border=\"1\" class=\"dataframe\">\n",
       "  <thead>\n",
       "    <tr style=\"text-align: right;\">\n",
       "      <th></th>\n",
       "      <th>cargo</th>\n",
       "      <th>price</th>\n",
       "      <th>interior</th>\n",
       "      <th>technology</th>\n",
       "    </tr>\n",
       "  </thead>\n",
       "  <tbody>\n",
       "    <tr>\n",
       "      <th>0</th>\n",
       "      <td>1.172884</td>\n",
       "      <td>1.321155</td>\n",
       "      <td>1.272589</td>\n",
       "      <td>1.199085</td>\n",
       "    </tr>\n",
       "    <tr>\n",
       "      <th>1</th>\n",
       "      <td>4.178007</td>\n",
       "      <td>4.743160</td>\n",
       "      <td>4.603252</td>\n",
       "      <td>4.443945</td>\n",
       "    </tr>\n",
       "    <tr>\n",
       "      <th>2</th>\n",
       "      <td>3.688302</td>\n",
       "      <td>4.042762</td>\n",
       "      <td>4.013352</td>\n",
       "      <td>3.865160</td>\n",
       "    </tr>\n",
       "    <tr>\n",
       "      <th>3</th>\n",
       "      <td>1.377639</td>\n",
       "      <td>1.495099</td>\n",
       "      <td>1.482581</td>\n",
       "      <td>1.469132</td>\n",
       "    </tr>\n",
       "    <tr>\n",
       "      <th>4</th>\n",
       "      <td>0.293908</td>\n",
       "      <td>0.319489</td>\n",
       "      <td>0.306339</td>\n",
       "      <td>0.272668</td>\n",
       "    </tr>\n",
       "  </tbody>\n",
       "</table>\n",
       "</div>"
      ],
      "text/plain": [
       "      cargo     price  interior  technology\n",
       "0  1.172884  1.321155  1.272589    1.199085\n",
       "1  4.178007  4.743160  4.603252    4.443945\n",
       "2  3.688302  4.042762  4.013352    3.865160\n",
       "3  1.377639  1.495099  1.482581    1.469132\n",
       "4  0.293908  0.319489  0.306339    0.272668"
      ]
     },
     "execution_count": 277,
     "metadata": {},
     "output_type": "execute_result"
    }
   ],
   "source": [
    "columns = ['cargo','price','interior','technology']\n",
    "ext_sim = normal_sim[columns]\n",
    "\n",
    "test = pd.DataFrame(np.dot(TDM_matrix, ext_sim), columns=columns)\n",
    "print(test.shape)\n",
    "test.head(5)"
   ]
  },
  {
   "cell_type": "code",
   "execution_count": 174,
   "metadata": {
    "scrolled": true
   },
   "outputs": [
    {
     "data": {
      "text/plain": [
       "'C:\\\\Users\\\\kb910\\\\Google 드라이브\\\\경배끄10\\\\인턴\\\\csv파일\\\\complain'"
      ]
     },
     "execution_count": 174,
     "metadata": {},
     "output_type": "execute_result"
    }
   ],
   "source": [
    "len(test2[test2['cargo']==1])"
   ]
  }
 ],
 "metadata": {
  "kernelspec": {
   "display_name": "Python 3",
   "language": "python",
   "name": "python3"
  },
  "language_info": {
   "codemirror_mode": {
    "name": "ipython",
    "version": 3
   },
   "file_extension": ".py",
   "mimetype": "text/x-python",
   "name": "python",
   "nbconvert_exporter": "python",
   "pygments_lexer": "ipython3",
   "version": "3.6.1"
  }
 },
 "nbformat": 4,
 "nbformat_minor": 2
}
