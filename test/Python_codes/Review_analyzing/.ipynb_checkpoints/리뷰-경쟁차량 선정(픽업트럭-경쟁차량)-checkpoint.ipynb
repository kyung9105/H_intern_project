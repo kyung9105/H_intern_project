{
 "cells": [
  {
   "cell_type": "code",
   "execution_count": 1,
   "metadata": {
    "collapsed": false
   },
   "outputs": [
    {
     "name": "stderr",
     "output_type": "stream",
     "text": [
      "C:\\Users\\kb910\\Anaconda3\\lib\\site-packages\\gensim\\utils.py:865: UserWarning: detected Windows; aliasing chunkize to chunkize_serial\n",
      "  warnings.warn(\"detected Windows; aliasing chunkize to chunkize_serial\")\n"
     ]
    }
   ],
   "source": [
    "import urllib.request, json \n",
    "import pandas as pd\n",
    "import numpy as np\n",
    "import os\n",
    "import nltk, gensim\n",
    "from nltk import word_tokenize"
   ]
  },
  {
   "cell_type": "code",
   "execution_count": 2,
   "metadata": {
    "collapsed": false
   },
   "outputs": [
    {
     "data": {
      "text/plain": [
       "'C:\\\\Users\\\\kb910\\\\Google 드라이브\\\\경배끄10\\\\인턴\\\\python_code\\\\리뷰'"
      ]
     },
     "execution_count": 2,
     "metadata": {},
     "output_type": "execute_result"
    }
   ],
   "source": [
    "os.getcwd()"
   ]
  },
  {
   "cell_type": "markdown",
   "metadata": {},
   "source": [
    "# 리뷰데이터"
   ]
  },
  {
   "cell_type": "markdown",
   "metadata": {},
   "source": [
    "## Pick-up"
   ]
  },
  {
   "cell_type": "code",
   "execution_count": 4,
   "metadata": {
    "collapsed": false
   },
   "outputs": [],
   "source": [
    "os.chdir('C:\\\\Users\\\\kb910\\\\Google 드라이브\\\\경배끄10\\\\인턴\\\\csv파일\\\\리뷰들\\\\픽업리뷰')\n",
    "data = open('mid_pickup_review.json').read()\n",
    "data = pd.DataFrame(json.loads(data))\n"
   ]
  },
  {
   "cell_type": "code",
   "execution_count": 5,
   "metadata": {
    "collapsed": false
   },
   "outputs": [
    {
     "data": {
      "text/plain": [
       "Index(['author', 'averageRating', 'carDetailsDto', 'comfortRatingDto',\n",
       "       'commentsCount', 'created', 'id', 'interiorRatingDto', 'legacyId',\n",
       "       'link', 'make_name', 'model_name', 'newReview', 'performanceRatingDto',\n",
       "       'ratings', 'reliabilityRatingDto', 'safetyRatingDto', 'styleId',\n",
       "       'styleName', 'technologyRatingDto', 'text', 'thumbsUpDownCounter',\n",
       "       'title', 'updated', 'userRating', 'valueRatingDto', 'version',\n",
       "       'year_dummy'],\n",
       "      dtype='object')"
      ]
     },
     "execution_count": 5,
     "metadata": {},
     "output_type": "execute_result"
    }
   ],
   "source": [
    "data.columns"
   ]
  },
  {
   "cell_type": "code",
   "execution_count": 31,
   "metadata": {
    "collapsed": false
   },
   "outputs": [
    {
     "data": {
      "text/plain": [
       "1496112692110.0"
      ]
     },
     "execution_count": 31,
     "metadata": {},
     "output_type": "execute_result"
    }
   ],
   "source": [
    "data['updated'][1]"
   ]
  },
  {
   "cell_type": "code",
   "execution_count": 24,
   "metadata": {
    "collapsed": false
   },
   "outputs": [
    {
     "data": {
      "text/plain": [
       "1500050485138"
      ]
     },
     "execution_count": 24,
     "metadata": {},
     "output_type": "execute_result"
    }
   ],
   "source": [
    "int(\"1500050485138\")"
   ]
  },
  {
   "cell_type": "code",
   "execution_count": 38,
   "metadata": {
    "collapsed": false
   },
   "outputs": [
    {
     "name": "stdout",
     "output_type": "stream",
     "text": [
      "2016-11-01 01:06:53\n"
     ]
    }
   ],
   "source": [
    "import datetime\n",
    "print(\n",
    "    datetime.datetime.fromtimestamp(\n",
    "        int(\"1477930013\")\n",
    "    ).strftime('%Y-%m-%d %H:%M:%S')\n",
    ")"
   ]
  },
  {
   "cell_type": "code",
   "execution_count": 54,
   "metadata": {
    "collapsed": false
   },
   "outputs": [
    {
     "data": {
      "text/plain": [
       "1      1500050485138.0\n",
       "10     1496112692110.0\n",
       "100    1477931989566.0\n",
       "101    1477496358711.0\n",
       "102    1477248153733.0\n",
       "Name: updated, dtype: object"
      ]
     },
     "execution_count": 54,
     "metadata": {},
     "output_type": "execute_result"
    }
   ],
   "source": [
    "data['updated'].apply(str)[:5]"
   ]
  },
  {
   "cell_type": "code",
   "execution_count": 56,
   "metadata": {
    "collapsed": false
   },
   "outputs": [],
   "source": [
    "data['updated'] = data['updated'].apply(str).str[:-5]"
   ]
  },
  {
   "cell_type": "code",
   "execution_count": 59,
   "metadata": {
    "collapsed": false
   },
   "outputs": [
    {
     "name": "stdout",
     "output_type": "stream",
     "text": [
      "2017-07-15 01:41:25\n"
     ]
    }
   ],
   "source": [
    "print(datetime.datetime.fromtimestamp(int(data['updated'][0])).strftime('%Y-%m-%d %H:%M:%S'))"
   ]
  },
  {
   "cell_type": "code",
   "execution_count": 37,
   "metadata": {
    "collapsed": false
   },
   "outputs": [
    {
     "data": {
      "text/plain": [
       "1477930013203.0"
      ]
     },
     "execution_count": 37,
     "metadata": {},
     "output_type": "execute_result"
    }
   ],
   "source": [
    "test = data[['model_name','updated','title']]\n",
    "test[test['title']==\"Super Truck\"]['updated'][0]"
   ]
  },
  {
   "cell_type": "code",
   "execution_count": 62,
   "metadata": {
    "collapsed": false
   },
   "outputs": [],
   "source": [
    "data16 = data[data['year_dummy']==2016]\n",
    "data17 = data[data['year_dummy']==2017]"
   ]
  },
  {
   "cell_type": "markdown",
   "metadata": {},
   "source": [
    "## 16년 픽업트럭 SUV빈도"
   ]
  },
  {
   "cell_type": "code",
   "execution_count": 72,
   "metadata": {
    "collapsed": false,
    "scrolled": true
   },
   "outputs": [
    {
     "data": {
      "text/plain": [
       "248"
      ]
     },
     "execution_count": 72,
     "metadata": {},
     "output_type": "execute_result"
    }
   ],
   "source": [
    "len(data16)"
   ]
  },
  {
   "cell_type": "code",
   "execution_count": 73,
   "metadata": {
    "collapsed": false
   },
   "outputs": [],
   "source": [
    "voca = ['highlander','durango','cx-9','pilot','pathfinder','4runner','flex','traverse','acadia','explorer','murano','cherokee','qx50','santa']\n",
    "test = [ str(x) for x in data16['text'].values.tolist() ] \n",
    "\n",
    "from sklearn.feature_extraction.text import CountVectorizer\n",
    "vectorizer = CountVectorizer(vocabulary=voca)\n",
    "context = test\n",
    "X = vectorizer.fit_transform(context)\n",
    "TDM_matrix = pd.DataFrame(X.toarray(), columns=vectorizer.get_feature_names())\n",
    "\n",
    "for column in TDM_matrix.columns:\n",
    "    TDM_matrix.loc[TDM_matrix[column] != 0, column] = 1\n",
    "    \n",
    "    \n",
    "TDM_matrix.loc[('sum_count')] = [ TDM_matrix[x].sum() for x in TDM_matrix.columns ]"
   ]
  },
  {
   "cell_type": "code",
   "execution_count": 74,
   "metadata": {
    "collapsed": false,
    "scrolled": true
   },
   "outputs": [
    {
     "data": {
      "text/plain": [
       "highlander    0\n",
       "durango       0\n",
       "cx-9          0\n",
       "pilot         0\n",
       "pathfinder    0\n",
       "4runner       1\n",
       "flex          1\n",
       "traverse      1\n",
       "acadia        0\n",
       "explorer      0\n",
       "murano        1\n",
       "cherokee      1\n",
       "qx50          0\n",
       "santa         1\n",
       "Name: sum_count, dtype: int64"
      ]
     },
     "execution_count": 74,
     "metadata": {},
     "output_type": "execute_result"
    }
   ],
   "source": [
    "TDM_matrix.loc['sum_count']"
   ]
  },
  {
   "cell_type": "code",
   "execution_count": 75,
   "metadata": {
    "collapsed": false
   },
   "outputs": [
    {
     "data": {
      "text/plain": [
       "0.024193548387096774"
      ]
     },
     "execution_count": 75,
     "metadata": {},
     "output_type": "execute_result"
    }
   ],
   "source": [
    "TDM_matrix.loc['sum_count'].sum() / len(data16)"
   ]
  },
  {
   "cell_type": "markdown",
   "metadata": {
    "collapsed": true
   },
   "source": [
    "## 17년도 픽업트럭 SUV빈도"
   ]
  },
  {
   "cell_type": "code",
   "execution_count": 66,
   "metadata": {
    "collapsed": false
   },
   "outputs": [
    {
     "data": {
      "text/plain": [
       "177"
      ]
     },
     "execution_count": 66,
     "metadata": {},
     "output_type": "execute_result"
    }
   ],
   "source": [
    "len(data17)"
   ]
  },
  {
   "cell_type": "code",
   "execution_count": 67,
   "metadata": {
    "collapsed": true
   },
   "outputs": [],
   "source": [
    "voca = ['highlander','durango','cx-9','pilot','pathfinder','4runner','flex','traverse','acadia','explorer','murano','cherokee','qx50','santa']\n",
    "test = [ str(x) for x in data17['text'].values.tolist() ] \n",
    "\n",
    "from sklearn.feature_extraction.text import CountVectorizer\n",
    "vectorizer = CountVectorizer(vocabulary=voca)\n",
    "context = test\n",
    "X = vectorizer.fit_transform(context)\n",
    "TDM_matrix = pd.DataFrame(X.toarray(), columns=vectorizer.get_feature_names())\n",
    "\n",
    "for column in TDM_matrix.columns:\n",
    "    TDM_matrix.loc[TDM_matrix[column] != 0, column] = 1\n",
    "    \n",
    "    \n",
    "TDM_matrix.loc[('sum_count')] = [ TDM_matrix[x].sum() for x in TDM_matrix.columns ]"
   ]
  },
  {
   "cell_type": "code",
   "execution_count": 71,
   "metadata": {
    "collapsed": false
   },
   "outputs": [
    {
     "data": {
      "text/plain": [
       "highlander    0\n",
       "durango       0\n",
       "cx-9          0\n",
       "pilot         6\n",
       "pathfinder    0\n",
       "4runner       0\n",
       "flex          0\n",
       "traverse      0\n",
       "acadia        0\n",
       "explorer      0\n",
       "murano        2\n",
       "cherokee      1\n",
       "qx50          0\n",
       "santa         0\n",
       "Name: sum_count, dtype: int64"
      ]
     },
     "execution_count": 71,
     "metadata": {},
     "output_type": "execute_result"
    }
   ],
   "source": [
    "TDM_matrix.loc['sum_count']"
   ]
  },
  {
   "cell_type": "code",
   "execution_count": 70,
   "metadata": {
    "collapsed": false
   },
   "outputs": [
    {
     "data": {
      "text/plain": [
       "0.05084745762711865"
      ]
     },
     "execution_count": 70,
     "metadata": {},
     "output_type": "execute_result"
    }
   ],
   "source": [
    "TDM_matrix.loc['sum_count'].sum() / len(data17)"
   ]
  },
  {
   "cell_type": "markdown",
   "metadata": {},
   "source": [
    "## 12~15년도"
   ]
  },
  {
   "cell_type": "code",
   "execution_count": 77,
   "metadata": {
    "collapsed": false
   },
   "outputs": [],
   "source": [
    "data = open('all_truck_review(12~15).json').read()\n",
    "data = pd.DataFrame(json.loads(data))"
   ]
  },
  {
   "cell_type": "code",
   "execution_count": 78,
   "metadata": {
    "collapsed": true
   },
   "outputs": [],
   "source": [
    "data12 = data[data['year_dummy']==2012]\n",
    "data13 = data[data['year_dummy']==2013]\n",
    "data14 = data[data['year_dummy']==2014]\n",
    "data15 = data[data['year_dummy']==2015]"
   ]
  },
  {
   "cell_type": "code",
   "execution_count": 97,
   "metadata": {
    "collapsed": false
   },
   "outputs": [
    {
     "data": {
      "text/plain": [
       "0.024193548387096774"
      ]
     },
     "execution_count": 97,
     "metadata": {},
     "output_type": "execute_result"
    }
   ],
   "source": [
    "voca = ['highlander','durango','cx-9','pilot','pathfinder','4runner','flex','traverse','acadia','explorer','murano','cherokee','qx50','santa']\n",
    "test = [ str(x) for x in data16['text'].values.tolist() ] \n",
    "\n",
    "from sklearn.feature_extraction.text import CountVectorizer\n",
    "vectorizer = CountVectorizer(vocabulary=voca)\n",
    "context = test\n",
    "X = vectorizer.fit_transform(context)\n",
    "TDM_matrix = pd.DataFrame(X.toarray(), columns=vectorizer.get_feature_names())\n",
    "\n",
    "for column in TDM_matrix.columns:\n",
    "    TDM_matrix.loc[TDM_matrix[column] != 0, column] = 1\n",
    "    \n",
    "    \n",
    "TDM_matrix.loc[('sum_count')] = [ TDM_matrix[x].sum() for x in TDM_matrix.columns ]\n",
    "\n",
    "TDM_matrix.loc['sum_count'].sum() / len(data16)"
   ]
  },
  {
   "cell_type": "code",
   "execution_count": 92,
   "metadata": {
    "collapsed": false
   },
   "outputs": [
    {
     "data": {
      "text/plain": [
       "highlander    0\n",
       "durango       0\n",
       "cx-9          0\n",
       "pilot         0\n",
       "pathfinder    0\n",
       "4runner       1\n",
       "flex          1\n",
       "traverse      1\n",
       "acadia        0\n",
       "explorer      0\n",
       "murano        1\n",
       "cherokee      1\n",
       "qx50          0\n",
       "santa         1\n",
       "Name: sum_count, dtype: int64"
      ]
     },
     "execution_count": 92,
     "metadata": {},
     "output_type": "execute_result"
    }
   ],
   "source": [
    "TDM_matrix.loc['sum_count']"
   ]
  },
  {
   "cell_type": "code",
   "execution_count": 95,
   "metadata": {
    "collapsed": false
   },
   "outputs": [
    {
     "data": {
      "text/plain": [
       "177"
      ]
     },
     "execution_count": 95,
     "metadata": {},
     "output_type": "execute_result"
    }
   ],
   "source": [
    "len(data17)"
   ]
  },
  {
   "cell_type": "code",
   "execution_count": null,
   "metadata": {
    "collapsed": true
   },
   "outputs": [],
   "source": []
  }
 ],
 "metadata": {
  "kernelspec": {
   "display_name": "Python 3",
   "language": "python",
   "name": "python3"
  },
  "language_info": {
   "codemirror_mode": {
    "name": "ipython",
    "version": 3
   },
   "file_extension": ".py",
   "mimetype": "text/x-python",
   "name": "python",
   "nbconvert_exporter": "python",
   "pygments_lexer": "ipython3",
   "version": "3.6.0"
  }
 },
 "nbformat": 4,
 "nbformat_minor": 2
}
